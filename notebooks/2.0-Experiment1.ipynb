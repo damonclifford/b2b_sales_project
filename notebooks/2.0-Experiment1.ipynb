{
 "cells": [
  {
   "cell_type": "markdown",
   "metadata": {},
   "source": [
    "# Experiment #1 - Baseline Model vs. Baseline ML Models"
   ]
  },
  {
   "cell_type": "markdown",
   "metadata": {},
   "source": [
    "## Overview\n",
    "\n",
    "The purpose of this experiment is to establish a baseline for a domain-driven model and to compare it to more sophisticated machine learning models using baseline features. Our baseline model will simply follow our intuited rule:\n",
    "\n",
    "> Include the customer if they belong to tiers S or A, hence we are selecting 475 possible customers, which sounds a reasonable amount of customers to be reached in a certain period of time.\n",
    "\n",
    "To estimate the performance of machine learning models, we will train the following models with some different hyperparameter configurations, selecting the best configuration and averaging the scores of the best models:\n",
    "\n",
    "* Naive Bayes (XXXX)\n",
    "* Decision tree  (XXXX)\n",
    "* Logististic regression (XXXX)\n",
    "* Neural network\n",
    "* SVM (XXXX)\n",
    "\n",
    "Scores will be based on how well a classifier can prioritize 475 customers considering the entire database."
   ]
  },
  {
   "cell_type": "code",
   "execution_count": 1,
   "metadata": {},
   "outputs": [],
   "source": [
    "%load_ext autoreload\n",
    "%autoreload 2\n",
    "\n",
    "from utils import code\n",
    "from plot_libraries import setup_graphics\n",
    "from datasets import get_data"
   ]
  },
  {
   "cell_type": "code",
   "execution_count": 2,
   "metadata": {},
   "outputs": [],
   "source": [
    "# load libraries and set plot parameters\n",
    "import os, random, re, sys, time, warnings\n",
    "import math\n",
    "import numpy as np\n",
    "import pandas as pd\n",
    "import pandas_profiling\n",
    "import matplotlib.pyplot as plt\n",
    "import seaborn as sns\n",
    "from datetime import datetime\n",
    "\n",
    "%matplotlib inline\n",
    "sns.set()\n",
    "pd.options.display.max_columns = None\n",
    "setup_graphics()"
   ]
  },
  {
   "cell_type": "code",
   "execution_count": 3,
   "metadata": {},
   "outputs": [],
   "source": [
    "import scikitplot as skplt\n",
    "\n",
    "# Model evaluation\n",
    "from sklearn.metrics import make_scorer, roc_auc_score, classification_report, confusion_matrix\n",
    "from sklearn.model_selection import train_test_split, cross_val_predict\n",
    "\n",
    "# Support\n",
    "import parameters as params"
   ]
  },
  {
   "cell_type": "markdown",
   "metadata": {},
   "source": [
    "## Data"
   ]
  },
  {
   "cell_type": "code",
   "execution_count": 4,
   "metadata": {},
   "outputs": [
    {
     "data": {
      "text/html": [
       "<div>\n",
       "<style scoped>\n",
       "    .dataframe tbody tr th:only-of-type {\n",
       "        vertical-align: middle;\n",
       "    }\n",
       "\n",
       "    .dataframe tbody tr th {\n",
       "        vertical-align: top;\n",
       "    }\n",
       "\n",
       "    .dataframe thead th {\n",
       "        text-align: right;\n",
       "    }\n",
       "</style>\n",
       "<table border=\"1\" class=\"dataframe\">\n",
       "  <thead>\n",
       "    <tr style=\"text-align: right;\">\n",
       "      <th></th>\n",
       "      <th>Activities_Last_30_Days</th>\n",
       "      <th>Employees</th>\n",
       "      <th>ZoomInfo_Employee_Range</th>\n",
       "      <th>ZoomInfo_Revenue_Range</th>\n",
       "      <th>Organic_Visits</th>\n",
       "      <th>Pct_Organic_Visits</th>\n",
       "      <th>SEO_Visits</th>\n",
       "      <th>URLs_Indexed</th>\n",
       "      <th>ZoomInfo_Global_HQ_Country</th>\n",
       "      <th>Annual_Revenue_converted</th>\n",
       "      <th>Adjusted_Industry</th>\n",
       "      <th>Account_ICP_Score</th>\n",
       "      <th>Account_ICP_Tier</th>\n",
       "      <th>Page_Count</th>\n",
       "      <th>Page_Count_Range</th>\n",
       "      <th>Alexa_Rank</th>\n",
       "      <th>Parent_Account_Status</th>\n",
       "    </tr>\n",
       "    <tr>\n",
       "      <th>Account_ID</th>\n",
       "      <th></th>\n",
       "      <th></th>\n",
       "      <th></th>\n",
       "      <th></th>\n",
       "      <th></th>\n",
       "      <th></th>\n",
       "      <th></th>\n",
       "      <th></th>\n",
       "      <th></th>\n",
       "      <th></th>\n",
       "      <th></th>\n",
       "      <th></th>\n",
       "      <th></th>\n",
       "      <th></th>\n",
       "      <th></th>\n",
       "      <th></th>\n",
       "      <th></th>\n",
       "    </tr>\n",
       "  </thead>\n",
       "  <tbody>\n",
       "    <tr>\n",
       "      <th>0012400000L5cmZ</th>\n",
       "      <td>0.0</td>\n",
       "      <td>10.0</td>\n",
       "      <td>-</td>\n",
       "      <td>-</td>\n",
       "      <td>61688430.0</td>\n",
       "      <td>0.34</td>\n",
       "      <td>61688430.0</td>\n",
       "      <td>27700000.0</td>\n",
       "      <td>-</td>\n",
       "      <td>3.333900e+06</td>\n",
       "      <td>Retail</td>\n",
       "      <td>91.667</td>\n",
       "      <td>Tier A</td>\n",
       "      <td>27700000.0</td>\n",
       "      <td>&gt;1M</td>\n",
       "      <td>331.0</td>\n",
       "      <td>-</td>\n",
       "    </tr>\n",
       "    <tr>\n",
       "      <th>00124000004sEH5</th>\n",
       "      <td>51.0</td>\n",
       "      <td>10000.0</td>\n",
       "      <td>-</td>\n",
       "      <td>-</td>\n",
       "      <td>19397082.0</td>\n",
       "      <td>0.93</td>\n",
       "      <td>28615923.0</td>\n",
       "      <td>76200.0</td>\n",
       "      <td>-</td>\n",
       "      <td>1.333560e+10</td>\n",
       "      <td>Retail</td>\n",
       "      <td>100.000</td>\n",
       "      <td>Tier A</td>\n",
       "      <td>206300.0</td>\n",
       "      <td>Between 100K and 250K</td>\n",
       "      <td>8881.0</td>\n",
       "      <td>Prospect</td>\n",
       "    </tr>\n",
       "    <tr>\n",
       "      <th>00124000004sUGG</th>\n",
       "      <td>0.0</td>\n",
       "      <td>5000.0</td>\n",
       "      <td>-</td>\n",
       "      <td>-</td>\n",
       "      <td>49283858.0</td>\n",
       "      <td>0.53</td>\n",
       "      <td>50132407.0</td>\n",
       "      <td>12600000.0</td>\n",
       "      <td>-</td>\n",
       "      <td>5.556500e+08</td>\n",
       "      <td>Media</td>\n",
       "      <td>100.000</td>\n",
       "      <td>Tier A</td>\n",
       "      <td>12709000.0</td>\n",
       "      <td>&gt;1M</td>\n",
       "      <td>1118.0</td>\n",
       "      <td>Lost Customer</td>\n",
       "    </tr>\n",
       "    <tr>\n",
       "      <th>0011p00002SeaiQ</th>\n",
       "      <td>0.0</td>\n",
       "      <td>383.0</td>\n",
       "      <td>250 - 500</td>\n",
       "      <td>$50 mil. - $100 mil.</td>\n",
       "      <td>177515.0</td>\n",
       "      <td>NaN</td>\n",
       "      <td>177515.0</td>\n",
       "      <td>1090000.0</td>\n",
       "      <td>US</td>\n",
       "      <td>7.360000e+07</td>\n",
       "      <td>Classified</td>\n",
       "      <td>70.833</td>\n",
       "      <td>Tier A</td>\n",
       "      <td>1090000.0</td>\n",
       "      <td>&gt;1M</td>\n",
       "      <td>126905.0</td>\n",
       "      <td>-</td>\n",
       "    </tr>\n",
       "    <tr>\n",
       "      <th>0011p00001SghSL</th>\n",
       "      <td>0.0</td>\n",
       "      <td>5000.0</td>\n",
       "      <td>1,000 - 5,000</td>\n",
       "      <td>$500 mil. - $1 bil.</td>\n",
       "      <td>8052961.0</td>\n",
       "      <td>0.59</td>\n",
       "      <td>10416602.0</td>\n",
       "      <td>2340000.0</td>\n",
       "      <td>US</td>\n",
       "      <td>2.500000e+08</td>\n",
       "      <td>Classified</td>\n",
       "      <td>100.000</td>\n",
       "      <td>Tier A</td>\n",
       "      <td>3640000.0</td>\n",
       "      <td>&gt;1M</td>\n",
       "      <td>4742.0</td>\n",
       "      <td>Prospect</td>\n",
       "    </tr>\n",
       "  </tbody>\n",
       "</table>\n",
       "</div>"
      ],
      "text/plain": [
       "                 Activities_Last_30_Days  Employees ZoomInfo_Employee_Range  \\\n",
       "Account_ID                                                                    \n",
       "0012400000L5cmZ                      0.0       10.0                       -   \n",
       "00124000004sEH5                     51.0    10000.0                       -   \n",
       "00124000004sUGG                      0.0     5000.0                       -   \n",
       "0011p00002SeaiQ                      0.0      383.0               250 - 500   \n",
       "0011p00001SghSL                      0.0     5000.0           1,000 - 5,000   \n",
       "\n",
       "                ZoomInfo_Revenue_Range  Organic_Visits  Pct_Organic_Visits  \\\n",
       "Account_ID                                                                   \n",
       "0012400000L5cmZ                      -      61688430.0                0.34   \n",
       "00124000004sEH5                      -      19397082.0                0.93   \n",
       "00124000004sUGG                      -      49283858.0                0.53   \n",
       "0011p00002SeaiQ   $50 mil. - $100 mil.        177515.0                 NaN   \n",
       "0011p00001SghSL    $500 mil. - $1 bil.       8052961.0                0.59   \n",
       "\n",
       "                 SEO_Visits  URLs_Indexed ZoomInfo_Global_HQ_Country  \\\n",
       "Account_ID                                                             \n",
       "0012400000L5cmZ  61688430.0    27700000.0                          -   \n",
       "00124000004sEH5  28615923.0       76200.0                          -   \n",
       "00124000004sUGG  50132407.0    12600000.0                          -   \n",
       "0011p00002SeaiQ    177515.0     1090000.0                         US   \n",
       "0011p00001SghSL  10416602.0     2340000.0                         US   \n",
       "\n",
       "                 Annual_Revenue_converted Adjusted_Industry  \\\n",
       "Account_ID                                                    \n",
       "0012400000L5cmZ              3.333900e+06            Retail   \n",
       "00124000004sEH5              1.333560e+10            Retail   \n",
       "00124000004sUGG              5.556500e+08             Media   \n",
       "0011p00002SeaiQ              7.360000e+07        Classified   \n",
       "0011p00001SghSL              2.500000e+08        Classified   \n",
       "\n",
       "                 Account_ICP_Score Account_ICP_Tier  Page_Count  \\\n",
       "Account_ID                                                        \n",
       "0012400000L5cmZ             91.667           Tier A  27700000.0   \n",
       "00124000004sEH5            100.000           Tier A    206300.0   \n",
       "00124000004sUGG            100.000           Tier A  12709000.0   \n",
       "0011p00002SeaiQ             70.833           Tier A   1090000.0   \n",
       "0011p00001SghSL            100.000           Tier A   3640000.0   \n",
       "\n",
       "                      Page_Count_Range  Alexa_Rank Parent_Account_Status  \n",
       "Account_ID                                                                \n",
       "0012400000L5cmZ                    >1M       331.0                     -  \n",
       "00124000004sEH5  Between 100K and 250K      8881.0              Prospect  \n",
       "00124000004sUGG                    >1M      1118.0         Lost Customer  \n",
       "0011p00002SeaiQ                    >1M    126905.0                     -  \n",
       "0011p00001SghSL                    >1M      4742.0              Prospect  "
      ]
     },
     "execution_count": 4,
     "metadata": {},
     "output_type": "execute_result"
    }
   ],
   "source": [
    "X, y = get_data('../data/trainDF.csv')\n",
    "X.head()"
   ]
  },
  {
   "cell_type": "code",
   "execution_count": 5,
   "metadata": {},
   "outputs": [
    {
     "name": "stdout",
     "output_type": "stream",
     "text": [
      "Number of instances: 1,849\n",
      "Number of conversions 315\n",
      "Conversion rate: 17.04%\n",
      "Expected number of conversions targetting 475 @ 17.04%: 80\n"
     ]
    }
   ],
   "source": [
    "n_instances = len(X)\n",
    "p_instances = y.sum() / len(y)\n",
    "p_targeted = 475/n_instances\n",
    "n_targeted = int(n_instances*p_targeted)\n",
    "\n",
    "print('Number of instances: {:,}'.format(n_instances))\n",
    "print('Number of conversions {:,}'.format(y.sum()))\n",
    "print('Conversion rate: {:.2f}%'.format(p_instances*100.))\n",
    "print('Expected number of conversions targetting {:,} @ {:.2f}%: {:,}'.format(n_targeted, p_instances*100., int(p_instances * n_targeted)))"
   ]
  },
  {
   "cell_type": "markdown",
   "metadata": {},
   "source": [
    "### Split Dataset"
   ]
  },
  {
   "cell_type": "code",
   "execution_count": 6,
   "metadata": {},
   "outputs": [],
   "source": [
    "X_train, X_test, y_train, y_test = train_test_split(X, y, test_size=.2, stratify=y, random_state=1)\n",
    "n_targeted_test = int(len(X_test) * p_targeted)"
   ]
  },
  {
   "cell_type": "markdown",
   "metadata": {},
   "source": [
    "### Baseline Model"
   ]
  },
  {
   "cell_type": "markdown",
   "metadata": {},
   "source": [
    "To evaluate our baseline model, we will include some financial features, which will allow us to compare with ML models later."
   ]
  },
  {
   "cell_type": "code",
   "execution_count": 7,
   "metadata": {},
   "outputs": [],
   "source": [
    "# Setup costs and benefits\n",
    "avg_revenue = params.AVG_REVENUE\n",
    "avg_cost = params.AVG_COST"
   ]
  },
  {
   "cell_type": "code",
   "execution_count": 8,
   "metadata": {},
   "outputs": [],
   "source": [
    "# Get all of the instances with tiers S&A\n",
    "X_test_SA = X_test[X_test.Account_ICP_Tier.isin(['Tier S', 'Tier A'])]\n",
    "\n",
    "# Calcuate how many more instances we need\n",
    "n_rest = n_targeted_test - len(X_test_SA)\n",
    "\n",
    "# Randomly choose from the remaining instances\n",
    "rest = X_test[~(X_test.index.isin(X_test_SA.index))].sample(n=n_rest, random_state=1)"
   ]
  },
  {
   "cell_type": "code",
   "execution_count": 9,
   "metadata": {},
   "outputs": [],
   "source": [
    "# Combine the targeted and random groups\n",
    "baseline_targets = pd.concat([X_test_SA, rest], axis=0)\n",
    "baseline_ys = y_test.loc[baseline_targets.index]\n",
    "baseline_outcomes = baseline_ys.apply(lambda x: avg_cost if x == 0 else avg_cost + avg_revenue)\n",
    "assert(len(baseline_targets) == n_targeted_test)"
   ]
  },
  {
   "cell_type": "code",
   "execution_count": 10,
   "metadata": {},
   "outputs": [],
   "source": [
    "# Create the random targets\n",
    "random_targets = X_test.sample(n=n_targeted_test)\n",
    "random_ys = y.loc[random_targets.index]\n",
    "random_outcomes = random_ys.apply(lambda x: avg_cost if x == 0 else avg_cost + avg_revenue)"
   ]
  },
  {
   "cell_type": "code",
   "execution_count": 11,
   "metadata": {},
   "outputs": [
    {
     "name": "stdout",
     "output_type": "stream",
     "text": [
      "Number of customers targeted: 95/370\n",
      "\n",
      "Conversion rate under random policy: 13.7%\n",
      "Expected profit under random policy: $12,050\n",
      "\n",
      "Conversion rate under baseline policy: 25.3%\n",
      "Expected profit under baseline policy: $23,050\n",
      "Lift over random policy: 1.9 or $11,000\n"
     ]
    }
   ],
   "source": [
    "# Compute profit\n",
    "random_profit = sum(random_outcomes)\n",
    "baseline_profit = sum(baseline_outcomes)\n",
    "\n",
    "print('Number of customers targeted: {:,}/{:,}\\n'.format(len(baseline_targets), len(X_test)))\n",
    "\n",
    "print('Conversion rate under random policy: {:.1f}%'.format(random_ys.sum() / len(random_ys)*100.))\n",
    "print('Expected profit under random policy: ${:,}\\n'.format(random_profit))\n",
    "\n",
    "print('Conversion rate under baseline policy: {:.3}%'.format(baseline_ys.sum() / len(baseline_ys)*100.))\n",
    "print('Expected profit under baseline policy: ${:,}'.format(baseline_profit))\n",
    "print('Lift over random policy: {:.1f} or ${:,}'.format(baseline_profit / random_profit, baseline_profit - random_profit))"
   ]
  },
  {
   "cell_type": "markdown",
   "metadata": {},
   "source": [
    "### ML Models\n",
    "Optimize each model we're interested in evaluating then choose the best one and estimate financial impact."
   ]
  },
  {
   "cell_type": "code",
   "execution_count": null,
   "metadata": {},
   "outputs": [],
   "source": []
  },
  {
   "cell_type": "code",
   "execution_count": null,
   "metadata": {},
   "outputs": [],
   "source": []
  },
  {
   "cell_type": "code",
   "execution_count": null,
   "metadata": {},
   "outputs": [],
   "source": []
  },
  {
   "cell_type": "code",
   "execution_count": null,
   "metadata": {},
   "outputs": [],
   "source": []
  },
  {
   "cell_type": "code",
   "execution_count": null,
   "metadata": {},
   "outputs": [],
   "source": []
  },
  {
   "cell_type": "code",
   "execution_count": null,
   "metadata": {},
   "outputs": [],
   "source": []
  },
  {
   "cell_type": "code",
   "execution_count": null,
   "metadata": {},
   "outputs": [],
   "source": []
  },
  {
   "cell_type": "code",
   "execution_count": null,
   "metadata": {},
   "outputs": [],
   "source": []
  },
  {
   "cell_type": "markdown",
   "metadata": {},
   "source": [
    "### Analyzing Train DF\n",
    "\n",
    "##### Features importantes\n",
    "* Pct Organic Visits - Se esse número é alto, isso quer dizer que a empresa depende de SEO para gerar receita. Números extremos perto de 0% e perto de 100% provavelmente estão errados/não são confiáveis\n",
    "* SEO Visits -  Quanto maior esse número, em geral, mais poderoso é o time de SEO, e mais faz sentido investir numa tecnologia como a nossa. Abaixo de 1M de visitas orgãnicas ou acima de 500M não faz muito sentido. (deveríamos descartar esses entao?)\n",
    "* Page Count - Quanto maior esse número, em geral, mais poderoso é o time de SEO, e mais faz sentido investir numa tecnologia como a nossa. Abaixo de 25K não faz muito sentido."
   ]
  },
  {
   "cell_type": "markdown",
   "metadata": {},
   "source": [
    "### Missing Values"
   ]
  },
  {
   "cell_type": "code",
   "execution_count": 12,
   "metadata": {},
   "outputs": [
    {
     "ename": "NameError",
     "evalue": "name 'dataset' is not defined",
     "output_type": "error",
     "traceback": [
      "\u001b[0;31m---------------------------------------------------------------------------\u001b[0m",
      "\u001b[0;31mNameError\u001b[0m                                 Traceback (most recent call last)",
      "\u001b[0;32m<ipython-input-12-344c01610b2e>\u001b[0m in \u001b[0;36m<module>\u001b[0;34m\u001b[0m\n\u001b[0;32m----> 1\u001b[0;31m \u001b[0mnan_mean\u001b[0m \u001b[0;34m=\u001b[0m \u001b[0mdataset\u001b[0m\u001b[0;34m.\u001b[0m\u001b[0misna\u001b[0m\u001b[0;34m(\u001b[0m\u001b[0;34m)\u001b[0m\u001b[0;34m.\u001b[0m\u001b[0mmean\u001b[0m\u001b[0;34m(\u001b[0m\u001b[0;34m)\u001b[0m\u001b[0;34m\u001b[0m\u001b[0;34m\u001b[0m\u001b[0m\n\u001b[0m\u001b[1;32m      2\u001b[0m \u001b[0mnan_mean\u001b[0m \u001b[0;34m=\u001b[0m \u001b[0mnan_mean\u001b[0m\u001b[0;34m[\u001b[0m\u001b[0mnan_mean\u001b[0m \u001b[0;34m!=\u001b[0m \u001b[0;36m0\u001b[0m\u001b[0;34m]\u001b[0m\u001b[0;34m.\u001b[0m\u001b[0msort_values\u001b[0m\u001b[0;34m(\u001b[0m\u001b[0;34m)\u001b[0m\u001b[0;34m\u001b[0m\u001b[0;34m\u001b[0m\u001b[0m\n\u001b[1;32m      3\u001b[0m \u001b[0mnan_mean\u001b[0m\u001b[0;34m\u001b[0m\u001b[0;34m\u001b[0m\u001b[0m\n",
      "\u001b[0;31mNameError\u001b[0m: name 'dataset' is not defined"
     ]
    }
   ],
   "source": [
    "nan_mean = dataset.isna().mean()\n",
    "nan_mean = nan_mean[nan_mean != 0].sort_values()\n",
    "nan_mean"
   ]
  },
  {
   "cell_type": "markdown",
   "metadata": {},
   "source": [
    "##### Fill NA Methods\n",
    "* **Alexa_Rank:** MAX\n",
    "* **Account_ICP_Score:** MEDIAN (industry)\n",
    "* **Employees:** MEDIAN (industry)\n",
    "* **Annual_Revenue_converted:** MEDIAN (industry)\n",
    "* **Organic_Visits:** MIN\n",
    "* **Page_Count:** MIN\n",
    "* **Pct_Organic_Visits:**  MIN\n",
    "* **Combined_Pages:** DROP"
   ]
  },
  {
   "cell_type": "code",
   "execution_count": null,
   "metadata": {},
   "outputs": [],
   "source": [
    "fill_max = ['Alexa_Rank' ]\n",
    "fill_min = ['Organic_Visits', 'Page_Count', 'Pct_Organic_Visits']\n",
    "fill_median = ['Account_ICP_Score', 'Employees', 'Annual_Revenue_converted' ]\n",
    "drop_missing_values = ['Combined_Pages']"
   ]
  },
  {
   "cell_type": "code",
   "execution_count": null,
   "metadata": {},
   "outputs": [],
   "source": [
    "dataset[fill_max] = dataset[fill_max].fillna(dataset[fill_max].max())\n",
    "dataset[fill_min] = dataset[fill_min].fillna(dataset[fill_min].min())\n",
    "dataset.drop(columns=drop_missing_values, inplace=True)"
   ]
  },
  {
   "cell_type": "code",
   "execution_count": null,
   "metadata": {},
   "outputs": [],
   "source": [
    "values_dict = dataset.groupby(['Adjusted_Industry'])[fill_median].median().to_dict()\n",
    "for col in fill_median:\n",
    "    dataset[col] = dataset[col].fillna(dataset['Adjusted_Industry'].map(values_dict[col]))"
   ]
  },
  {
   "cell_type": "code",
   "execution_count": null,
   "metadata": {},
   "outputs": [],
   "source": []
  },
  {
   "cell_type": "code",
   "execution_count": null,
   "metadata": {},
   "outputs": [],
   "source": []
  },
  {
   "cell_type": "markdown",
   "metadata": {},
   "source": [
    "### PIPELINE DATACAMP"
   ]
  },
  {
   "cell_type": "code",
   "execution_count": null,
   "metadata": {},
   "outputs": [],
   "source": []
  },
  {
   "cell_type": "code",
   "execution_count": null,
   "metadata": {},
   "outputs": [],
   "source": []
  },
  {
   "cell_type": "code",
   "execution_count": null,
   "metadata": {},
   "outputs": [],
   "source": []
  },
  {
   "cell_type": "code",
   "execution_count": null,
   "metadata": {},
   "outputs": [],
   "source": []
  },
  {
   "cell_type": "code",
   "execution_count": null,
   "metadata": {},
   "outputs": [],
   "source": []
  },
  {
   "cell_type": "code",
   "execution_count": null,
   "metadata": {},
   "outputs": [],
   "source": []
  }
 ],
 "metadata": {
  "kernelspec": {
   "display_name": "Python 3",
   "language": "python",
   "name": "python3"
  },
  "language_info": {
   "codemirror_mode": {
    "name": "ipython",
    "version": 3
   },
   "file_extension": ".py",
   "mimetype": "text/x-python",
   "name": "python",
   "nbconvert_exporter": "python",
   "pygments_lexer": "ipython3",
   "version": "3.7.6"
  }
 },
 "nbformat": 4,
 "nbformat_minor": 4
}

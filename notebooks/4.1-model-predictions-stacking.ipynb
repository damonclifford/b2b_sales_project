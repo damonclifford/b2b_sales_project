{
 "cells": [
  {
   "cell_type": "raw",
   "metadata": {},
   "source": [
    "<script>\n",
    "  function code_toggle() {\n",
    "    if (code_shown){\n",
    "      $('div.input').hide('500');\n",
    "      $('#toggleButton').val('Show Code')\n",
    "    } else {\n",
    "      $('div.input').show('500');\n",
    "      $('#toggleButton').val('Hide Code')\n",
    "    }\n",
    "    code_shown = !code_shown\n",
    "  }\n",
    "\n",
    "  $( document ).ready(function(){\n",
    "    code_shown=false;\n",
    "    $('div.input').hide()\n",
    "  });\n",
    "</script>\n",
    "<form action=\"javascript:code_toggle()\"><input type=\"submit\" id=\"toggleButton\" value=\"Show Code\"></form>"
   ]
  },
  {
   "cell_type": "raw",
   "metadata": {},
   "source": [
    "<script>\n",
    "  $(document).ready(function(){\n",
    "    $('div.prompt').hide();\n",
    "    $('div.back-to-top').hide();\n",
    "    $('nav#menubar').hide();\n",
    "    $('.breadcrumb').hide();\n",
    "    $('.hidden-print').hide();\n",
    "  });\n",
    "</script>\n",
    "\n",
    "<footer id=\"attribution\" style=\"float:right; color:#999; background:#fff;\">\n",
    "Created with Jupyter Lab, by Nicholas Richers.\n",
    "</footer>"
   ]
  },
  {
   "cell_type": "markdown",
   "metadata": {},
   "source": [
    "# Model Predictions"
   ]
  },
  {
   "cell_type": "markdown",
   "metadata": {},
   "source": [
    "Use the best model from the experiments to estimate generalization performance on the test set."
   ]
  },
  {
   "cell_type": "code",
   "execution_count": 1,
   "metadata": {},
   "outputs": [],
   "source": [
    "%load_ext autoreload\n",
    "%autoreload 2\n",
    "\n",
    "from utils import code\n",
    "from plot_libraries import setup_graphics\n",
    "from datasets import get_data"
   ]
  },
  {
   "cell_type": "code",
   "execution_count": 2,
   "metadata": {},
   "outputs": [],
   "source": [
    "#Main Libraries\n",
    "import os, random, re, sys, warnings\n",
    "import numpy as np\n",
    "import pandas as pd\n",
    "import matplotlib.pyplot as plt\n",
    "import seaborn as sns\n",
    "from joblib import load\n",
    "\n",
    "#utils\n",
    "from plot_libraries import setup_graphics,plot_corr_matrix\n",
    "\n",
    "\n",
    "#corr matrix\n",
    "from scipy.stats import spearmanr\n",
    "from scipy.cluster import hierarchy\n",
    "from sklearn.inspection import permutation_importance\n",
    "\n",
    "#Data transform (pipeline)\n",
    "from sklearn.preprocessing import OneHotEncoder, FunctionTransformer, LabelEncoder, OrdinalEncoder\n",
    "from sklearn.preprocessing import MinMaxScaler,RobustScaler\n",
    "from sklearn.compose import ColumnTransformer\n",
    "from sklearn.pipeline import Pipeline, FeatureUnion\n",
    "from sklearn.impute import SimpleImputer\n",
    "from sklearn.model_selection import train_test_split, cross_val_predict\n",
    "from sklearn.calibration import CalibratedClassifierCV\n",
    "\n",
    "\n",
    "\n",
    "# Model evaluation\n",
    "import scikitplot as skplt\n",
    "from sklearn.metrics import make_scorer, roc_auc_score, brier_score_loss, classification_report, confusion_matrix, log_loss\n",
    "from sklearn.model_selection import train_test_split, cross_val_predict\n",
    "from evaluation import plot_learning_curve, evaluate_model, plot_confusion_matrix, evaluate_model_skopt \n",
    "from evaluation import plot_feature_permutation, plot_calibration_curve, get_cv_scores\n",
    "from skopt import BayesSearchCV\n",
    "from skopt.space import Real, Categorical, Integer\n",
    "\n",
    "# Support\n",
    "import parameters as params\n",
    "from model import Model, build_tuned_model\n",
    "from datasets import get_data\n",
    "from experiments import experiment_11, experiment_2, get_scorer\n",
    "from sklearn.metrics import make_scorer, roc_auc_score, brier_score_loss, classification_report, confusion_matrix, f1_score, recall_score\n",
    "\n",
    "#setup\n",
    "warnings.filterwarnings(\"ignore\")\n",
    "pd.options.display.max_columns = None\n",
    "sns.set()\n",
    "%matplotlib inline\n",
    "setup_graphics()"
   ]
  },
  {
   "cell_type": "markdown",
   "metadata": {},
   "source": [
    "## Get Data"
   ]
  },
  {
   "cell_type": "markdown",
   "metadata": {},
   "source": [
    "Load the training and test sets"
   ]
  },
  {
   "cell_type": "code",
   "execution_count": 3,
   "metadata": {},
   "outputs": [],
   "source": [
    "X_future, y_future = get_data('../data/PredDF.csv')\n",
    "X, y = get_data('../data/trainDF.csv')"
   ]
  },
  {
   "cell_type": "markdown",
   "metadata": {},
   "source": [
    "### Loading Pipelines"
   ]
  },
  {
   "cell_type": "code",
   "execution_count": 4,
   "metadata": {},
   "outputs": [
    {
     "name": "stdout",
     "output_type": "stream",
     "text": [
      "Instances: 1,849, Features: 12\n"
     ]
    }
   ],
   "source": [
    "pipeline2 = experiment_2.get_full_pipeline()\n",
    "ps = pipeline2.fit_transform(X).shape\n",
    "print('Instances: {:,}, Features: {}'.format(ps[0], ps[1]))"
   ]
  },
  {
   "cell_type": "code",
   "execution_count": 5,
   "metadata": {},
   "outputs": [
    {
     "name": "stdout",
     "output_type": "stream",
     "text": [
      "Instances: 1,849, Features: 62\n"
     ]
    }
   ],
   "source": [
    "pipeline1 = experiment_11.get_full_pipeline()\n",
    "ps = pipeline1.fit_transform(X).shape\n",
    "print('Instances: {:,}, Features: {}'.format(ps[0], ps[1]))"
   ]
  },
  {
   "cell_type": "code",
   "execution_count": 6,
   "metadata": {},
   "outputs": [],
   "source": [
    "#setup\n",
    "scorer = make_scorer(roc_auc_score)\n",
    "results, res_cv, res_calibrated, n_iter = list(), dict(), dict(), 100"
   ]
  },
  {
   "cell_type": "markdown",
   "metadata": {},
   "source": [
    "#### ML Models\n",
    "\n",
    "Stacking Structure:\n",
    "\n",
    "Level-1:\n",
    "\n",
    "* LogisticRegression(pipeline1 & RandomizedSearchCV=5, n_iter=100)\n",
    "* SGDClassifier(pipeline1 & RandomizedSearchCV=5, n_iter=100)\n",
    "* XGBClassifier(pipeline2 & BayesSearchCV=5, n_iter=100)\n",
    "* LGBMClassifier(pipeline2 & BayesSearchCV=5, n_iter=100)\n",
    "* KNeighborsClassifier(pipeline1 & RandomizedSearchCV=5, n_iter=100)"
   ]
  },
  {
   "cell_type": "markdown",
   "metadata": {},
   "source": [
    "**Logistic Regression**\n",
    "* LogisticRegression(pipeline1 & RandomizedSearchCV=5, n_iter=100)"
   ]
  },
  {
   "cell_type": "code",
   "execution_count": 8,
   "metadata": {},
   "outputs": [
    {
     "name": "stdout",
     "output_type": "stream",
     "text": [
      "==> Starting 5-fold cross validation for lr model, 1849 examples\n",
      "Fitting 5 folds for each of 60 candidates, totalling 300 fits\n"
     ]
    },
    {
     "name": "stderr",
     "output_type": "stream",
     "text": [
      "[Parallel(n_jobs=-1)]: Using backend LokyBackend with 4 concurrent workers.\n",
      "[Parallel(n_jobs=-1)]: Done  10 tasks      | elapsed:    4.4s\n",
      "[Parallel(n_jobs=-1)]: Done  64 tasks      | elapsed:    6.2s\n",
      "[Parallel(n_jobs=-1)]: Done 154 tasks      | elapsed:    9.5s\n",
      "[Parallel(n_jobs=-1)]: Done 280 tasks      | elapsed:   20.1s\n"
     ]
    },
    {
     "name": "stdout",
     "output_type": "stream",
     "text": [
      "==> Elapsed seconds: 26.384\n",
      "Best lr model: LogisticRegression(C=0.01, class_weight={0: 1, 1: 10}, dual=False,\n",
      "                   fit_intercept=True, intercept_scaling=1, l1_ratio=None,\n",
      "                   max_iter=100, multi_class='auto', n_jobs=None, penalty='l1',\n",
      "                   random_state=None, solver='liblinear', tol=0.0001, verbose=0,\n",
      "                   warm_start=False)\n",
      "Best lr score (val): 0.523\n"
     ]
    },
    {
     "name": "stderr",
     "output_type": "stream",
     "text": [
      "[Parallel(n_jobs=-1)]: Done 300 out of 300 | elapsed:   26.2s finished\n"
     ]
    }
   ],
   "source": [
    "from sklearn.linear_model import LogisticRegression\n",
    "import bayes_grid_models as bgrid\n",
    "import param_grid_models as pgrid\n",
    "\n",
    "result = evaluate_model(X, y, 'lr', \n",
    "                        LogisticRegression(), \n",
    "                        pgrid.lr_param_grid, \n",
    "                        scorer, n_iter=n_iter, \n",
    "                        cv_folds=5, pipeline=pipeline1)\n",
    "results.append(result)\n",
    "res_cv[result[1]] = get_cv_scores(result[0])"
   ]
  },
  {
   "cell_type": "markdown",
   "metadata": {},
   "source": [
    "**SGD Classifier**\n",
    "\n",
    "* SGDClassifier(pipeline1 & RandomizedSearchCV=5, n_iter=100)"
   ]
  },
  {
   "cell_type": "code",
   "execution_count": 9,
   "metadata": {},
   "outputs": [
    {
     "name": "stdout",
     "output_type": "stream",
     "text": [
      "==> Starting 5-fold cross validation for sgd model, 1849 examples\n",
      "Fitting 5 folds for each of 100 candidates, totalling 500 fits\n"
     ]
    },
    {
     "name": "stderr",
     "output_type": "stream",
     "text": [
      "[Parallel(n_jobs=-1)]: Using backend LokyBackend with 4 concurrent workers.\n",
      "[Parallel(n_jobs=-1)]: Done  12 tasks      | elapsed:    0.5s\n",
      "[Parallel(n_jobs=-1)]: Done 120 tasks      | elapsed:    5.5s\n",
      "[Parallel(n_jobs=-1)]: Done 300 tasks      | elapsed:   13.1s\n"
     ]
    },
    {
     "name": "stdout",
     "output_type": "stream",
     "text": [
      "==> Elapsed seconds: 21.097\n",
      "Best sgd model: SGDClassifier(alpha=0.1, average=False, class_weight={0: 1, 1: 10},\n",
      "              early_stopping=False, epsilon=0.1, eta0=0.0, fit_intercept=True,\n",
      "              l1_ratio=0.15, learning_rate='optimal', loss='log', max_iter=1000,\n",
      "              n_iter_no_change=5, n_jobs=-1, penalty='elasticnet', power_t=0.5,\n",
      "              random_state=None, shuffle=True, tol=0.001,\n",
      "              validation_fraction=0.1, verbose=0, warm_start=False)\n",
      "Best sgd score (val): 0.527\n"
     ]
    },
    {
     "name": "stderr",
     "output_type": "stream",
     "text": [
      "[Parallel(n_jobs=-1)]: Done 500 out of 500 | elapsed:   21.0s finished\n"
     ]
    }
   ],
   "source": [
    "from sklearn.linear_model import SGDClassifier\n",
    "\n",
    "result = evaluate_model(X, y, 'sgd', \n",
    "                        SGDClassifier(), \n",
    "                        pgrid.sgd_param_grid, \n",
    "                        scorer, n_iter=n_iter, \n",
    "                        cv_folds=5, pipeline=pipeline1)\n",
    "\n",
    "results.append(result)\n",
    "res_cv[result[1]] = get_cv_scores(result[0])"
   ]
  },
  {
   "cell_type": "markdown",
   "metadata": {},
   "source": [
    "**XGBoost**\n",
    "\n",
    "* XGBClassifier(pipeline2 & BayesSearchCV=5, n_iter=100)"
   ]
  },
  {
   "cell_type": "code",
   "execution_count": 10,
   "metadata": {},
   "outputs": [
    {
     "name": "stdout",
     "output_type": "stream",
     "text": [
      "==> Starting 5-fold cross validation for xgb model, 1849 examples\n",
      "==> Elapsed seconds: 627.958\n",
      "Best xgb model: XGBClassifier(base_score=0.5, booster=None,\n",
      "              colsample_bylevel=0.9966985053530335, colsample_bynode=1,\n",
      "              colsample_bytree=0.6107442614214202, gamma=4.38526680311963,\n",
      "              gpu_id=-1, importance_type='gain', interaction_constraints=None,\n",
      "              learning_rate=0.5951103846297292, max_delta_step=0, max_depth=5,\n",
      "              min_child_weight=2, missing=nan, monotone_constraints=None,\n",
      "              n_estimators=111, n_jobs=0, num_parallel_tree=1,\n",
      "              objective='binary:logistic', random_state=0,\n",
      "              reg_alpha=0.6073332669397363, reg_lambda=0.010925407546523507,\n",
      "              scale_pos_weight=9548, subsample=0.6211958518992106,\n",
      "              tree_method=None, validate_parameters=False, verbosity=None)\n",
      "Best xgb score (val): 0.543\n"
     ]
    }
   ],
   "source": [
    "from xgboost import XGBClassifier\n",
    "\n",
    "result = evaluate_model_skopt(X, y, 'xgb', \n",
    "                        XGBClassifier(), \n",
    "                        bgrid.xgb_param_grid, \n",
    "                        scorer, n_iter=n_iter, \n",
    "                        cv_folds=5, pipeline=pipeline2)\n",
    "\n",
    "results.append(result)\n",
    "res_cv[result[1]] = get_cv_scores(result[0])"
   ]
  },
  {
   "cell_type": "markdown",
   "metadata": {},
   "source": [
    "**Light GBM**\n",
    "\n",
    "* LGBMClassifier(pipeline2 & BayesSearchCV=5, n_iter=100)"
   ]
  },
  {
   "cell_type": "code",
   "execution_count": 11,
   "metadata": {},
   "outputs": [
    {
     "name": "stdout",
     "output_type": "stream",
     "text": [
      "==> Starting 5-fold cross validation for lgbm model, 1849 examples\n",
      "==> Elapsed seconds: 599.771\n",
      "Best lgbm model: LGBMClassifier(boosting_type='gbdt', class_weight=None, colsample_bytree=1.0,\n",
      "               importance_type='split', is_unbalance=False,\n",
      "               learning_rate=0.0693926142021155, max_depth=-1,\n",
      "               min_child_samples=20, min_child_weight=0.001, min_split_gain=0.0,\n",
      "               n_estimators=100, n_jobs=-1, num_leaves=2, objective=None,\n",
      "               random_state=None, reg_alpha=0.001, reg_lambda=1.0, silent=True,\n",
      "               subsample=0.5, subsample_for_bin=300000, subsample_freq=0)\n",
      "Best lgbm score (val): 0.542\n"
     ]
    }
   ],
   "source": [
    "from lightgbm import LGBMClassifier\n",
    "\n",
    "result = evaluate_model_skopt(X, y, 'lgbm',\n",
    "                        LGBMClassifier(),\n",
    "                        bgrid.lgbm_param_grid, \n",
    "                        scorer, n_iter=n_iter, \n",
    "                        cv_folds=5, pipeline=pipeline2)\n",
    "\n",
    "results.append(result)\n",
    "res_cv[result[1]] = get_cv_scores(result[0])"
   ]
  },
  {
   "cell_type": "markdown",
   "metadata": {},
   "source": [
    "**K-Nearest Neighboors**\n",
    "\n",
    "* KNeighborsClassifier(pipeline1 & RandomizedSearchCV=5, n_iter=100)"
   ]
  },
  {
   "cell_type": "code",
   "execution_count": 12,
   "metadata": {},
   "outputs": [
    {
     "name": "stdout",
     "output_type": "stream",
     "text": [
      "==> Starting 5-fold cross validation for knn model, 1849 examples\n",
      "Fitting 5 folds for each of 100 candidates, totalling 500 fits\n"
     ]
    },
    {
     "name": "stderr",
     "output_type": "stream",
     "text": [
      "[Parallel(n_jobs=-1)]: Using backend LokyBackend with 4 concurrent workers.\n",
      "[Parallel(n_jobs=-1)]: Done  10 tasks      | elapsed:    2.0s\n",
      "[Parallel(n_jobs=-1)]: Done  64 tasks      | elapsed:   15.7s\n",
      "[Parallel(n_jobs=-1)]: Done 154 tasks      | elapsed:   31.6s\n",
      "[Parallel(n_jobs=-1)]: Done 280 tasks      | elapsed:   54.1s\n",
      "[Parallel(n_jobs=-1)]: Done 442 tasks      | elapsed:  1.4min\n"
     ]
    },
    {
     "name": "stdout",
     "output_type": "stream",
     "text": [
      "==> Elapsed seconds: 93.994\n",
      "Best knn model: KNeighborsClassifier(algorithm='auto', leaf_size=28, metric='euclidean',\n",
      "                     metric_params=None, n_jobs=None, n_neighbors=4, p=2,\n",
      "                     weights='uniform')\n",
      "Best knn score (val): 0.524\n"
     ]
    },
    {
     "name": "stderr",
     "output_type": "stream",
     "text": [
      "[Parallel(n_jobs=-1)]: Done 500 out of 500 | elapsed:  1.6min finished\n"
     ]
    }
   ],
   "source": [
    "from sklearn.neighbors import KNeighborsClassifier\n",
    "\n",
    "result = evaluate_model(X, y, 'knn', \n",
    "                        KNeighborsClassifier(), \n",
    "                        pgrid.knn_param_grid, \n",
    "                        scorer, n_iter=n_iter, \n",
    "                        cv_folds=5, pipeline=pipeline1)\n",
    "\n",
    "results.append(result)\n",
    "res_cv[result[1]] = get_cv_scores(result[0])"
   ]
  },
  {
   "cell_type": "code",
   "execution_count": 26,
   "metadata": {},
   "outputs": [],
   "source": [
    "def get_full_pipeline(results, name): \n",
    "    model = list(filter(lambda x: x[1] == name, results))[0][0]\n",
    "    PATH = '../models_pkl/experiment-2.1-stacking_'+name+'.pkl'\n",
    "    model.save(PATH)\n",
    "    model_pipeline = model.get_model_pipeline()\n",
    "    return model_pipeline"
   ]
  },
  {
   "cell_type": "code",
   "execution_count": 27,
   "metadata": {},
   "outputs": [],
   "source": [
    "level1_clf = []\n",
    "clf_names = ['lr', 'sgd', 'xgb', 'lgbm', 'knn']\n",
    "for name in clf_names:\n",
    "    level1_clf.append(get_full_pipeline(results, name))"
   ]
  },
  {
   "cell_type": "markdown",
   "metadata": {},
   "source": [
    "-------------------\n",
    "-------------------"
   ]
  },
  {
   "cell_type": "markdown",
   "metadata": {},
   "source": [
    "### Stacking"
   ]
  },
  {
   "cell_type": "code",
   "execution_count": 11,
   "metadata": {},
   "outputs": [],
   "source": [
    "from sklearn.linear_model import LogisticRegression\n",
    "from sklearn.linear_model import SGDClassifier\n",
    "from xgboost import XGBClassifier\n",
    "from lightgbm import LGBMClassifier\n",
    "from sklearn.neighbors import KNeighborsClassifier\n",
    "from mlxtend.classifier import StackingCVClassifier\n",
    "from sklearn import model_selection"
   ]
  },
  {
   "cell_type": "code",
   "execution_count": 12,
   "metadata": {},
   "outputs": [],
   "source": [
    "models_l1, level1_clf = {}, []\n",
    "clf_names = ['lr', 'sgd', 'xgb', 'lgbm', 'knn', 'StackingClassifier']\n",
    "\n",
    "for name in clf_names[:-1]:\n",
    "    PATH = '../models_pkl/experiment-2.1-stacking_'+name+'.pkl'\n",
    "    model = Model.load(PATH)\n",
    "    model_pipeline = model.get_model_pipeline()\n",
    "    level1_clf.append(model_pipeline)"
   ]
  },
  {
   "cell_type": "code",
   "execution_count": 9,
   "metadata": {
    "jupyter": {
     "source_hidden": true
    }
   },
   "outputs": [
    {
     "name": "stdout",
     "output_type": "stream",
     "text": [
      "Best parameters: {'meta_classifier__tol': 0.0001, 'meta_classifier__solver': 'liblinear', 'meta_classifier__penalty': 'l2', 'meta_classifier__max_iter': 100, 'meta_classifier__class_weight': 'balanced', 'meta_classifier__C': 0.01}\n",
      "AUC: 0.576\n",
      "CPU times: user 27min 21s, sys: 3min 19s, total: 30min 41s\n",
      "Wall time: 18min 36s\n"
     ]
    }
   ],
   "source": [
    "%%time\n",
    "from sklearn.model_selection import RandomizedSearchCV\n",
    "\n",
    "model_l2 = LogisticRegression()\n",
    "stack_clf = level1_clf.copy()\n",
    "sclf1 = StackingCVClassifier(classifiers=level1_clf, \n",
    "                            meta_classifier=model_l2,\n",
    "                            store_train_meta_features=True,\n",
    "                            random_state=20, cv=5,\n",
    "                            verbose=0, use_probas=False)\n",
    "\n",
    "\n",
    "\n",
    "\n",
    "\n",
    "params = {\n",
    "  'meta_classifier__C': np.logspace(-3, 2, 6), \n",
    "  'meta_classifier__max_iter': [10, 50, 100, 200, 500],\n",
    "  'meta_classifier__penalty':  ['l1', 'l2'], \n",
    "  'meta_classifier__solver': ['liblinear'],\n",
    "  'meta_classifier__tol': [0.0001, 0.001 ,0.01],\n",
    "  'meta_classifier__class_weight': [None, {0:1,1:1}, {0:1,1:10}, {0:1,1:100}, 'balanced']\n",
    "}\n",
    "\n",
    "\n",
    "\n",
    "grid = RandomizedSearchCV(estimator=sclf1, \n",
    "                    param_distributions=params, \n",
    "                    scoring=scorer,\n",
    "                    cv=5,\n",
    "                    n_iter=50,\n",
    "                    refit=True,\n",
    "                    verbose=0)\n",
    "\n",
    "grid.fit(X, y)\n",
    "\n",
    "print('Best parameters: %s' % grid.best_params_)\n",
    "print('AUC: %.3f' % grid.best_score_)"
   ]
  },
  {
   "cell_type": "code",
   "execution_count": 13,
   "metadata": {},
   "outputs": [
    {
     "name": "stdout",
     "output_type": "stream",
     "text": [
      "5-fold cross validation:\n",
      "\n",
      "AUC: 0.575 (+/- 0.05) [StackingClassifier]\n",
      "CPU times: user 41 s, sys: 1.06 s, total: 42.1 s\n",
      "Wall time: 14.2 s\n"
     ]
    }
   ],
   "source": [
    "%%time\n",
    "\n",
    "best_params ={'meta_classifier__tol': 0.0001,\n",
    "              'meta_classifier__solver': 'liblinear',\n",
    "              'meta_classifier__penalty': 'l2',\n",
    "              'meta_classifier__max_iter': 100,\n",
    "              'meta_classifier__class_weight': 'balanced',\n",
    "              'meta_classifier__C': 0.01}\n",
    "\n",
    "\n",
    "best_model = list(best_params.values())\n",
    "#best_model = list(grid.best_params_.values())\n",
    "model_l2 = LogisticRegression(tol=best_model[0],\n",
    "                              solver=best_model[1],\n",
    "                              penalty=best_model[2],\n",
    "                              max_iter =best_model[3],\n",
    "                              class_weight=best_model[4],\n",
    "                              C=best_model[5])\n",
    "\n",
    "\n",
    "stack_clf = level1_clf.copy()\n",
    "sclf2 = StackingCVClassifier(classifiers=level1_clf, \n",
    "                            meta_classifier=model_l2,\n",
    "                            store_train_meta_features=True,\n",
    "                            random_state=20, cv=5,\n",
    "                            verbose=0, use_probas=False)\n",
    "\n",
    "\n",
    "stack_clf.append(sclf2)                                      \n",
    "print('5-fold cross validation:\\n')\n",
    "scores = model_selection.cross_val_score(sclf2, X, y, cv=5, scoring=scorer)\n",
    "print(\"AUC: %0.3f (+/- %0.2f) [%s]\"  % (scores.mean(), scores.std(), clf_names[-1]))"
   ]
  },
  {
   "cell_type": "code",
   "execution_count": 14,
   "metadata": {},
   "outputs": [
    {
     "name": "stdout",
     "output_type": "stream",
     "text": [
      "              precision    recall  f1-score   support\n",
      "\n",
      "           0       0.95      0.08      0.15      1534\n",
      "           1       0.18      0.98      0.30       315\n",
      "\n",
      "    accuracy                           0.24      1849\n",
      "   macro avg       0.56      0.53      0.23      1849\n",
      "weighted avg       0.82      0.24      0.18      1849\n",
      "\n"
     ]
    },
    {
     "data": {
      "image/png": "[encoded data removed]",
      "text/plain": [
       "<Figure size 432x288 with 2 Axes>"
      ]
     },
     "metadata": {},
     "output_type": "display_data"
    }
   ],
   "source": [
    "sclf2.fit(X, y)\n",
    "l2 = sclf2.predict(X); setup_graphics()  \n",
    "plot_confusion_matrix(y, l2)"
   ]
  },
  {
   "cell_type": "markdown",
   "metadata": {},
   "source": [
    "### Making Predictions"
   ]
  },
  {
   "cell_type": "code",
   "execution_count": 6,
   "metadata": {},
   "outputs": [
    {
     "data": {
      "text/plain": [
       "LGBMClassifier(boosting_type='goss', class_weight=None, colsample_bytree=0.6,\n",
       "               importance_type='split', is_unbalance=False, learning_rate=1.0,\n",
       "               max_depth=-1, min_child_samples=20, min_child_weight=0.001,\n",
       "               min_split_gain=0.0, n_estimators=100, n_jobs=-1, num_leaves=2,\n",
       "               objective=None, random_state=None, reg_alpha=1.0, reg_lambda=1.0,\n",
       "               silent=True, subsample=0.5, subsample_for_bin=300000,\n",
       "               subsample_freq=0)"
      ]
     },
     "execution_count": 6,
     "metadata": {},
     "output_type": "execute_result"
    }
   ],
   "source": [
    "model = Model.load('../models_pkl/final-model.pkl')\n",
    "model.model"
   ]
  },
  {
   "cell_type": "code",
   "execution_count": 23,
   "metadata": {},
   "outputs": [
    {
     "data": {
      "text/plain": [
       "LogisticRegression(C=10.0, class_weight='balanced', dual=False,\n",
       "                   fit_intercept=True, intercept_scaling=1, l1_ratio=None,\n",
       "                   max_iter=100, multi_class='auto', n_jobs=None, penalty='l2',\n",
       "                   random_state=None, solver='liblinear', tol=0.0001, verbose=0,\n",
       "                   warm_start=False)"
      ]
     },
     "execution_count": 23,
     "metadata": {},
     "output_type": "execute_result"
    }
   ],
   "source": [
    "from joblib import load\n",
    "model_l2 = load('../models_pkl/experiment-2.1-stacking_80_L2.pkl')\n",
    "model_l2.meta_clf_\n",
    "#model_l2.clfs_"
   ]
  },
  {
   "cell_type": "code",
   "execution_count": 24,
   "metadata": {},
   "outputs": [
    {
     "name": "stdout",
     "output_type": "stream",
     "text": [
      "              precision    recall  f1-score   support\n",
      "\n",
      "           0       0.96      0.88      0.92      1534\n",
      "           1       0.60      0.83      0.69       315\n",
      "\n",
      "    accuracy                           0.88      1849\n",
      "   macro avg       0.78      0.86      0.81      1849\n",
      "weighted avg       0.90      0.88      0.88      1849\n",
      "\n"
     ]
    },
    {
     "data": {
      "image/png": "[encoded data removed]",
      "text/plain": [
       "<Figure size 432x288 with 2 Axes>"
      ]
     },
     "metadata": {},
     "output_type": "display_data"
    }
   ],
   "source": [
    "preds = model_l2.predict(X)\n",
    "probs = model_l2.predict_proba(X)\n",
    "plot_confusion_matrix(y, preds)"
   ]
  },
  {
   "cell_type": "markdown",
   "metadata": {},
   "source": [
    "### From Predictions Set"
   ]
  },
  {
   "cell_type": "code",
   "execution_count": 25,
   "metadata": {},
   "outputs": [
    {
     "name": "stdout",
     "output_type": "stream",
     "text": [
      "regular:  1920\n"
     ]
    },
    {
     "data": {
      "image/png": "[encoded data removed]",
      "text/plain": [
       "<Figure size 720x432 with 1 Axes>"
      ]
     },
     "metadata": {},
     "output_type": "display_data"
    }
   ],
   "source": [
    "preds = model_l2.predict(X_future)\n",
    "probs = model_l2.predict_proba(X_future)\n",
    "print(\"regular: \",sum(preds))\n",
    "plt.hist(probs[:,1], bins=[i/10 for i in range(1,11)]); plt.show()"
   ]
  },
  {
   "cell_type": "markdown",
   "metadata": {},
   "source": [
    "#### Saving Predictions"
   ]
  },
  {
   "cell_type": "code",
   "execution_count": 26,
   "metadata": {},
   "outputs": [],
   "source": [
    "X_future['Class_Predicted'] = preds\n",
    "X_future['Class1_Prob'] = probs[:,1]"
   ]
  },
  {
   "cell_type": "code",
   "execution_count": 27,
   "metadata": {},
   "outputs": [],
   "source": [
    "X_csv = X_future[['Class_Predicted', 'Class1_Prob']]\n",
    "X_csv['Class1_Prob'] = X_csv.Class1_Prob.round(4)"
   ]
  },
  {
   "cell_type": "code",
   "execution_count": 28,
   "metadata": {},
   "outputs": [],
   "source": [
    "X_csv.to_csv('../data/FinalPredictions_stack.csv', sep=',', index=True)\n",
    "X_Pos = X_future[X_future.Class_Predicted == 1]"
   ]
  },
  {
   "cell_type": "code",
   "execution_count": 29,
   "metadata": {},
   "outputs": [
    {
     "data": {
      "text/html": [
       "<div>\n",
       "<style scoped>\n",
       "    .dataframe tbody tr th:only-of-type {\n",
       "        vertical-align: middle;\n",
       "    }\n",
       "\n",
       "    .dataframe tbody tr th {\n",
       "        vertical-align: top;\n",
       "    }\n",
       "\n",
       "    .dataframe thead th {\n",
       "        text-align: right;\n",
       "    }\n",
       "</style>\n",
       "<table border=\"1\" class=\"dataframe\">\n",
       "  <thead>\n",
       "    <tr style=\"text-align: right;\">\n",
       "      <th></th>\n",
       "      <th>Activities_Last_30_Days</th>\n",
       "      <th>Employees</th>\n",
       "      <th>ZoomInfo_Employee_Range</th>\n",
       "      <th>ZoomInfo_Revenue_Range</th>\n",
       "      <th>Organic_Visits</th>\n",
       "      <th>Pct_Organic_Visits</th>\n",
       "      <th>SEO_Visits</th>\n",
       "      <th>URLs_Indexed</th>\n",
       "      <th>ZoomInfo_Global_HQ_Country</th>\n",
       "      <th>Annual_Revenue_converted</th>\n",
       "      <th>Adjusted_Industry</th>\n",
       "      <th>Account_ICP_Score</th>\n",
       "      <th>Account_ICP_Tier</th>\n",
       "      <th>Page_Count</th>\n",
       "      <th>Page_Count_Range</th>\n",
       "      <th>Alexa_Rank</th>\n",
       "      <th>Parent_Account_Status</th>\n",
       "      <th>Class_Predicted</th>\n",
       "      <th>Class1_Prob</th>\n",
       "    </tr>\n",
       "    <tr>\n",
       "      <th>Account_ID</th>\n",
       "      <th></th>\n",
       "      <th></th>\n",
       "      <th></th>\n",
       "      <th></th>\n",
       "      <th></th>\n",
       "      <th></th>\n",
       "      <th></th>\n",
       "      <th></th>\n",
       "      <th></th>\n",
       "      <th></th>\n",
       "      <th></th>\n",
       "      <th></th>\n",
       "      <th></th>\n",
       "      <th></th>\n",
       "      <th></th>\n",
       "      <th></th>\n",
       "      <th></th>\n",
       "      <th></th>\n",
       "      <th></th>\n",
       "    </tr>\n",
       "  </thead>\n",
       "  <tbody>\n",
       "    <tr>\n",
       "      <th>0011p00002NOMRq</th>\n",
       "      <td>0.0</td>\n",
       "      <td>1000.0</td>\n",
       "      <td>500 - 1,000</td>\n",
       "      <td>$100 mil. - $250 mil.</td>\n",
       "      <td>1.187295e+06</td>\n",
       "      <td>0.27</td>\n",
       "      <td>1.187295e+06</td>\n",
       "      <td>1560000.0</td>\n",
       "      <td>US</td>\n",
       "      <td>2.500000e+08</td>\n",
       "      <td>Retail</td>\n",
       "      <td>79.167</td>\n",
       "      <td>Tier S</td>\n",
       "      <td>1.560000e+06</td>\n",
       "      <td>&gt;1M</td>\n",
       "      <td>143332.0</td>\n",
       "      <td>unknown</td>\n",
       "      <td>1</td>\n",
       "      <td>0.675555</td>\n",
       "    </tr>\n",
       "    <tr>\n",
       "      <th>001240000131stQ</th>\n",
       "      <td>0.0</td>\n",
       "      <td>30000.0</td>\n",
       "      <td>Over 10,000</td>\n",
       "      <td>Over $5 bil.</td>\n",
       "      <td>2.096058e+07</td>\n",
       "      <td>0.27</td>\n",
       "      <td>2.478502e+07</td>\n",
       "      <td>209000.0</td>\n",
       "      <td>US</td>\n",
       "      <td>3.240600e+10</td>\n",
       "      <td>Other</td>\n",
       "      <td>70.833</td>\n",
       "      <td>Tier S</td>\n",
       "      <td>2.301000e+05</td>\n",
       "      <td>Between 100K and 250K</td>\n",
       "      <td>3689.0</td>\n",
       "      <td>Active Customer</td>\n",
       "      <td>1</td>\n",
       "      <td>0.833489</td>\n",
       "    </tr>\n",
       "    <tr>\n",
       "      <th>0011p00002SeS3s</th>\n",
       "      <td>0.0</td>\n",
       "      <td>1000.0</td>\n",
       "      <td>20 - 50</td>\n",
       "      <td>$5 mil. - $10 mil.</td>\n",
       "      <td>3.830000e+02</td>\n",
       "      <td>0.02</td>\n",
       "      <td>3.830000e+02</td>\n",
       "      <td>87.0</td>\n",
       "      <td>US</td>\n",
       "      <td>1.000000e+07</td>\n",
       "      <td>Media</td>\n",
       "      <td>37.500</td>\n",
       "      <td>Tier S</td>\n",
       "      <td>8.700000e+01</td>\n",
       "      <td>&lt;500</td>\n",
       "      <td>1000001.0</td>\n",
       "      <td>unknown</td>\n",
       "      <td>1</td>\n",
       "      <td>0.554166</td>\n",
       "    </tr>\n",
       "    <tr>\n",
       "      <th>0012400000PCkjg</th>\n",
       "      <td>0.0</td>\n",
       "      <td>10000.0</td>\n",
       "      <td>Over 10,000</td>\n",
       "      <td>Over $5 bil.</td>\n",
       "      <td>9.567800e+04</td>\n",
       "      <td>0.29</td>\n",
       "      <td>2.020233e+08</td>\n",
       "      <td>0.0</td>\n",
       "      <td>US</td>\n",
       "      <td>1.000000e+09</td>\n",
       "      <td>Media</td>\n",
       "      <td>100.000</td>\n",
       "      <td>Tier S</td>\n",
       "      <td>1.254988e+09</td>\n",
       "      <td>&gt;1M</td>\n",
       "      <td>52537.0</td>\n",
       "      <td>unknown</td>\n",
       "      <td>1</td>\n",
       "      <td>0.749258</td>\n",
       "    </tr>\n",
       "    <tr>\n",
       "      <th>0012400001OKBSP</th>\n",
       "      <td>0.0</td>\n",
       "      <td>1000.0</td>\n",
       "      <td>100 - 250</td>\n",
       "      <td>$1 bil. - $5 bil.</td>\n",
       "      <td>1.662807e+09</td>\n",
       "      <td>NaN</td>\n",
       "      <td>1.662807e+09</td>\n",
       "      <td>834000.0</td>\n",
       "      <td>non_US</td>\n",
       "      <td>1.111300e+08</td>\n",
       "      <td>Classified</td>\n",
       "      <td>91.667</td>\n",
       "      <td>Tier S</td>\n",
       "      <td>8.340000e+05</td>\n",
       "      <td>Between 500K and 1M</td>\n",
       "      <td>13476.0</td>\n",
       "      <td>Prospect</td>\n",
       "      <td>1</td>\n",
       "      <td>0.833489</td>\n",
       "    </tr>\n",
       "    <tr>\n",
       "      <th>0011p00001SfWoz</th>\n",
       "      <td>10.0</td>\n",
       "      <td>10000.0</td>\n",
       "      <td>Over 10,000</td>\n",
       "      <td>Over $5 bil.</td>\n",
       "      <td>2.723295e+06</td>\n",
       "      <td>0.40</td>\n",
       "      <td>2.838841e+06</td>\n",
       "      <td>50800.0</td>\n",
       "      <td>US</td>\n",
       "      <td>1.000000e+09</td>\n",
       "      <td>Travel</td>\n",
       "      <td>70.833</td>\n",
       "      <td>Tier S</td>\n",
       "      <td>6.950000e+04</td>\n",
       "      <td>Between 50K and 100K</td>\n",
       "      <td>6350.0</td>\n",
       "      <td>Prospect</td>\n",
       "      <td>1</td>\n",
       "      <td>0.554166</td>\n",
       "    </tr>\n",
       "    <tr>\n",
       "      <th>0011p00001UTsrK</th>\n",
       "      <td>0.0</td>\n",
       "      <td>5000.0</td>\n",
       "      <td>unknown</td>\n",
       "      <td>unknown</td>\n",
       "      <td>1.655507e+06</td>\n",
       "      <td>0.32</td>\n",
       "      <td>1.655507e+06</td>\n",
       "      <td>935000.0</td>\n",
       "      <td>non_US</td>\n",
       "      <td>1.311578e+06</td>\n",
       "      <td>Retail</td>\n",
       "      <td>87.500</td>\n",
       "      <td>Tier S</td>\n",
       "      <td>9.350000e+05</td>\n",
       "      <td>Between 500K and 1M</td>\n",
       "      <td>1000001.0</td>\n",
       "      <td>unknown</td>\n",
       "      <td>1</td>\n",
       "      <td>0.601027</td>\n",
       "    </tr>\n",
       "    <tr>\n",
       "      <th>0011p00002Q4LKs</th>\n",
       "      <td>0.0</td>\n",
       "      <td>10000.0</td>\n",
       "      <td>Over 10,000</td>\n",
       "      <td>Over $5 bil.</td>\n",
       "      <td>8.109770e+05</td>\n",
       "      <td>NaN</td>\n",
       "      <td>8.109770e+05</td>\n",
       "      <td>37200.0</td>\n",
       "      <td>US</td>\n",
       "      <td>1.000000e+07</td>\n",
       "      <td>Retail</td>\n",
       "      <td>50.000</td>\n",
       "      <td>Tier S</td>\n",
       "      <td>3.720000e+04</td>\n",
       "      <td>Between 10K and 50K</td>\n",
       "      <td>35481.0</td>\n",
       "      <td>Prospect</td>\n",
       "      <td>1</td>\n",
       "      <td>0.554166</td>\n",
       "    </tr>\n",
       "    <tr>\n",
       "      <th>0011p00002Q4LHP</th>\n",
       "      <td>0.0</td>\n",
       "      <td>66421.0</td>\n",
       "      <td>Over 10,000</td>\n",
       "      <td>Over $5 bil.</td>\n",
       "      <td>3.977445e+07</td>\n",
       "      <td>0.41</td>\n",
       "      <td>9.046147e+07</td>\n",
       "      <td>28900000.0</td>\n",
       "      <td>non_US</td>\n",
       "      <td>5.190000e+10</td>\n",
       "      <td>Classified</td>\n",
       "      <td>91.667</td>\n",
       "      <td>Tier S</td>\n",
       "      <td>3.107290e+07</td>\n",
       "      <td>&gt;1M</td>\n",
       "      <td>1000001.0</td>\n",
       "      <td>unknown</td>\n",
       "      <td>1</td>\n",
       "      <td>0.833489</td>\n",
       "    </tr>\n",
       "    <tr>\n",
       "      <th>0011p00002BMYvh</th>\n",
       "      <td>0.0</td>\n",
       "      <td>10000.0</td>\n",
       "      <td>unknown</td>\n",
       "      <td>unknown</td>\n",
       "      <td>4.218021e+06</td>\n",
       "      <td>0.42</td>\n",
       "      <td>4.218021e+06</td>\n",
       "      <td>787000.0</td>\n",
       "      <td>non_US</td>\n",
       "      <td>1.000000e+09</td>\n",
       "      <td>Retail</td>\n",
       "      <td>100.000</td>\n",
       "      <td>Tier S</td>\n",
       "      <td>7.870000e+05</td>\n",
       "      <td>Between 500K and 1M</td>\n",
       "      <td>12538.0</td>\n",
       "      <td>Prospect</td>\n",
       "      <td>1</td>\n",
       "      <td>0.675555</td>\n",
       "    </tr>\n",
       "  </tbody>\n",
       "</table>\n",
       "</div>"
      ],
      "text/plain": [
       "                 Activities_Last_30_Days  Employees ZoomInfo_Employee_Range  \\\n",
       "Account_ID                                                                    \n",
       "0011p00002NOMRq                      0.0     1000.0             500 - 1,000   \n",
       "001240000131stQ                      0.0    30000.0             Over 10,000   \n",
       "0011p00002SeS3s                      0.0     1000.0                 20 - 50   \n",
       "0012400000PCkjg                      0.0    10000.0             Over 10,000   \n",
       "0012400001OKBSP                      0.0     1000.0               100 - 250   \n",
       "0011p00001SfWoz                     10.0    10000.0             Over 10,000   \n",
       "0011p00001UTsrK                      0.0     5000.0                 unknown   \n",
       "0011p00002Q4LKs                      0.0    10000.0             Over 10,000   \n",
       "0011p00002Q4LHP                      0.0    66421.0             Over 10,000   \n",
       "0011p00002BMYvh                      0.0    10000.0                 unknown   \n",
       "\n",
       "                ZoomInfo_Revenue_Range  Organic_Visits  Pct_Organic_Visits  \\\n",
       "Account_ID                                                                   \n",
       "0011p00002NOMRq  $100 mil. - $250 mil.    1.187295e+06                0.27   \n",
       "001240000131stQ           Over $5 bil.    2.096058e+07                0.27   \n",
       "0011p00002SeS3s     $5 mil. - $10 mil.    3.830000e+02                0.02   \n",
       "0012400000PCkjg           Over $5 bil.    9.567800e+04                0.29   \n",
       "0012400001OKBSP      $1 bil. - $5 bil.    1.662807e+09                 NaN   \n",
       "0011p00001SfWoz           Over $5 bil.    2.723295e+06                0.40   \n",
       "0011p00001UTsrK                unknown    1.655507e+06                0.32   \n",
       "0011p00002Q4LKs           Over $5 bil.    8.109770e+05                 NaN   \n",
       "0011p00002Q4LHP           Over $5 bil.    3.977445e+07                0.41   \n",
       "0011p00002BMYvh                unknown    4.218021e+06                0.42   \n",
       "\n",
       "                   SEO_Visits  URLs_Indexed ZoomInfo_Global_HQ_Country  \\\n",
       "Account_ID                                                               \n",
       "0011p00002NOMRq  1.187295e+06     1560000.0                         US   \n",
       "001240000131stQ  2.478502e+07      209000.0                         US   \n",
       "0011p00002SeS3s  3.830000e+02          87.0                         US   \n",
       "0012400000PCkjg  2.020233e+08           0.0                         US   \n",
       "0012400001OKBSP  1.662807e+09      834000.0                     non_US   \n",
       "0011p00001SfWoz  2.838841e+06       50800.0                         US   \n",
       "0011p00001UTsrK  1.655507e+06      935000.0                     non_US   \n",
       "0011p00002Q4LKs  8.109770e+05       37200.0                         US   \n",
       "0011p00002Q4LHP  9.046147e+07    28900000.0                     non_US   \n",
       "0011p00002BMYvh  4.218021e+06      787000.0                     non_US   \n",
       "\n",
       "                 Annual_Revenue_converted Adjusted_Industry  \\\n",
       "Account_ID                                                    \n",
       "0011p00002NOMRq              2.500000e+08            Retail   \n",
       "001240000131stQ              3.240600e+10             Other   \n",
       "0011p00002SeS3s              1.000000e+07             Media   \n",
       "0012400000PCkjg              1.000000e+09             Media   \n",
       "0012400001OKBSP              1.111300e+08        Classified   \n",
       "0011p00001SfWoz              1.000000e+09            Travel   \n",
       "0011p00001UTsrK              1.311578e+06            Retail   \n",
       "0011p00002Q4LKs              1.000000e+07            Retail   \n",
       "0011p00002Q4LHP              5.190000e+10        Classified   \n",
       "0011p00002BMYvh              1.000000e+09            Retail   \n",
       "\n",
       "                 Account_ICP_Score Account_ICP_Tier    Page_Count  \\\n",
       "Account_ID                                                          \n",
       "0011p00002NOMRq             79.167           Tier S  1.560000e+06   \n",
       "001240000131stQ             70.833           Tier S  2.301000e+05   \n",
       "0011p00002SeS3s             37.500           Tier S  8.700000e+01   \n",
       "0012400000PCkjg            100.000           Tier S  1.254988e+09   \n",
       "0012400001OKBSP             91.667           Tier S  8.340000e+05   \n",
       "0011p00001SfWoz             70.833           Tier S  6.950000e+04   \n",
       "0011p00001UTsrK             87.500           Tier S  9.350000e+05   \n",
       "0011p00002Q4LKs             50.000           Tier S  3.720000e+04   \n",
       "0011p00002Q4LHP             91.667           Tier S  3.107290e+07   \n",
       "0011p00002BMYvh            100.000           Tier S  7.870000e+05   \n",
       "\n",
       "                      Page_Count_Range  Alexa_Rank Parent_Account_Status  \\\n",
       "Account_ID                                                                 \n",
       "0011p00002NOMRq                    >1M    143332.0               unknown   \n",
       "001240000131stQ  Between 100K and 250K      3689.0       Active Customer   \n",
       "0011p00002SeS3s                   <500   1000001.0               unknown   \n",
       "0012400000PCkjg                    >1M     52537.0               unknown   \n",
       "0012400001OKBSP    Between 500K and 1M     13476.0              Prospect   \n",
       "0011p00001SfWoz   Between 50K and 100K      6350.0              Prospect   \n",
       "0011p00001UTsrK    Between 500K and 1M   1000001.0               unknown   \n",
       "0011p00002Q4LKs    Between 10K and 50K     35481.0              Prospect   \n",
       "0011p00002Q4LHP                    >1M   1000001.0               unknown   \n",
       "0011p00002BMYvh    Between 500K and 1M     12538.0              Prospect   \n",
       "\n",
       "                 Class_Predicted  Class1_Prob  \n",
       "Account_ID                                     \n",
       "0011p00002NOMRq                1     0.675555  \n",
       "001240000131stQ                1     0.833489  \n",
       "0011p00002SeS3s                1     0.554166  \n",
       "0012400000PCkjg                1     0.749258  \n",
       "0012400001OKBSP                1     0.833489  \n",
       "0011p00001SfWoz                1     0.554166  \n",
       "0011p00001UTsrK                1     0.601027  \n",
       "0011p00002Q4LKs                1     0.554166  \n",
       "0011p00002Q4LHP                1     0.833489  \n",
       "0011p00002BMYvh                1     0.675555  "
      ]
     },
     "execution_count": 29,
     "metadata": {},
     "output_type": "execute_result"
    }
   ],
   "source": [
    "X_Pos.sort_values(by=['Account_ICP_Tier'], ascending=False).head(10)"
   ]
  },
  {
   "cell_type": "code",
   "execution_count": 30,
   "metadata": {},
   "outputs": [
    {
     "data": {
      "text/plain": [
       "Tier C    8144\n",
       "Tier B    3795\n",
       "Tier A     825\n",
       "Tier S      41\n",
       "Name: Account_ICP_Tier, dtype: int64"
      ]
     },
     "execution_count": 30,
     "metadata": {},
     "output_type": "execute_result"
    }
   ],
   "source": [
    "X_future['Account_ICP_Tier'].value_counts()"
   ]
  },
  {
   "cell_type": "code",
   "execution_count": 31,
   "metadata": {},
   "outputs": [
    {
     "data": {
      "text/plain": [
       "Tier B    836\n",
       "Tier C    826\n",
       "Tier A    248\n",
       "Tier S     10\n",
       "Name: Account_ICP_Tier, dtype: int64"
      ]
     },
     "execution_count": 31,
     "metadata": {},
     "output_type": "execute_result"
    }
   ],
   "source": [
    "X_Pos['Account_ICP_Tier'].value_counts()"
   ]
  },
  {
   "cell_type": "code",
   "execution_count": 34,
   "metadata": {},
   "outputs": [
    {
     "data": {
      "text/html": [
       "<div>\n",
       "<style scoped>\n",
       "    .dataframe tbody tr th:only-of-type {\n",
       "        vertical-align: middle;\n",
       "    }\n",
       "\n",
       "    .dataframe tbody tr th {\n",
       "        vertical-align: top;\n",
       "    }\n",
       "\n",
       "    .dataframe thead th {\n",
       "        text-align: right;\n",
       "    }\n",
       "</style>\n",
       "<table border=\"1\" class=\"dataframe\">\n",
       "  <thead>\n",
       "    <tr style=\"text-align: right;\">\n",
       "      <th></th>\n",
       "      <th>Activities_Last_30_Days</th>\n",
       "      <th>Employees</th>\n",
       "      <th>ZoomInfo_Employee_Range</th>\n",
       "      <th>ZoomInfo_Revenue_Range</th>\n",
       "      <th>Organic_Visits</th>\n",
       "      <th>Pct_Organic_Visits</th>\n",
       "      <th>SEO_Visits</th>\n",
       "      <th>URLs_Indexed</th>\n",
       "      <th>ZoomInfo_Global_HQ_Country</th>\n",
       "      <th>Annual_Revenue_converted</th>\n",
       "      <th>Adjusted_Industry</th>\n",
       "      <th>Account_ICP_Score</th>\n",
       "      <th>Account_ICP_Tier</th>\n",
       "      <th>Page_Count</th>\n",
       "      <th>Page_Count_Range</th>\n",
       "      <th>Alexa_Rank</th>\n",
       "      <th>Parent_Account_Status</th>\n",
       "      <th>Class_Predicted</th>\n",
       "      <th>Class1_Prob</th>\n",
       "    </tr>\n",
       "    <tr>\n",
       "      <th>Account_ID</th>\n",
       "      <th></th>\n",
       "      <th></th>\n",
       "      <th></th>\n",
       "      <th></th>\n",
       "      <th></th>\n",
       "      <th></th>\n",
       "      <th></th>\n",
       "      <th></th>\n",
       "      <th></th>\n",
       "      <th></th>\n",
       "      <th></th>\n",
       "      <th></th>\n",
       "      <th></th>\n",
       "      <th></th>\n",
       "      <th></th>\n",
       "      <th></th>\n",
       "      <th></th>\n",
       "      <th></th>\n",
       "      <th></th>\n",
       "    </tr>\n",
       "  </thead>\n",
       "  <tbody>\n",
       "    <tr>\n",
       "      <th>0011p00002Q4RB6</th>\n",
       "      <td>0.0</td>\n",
       "      <td>10.0</td>\n",
       "      <td>50 - 100</td>\n",
       "      <td>$10 mil. - $25 mil.</td>\n",
       "      <td>3003051.0</td>\n",
       "      <td>0.35</td>\n",
       "      <td>3003051.0</td>\n",
       "      <td>184000.0</td>\n",
       "      <td>US</td>\n",
       "      <td>1.000000e+07</td>\n",
       "      <td>Media</td>\n",
       "      <td>75.000</td>\n",
       "      <td>Tier B</td>\n",
       "      <td>184000.0</td>\n",
       "      <td>Between 100K and 250K</td>\n",
       "      <td>1000001.0</td>\n",
       "      <td>Prospect</td>\n",
       "      <td>1</td>\n",
       "      <td>0.833489</td>\n",
       "    </tr>\n",
       "    <tr>\n",
       "      <th>0011p00002Q4Ona</th>\n",
       "      <td>0.0</td>\n",
       "      <td>200.0</td>\n",
       "      <td>50 - 100</td>\n",
       "      <td>$10 mil. - $25 mil.</td>\n",
       "      <td>161701.0</td>\n",
       "      <td>0.40</td>\n",
       "      <td>161701.0</td>\n",
       "      <td>152000.0</td>\n",
       "      <td>US</td>\n",
       "      <td>1.000000e+06</td>\n",
       "      <td>Media</td>\n",
       "      <td>58.333</td>\n",
       "      <td>Tier C</td>\n",
       "      <td>152000.0</td>\n",
       "      <td>Between 100K and 250K</td>\n",
       "      <td>209362.0</td>\n",
       "      <td>Prospect</td>\n",
       "      <td>1</td>\n",
       "      <td>0.833489</td>\n",
       "    </tr>\n",
       "    <tr>\n",
       "      <th>0011p00001SgdyJ</th>\n",
       "      <td>0.0</td>\n",
       "      <td>200.0</td>\n",
       "      <td>1,000 - 5,000</td>\n",
       "      <td>$1 bil. - $5 bil.</td>\n",
       "      <td>1245253.0</td>\n",
       "      <td>0.34</td>\n",
       "      <td>1245253.0</td>\n",
       "      <td>64600.0</td>\n",
       "      <td>US</td>\n",
       "      <td>1.000000e+07</td>\n",
       "      <td>Retail</td>\n",
       "      <td>62.500</td>\n",
       "      <td>Tier B</td>\n",
       "      <td>64600.0</td>\n",
       "      <td>Between 50K and 100K</td>\n",
       "      <td>11646.0</td>\n",
       "      <td>Prospect</td>\n",
       "      <td>1</td>\n",
       "      <td>0.833489</td>\n",
       "    </tr>\n",
       "    <tr>\n",
       "      <th>0011p00002SeURm</th>\n",
       "      <td>0.0</td>\n",
       "      <td>200.0</td>\n",
       "      <td>50 - 100</td>\n",
       "      <td>$10 mil. - $25 mil.</td>\n",
       "      <td>108909.0</td>\n",
       "      <td>0.44</td>\n",
       "      <td>108909.0</td>\n",
       "      <td>751000.0</td>\n",
       "      <td>US</td>\n",
       "      <td>1.000000e+06</td>\n",
       "      <td>Media</td>\n",
       "      <td>58.333</td>\n",
       "      <td>Tier C</td>\n",
       "      <td>751000.0</td>\n",
       "      <td>Between 500K and 1M</td>\n",
       "      <td>1000001.0</td>\n",
       "      <td>Prospect</td>\n",
       "      <td>1</td>\n",
       "      <td>0.833489</td>\n",
       "    </tr>\n",
       "    <tr>\n",
       "      <th>0011p00002SeUyc</th>\n",
       "      <td>0.0</td>\n",
       "      <td>50.0</td>\n",
       "      <td>100 - 250</td>\n",
       "      <td>unknown</td>\n",
       "      <td>213323.0</td>\n",
       "      <td>0.22</td>\n",
       "      <td>213323.0</td>\n",
       "      <td>1110000.0</td>\n",
       "      <td>US</td>\n",
       "      <td>5.000000e+07</td>\n",
       "      <td>Classified</td>\n",
       "      <td>70.833</td>\n",
       "      <td>Tier C</td>\n",
       "      <td>1110000.0</td>\n",
       "      <td>&gt;1M</td>\n",
       "      <td>1000001.0</td>\n",
       "      <td>Active Customer</td>\n",
       "      <td>1</td>\n",
       "      <td>0.833489</td>\n",
       "    </tr>\n",
       "    <tr>\n",
       "      <th>0011p00001o7qn9</th>\n",
       "      <td>0.0</td>\n",
       "      <td>200.0</td>\n",
       "      <td>Over 10,000</td>\n",
       "      <td>Over $5 bil.</td>\n",
       "      <td>15177584.0</td>\n",
       "      <td>NaN</td>\n",
       "      <td>15177584.0</td>\n",
       "      <td>4880000.0</td>\n",
       "      <td>US</td>\n",
       "      <td>1.000000e+08</td>\n",
       "      <td>Media</td>\n",
       "      <td>100.000</td>\n",
       "      <td>Tier B</td>\n",
       "      <td>4880000.0</td>\n",
       "      <td>&gt;1M</td>\n",
       "      <td>911.0</td>\n",
       "      <td>Active Customer</td>\n",
       "      <td>1</td>\n",
       "      <td>0.833489</td>\n",
       "    </tr>\n",
       "    <tr>\n",
       "      <th>0011p00002SelFD</th>\n",
       "      <td>0.0</td>\n",
       "      <td>200.0</td>\n",
       "      <td>unknown</td>\n",
       "      <td>unknown</td>\n",
       "      <td>1008908.0</td>\n",
       "      <td>0.48</td>\n",
       "      <td>1008908.0</td>\n",
       "      <td>903000.0</td>\n",
       "      <td>non_US</td>\n",
       "      <td>5.000000e+07</td>\n",
       "      <td>Media</td>\n",
       "      <td>75.000</td>\n",
       "      <td>Tier B</td>\n",
       "      <td>903000.0</td>\n",
       "      <td>Between 500K and 1M</td>\n",
       "      <td>1000001.0</td>\n",
       "      <td>Prospect</td>\n",
       "      <td>1</td>\n",
       "      <td>0.833489</td>\n",
       "    </tr>\n",
       "    <tr>\n",
       "      <th>0011p00001RPVZQ</th>\n",
       "      <td>0.0</td>\n",
       "      <td>1000.0</td>\n",
       "      <td>unknown</td>\n",
       "      <td>unknown</td>\n",
       "      <td>281411.0</td>\n",
       "      <td>0.61</td>\n",
       "      <td>281411.0</td>\n",
       "      <td>108000.0</td>\n",
       "      <td>non_US</td>\n",
       "      <td>2.778250e+08</td>\n",
       "      <td>Retail</td>\n",
       "      <td>70.833</td>\n",
       "      <td>Tier B</td>\n",
       "      <td>108000.0</td>\n",
       "      <td>Between 100K and 250K</td>\n",
       "      <td>15592.0</td>\n",
       "      <td>Prospect</td>\n",
       "      <td>1</td>\n",
       "      <td>0.833489</td>\n",
       "    </tr>\n",
       "    <tr>\n",
       "      <th>0011p00001hpedN</th>\n",
       "      <td>0.0</td>\n",
       "      <td>500.0</td>\n",
       "      <td>250 - 500</td>\n",
       "      <td>unknown</td>\n",
       "      <td>76421878.0</td>\n",
       "      <td>0.62</td>\n",
       "      <td>82533995.0</td>\n",
       "      <td>NaN</td>\n",
       "      <td>US</td>\n",
       "      <td>5.000000e+07</td>\n",
       "      <td>Media</td>\n",
       "      <td>66.667</td>\n",
       "      <td>Tier B</td>\n",
       "      <td>NaN</td>\n",
       "      <td>unknown</td>\n",
       "      <td>1000001.0</td>\n",
       "      <td>Prospect</td>\n",
       "      <td>1</td>\n",
       "      <td>0.833489</td>\n",
       "    </tr>\n",
       "    <tr>\n",
       "      <th>0011p00002Q4LHP</th>\n",
       "      <td>0.0</td>\n",
       "      <td>66421.0</td>\n",
       "      <td>Over 10,000</td>\n",
       "      <td>Over $5 bil.</td>\n",
       "      <td>39774451.0</td>\n",
       "      <td>0.41</td>\n",
       "      <td>90461468.0</td>\n",
       "      <td>28900000.0</td>\n",
       "      <td>non_US</td>\n",
       "      <td>5.190000e+10</td>\n",
       "      <td>Classified</td>\n",
       "      <td>91.667</td>\n",
       "      <td>Tier S</td>\n",
       "      <td>31072900.0</td>\n",
       "      <td>&gt;1M</td>\n",
       "      <td>1000001.0</td>\n",
       "      <td>unknown</td>\n",
       "      <td>1</td>\n",
       "      <td>0.833489</td>\n",
       "    </tr>\n",
       "  </tbody>\n",
       "</table>\n",
       "</div>"
      ],
      "text/plain": [
       "                 Activities_Last_30_Days  Employees ZoomInfo_Employee_Range  \\\n",
       "Account_ID                                                                    \n",
       "0011p00002Q4RB6                      0.0       10.0                50 - 100   \n",
       "0011p00002Q4Ona                      0.0      200.0                50 - 100   \n",
       "0011p00001SgdyJ                      0.0      200.0           1,000 - 5,000   \n",
       "0011p00002SeURm                      0.0      200.0                50 - 100   \n",
       "0011p00002SeUyc                      0.0       50.0               100 - 250   \n",
       "0011p00001o7qn9                      0.0      200.0             Over 10,000   \n",
       "0011p00002SelFD                      0.0      200.0                 unknown   \n",
       "0011p00001RPVZQ                      0.0     1000.0                 unknown   \n",
       "0011p00001hpedN                      0.0      500.0               250 - 500   \n",
       "0011p00002Q4LHP                      0.0    66421.0             Over 10,000   \n",
       "\n",
       "                ZoomInfo_Revenue_Range  Organic_Visits  Pct_Organic_Visits  \\\n",
       "Account_ID                                                                   \n",
       "0011p00002Q4RB6    $10 mil. - $25 mil.       3003051.0                0.35   \n",
       "0011p00002Q4Ona    $10 mil. - $25 mil.        161701.0                0.40   \n",
       "0011p00001SgdyJ      $1 bil. - $5 bil.       1245253.0                0.34   \n",
       "0011p00002SeURm    $10 mil. - $25 mil.        108909.0                0.44   \n",
       "0011p00002SeUyc                unknown        213323.0                0.22   \n",
       "0011p00001o7qn9           Over $5 bil.      15177584.0                 NaN   \n",
       "0011p00002SelFD                unknown       1008908.0                0.48   \n",
       "0011p00001RPVZQ                unknown        281411.0                0.61   \n",
       "0011p00001hpedN                unknown      76421878.0                0.62   \n",
       "0011p00002Q4LHP           Over $5 bil.      39774451.0                0.41   \n",
       "\n",
       "                 SEO_Visits  URLs_Indexed ZoomInfo_Global_HQ_Country  \\\n",
       "Account_ID                                                             \n",
       "0011p00002Q4RB6   3003051.0      184000.0                         US   \n",
       "0011p00002Q4Ona    161701.0      152000.0                         US   \n",
       "0011p00001SgdyJ   1245253.0       64600.0                         US   \n",
       "0011p00002SeURm    108909.0      751000.0                         US   \n",
       "0011p00002SeUyc    213323.0     1110000.0                         US   \n",
       "0011p00001o7qn9  15177584.0     4880000.0                         US   \n",
       "0011p00002SelFD   1008908.0      903000.0                     non_US   \n",
       "0011p00001RPVZQ    281411.0      108000.0                     non_US   \n",
       "0011p00001hpedN  82533995.0           NaN                         US   \n",
       "0011p00002Q4LHP  90461468.0    28900000.0                     non_US   \n",
       "\n",
       "                 Annual_Revenue_converted Adjusted_Industry  \\\n",
       "Account_ID                                                    \n",
       "0011p00002Q4RB6              1.000000e+07             Media   \n",
       "0011p00002Q4Ona              1.000000e+06             Media   \n",
       "0011p00001SgdyJ              1.000000e+07            Retail   \n",
       "0011p00002SeURm              1.000000e+06             Media   \n",
       "0011p00002SeUyc              5.000000e+07        Classified   \n",
       "0011p00001o7qn9              1.000000e+08             Media   \n",
       "0011p00002SelFD              5.000000e+07             Media   \n",
       "0011p00001RPVZQ              2.778250e+08            Retail   \n",
       "0011p00001hpedN              5.000000e+07             Media   \n",
       "0011p00002Q4LHP              5.190000e+10        Classified   \n",
       "\n",
       "                 Account_ICP_Score Account_ICP_Tier  Page_Count  \\\n",
       "Account_ID                                                        \n",
       "0011p00002Q4RB6             75.000           Tier B    184000.0   \n",
       "0011p00002Q4Ona             58.333           Tier C    152000.0   \n",
       "0011p00001SgdyJ             62.500           Tier B     64600.0   \n",
       "0011p00002SeURm             58.333           Tier C    751000.0   \n",
       "0011p00002SeUyc             70.833           Tier C   1110000.0   \n",
       "0011p00001o7qn9            100.000           Tier B   4880000.0   \n",
       "0011p00002SelFD             75.000           Tier B    903000.0   \n",
       "0011p00001RPVZQ             70.833           Tier B    108000.0   \n",
       "0011p00001hpedN             66.667           Tier B         NaN   \n",
       "0011p00002Q4LHP             91.667           Tier S  31072900.0   \n",
       "\n",
       "                      Page_Count_Range  Alexa_Rank Parent_Account_Status  \\\n",
       "Account_ID                                                                 \n",
       "0011p00002Q4RB6  Between 100K and 250K   1000001.0              Prospect   \n",
       "0011p00002Q4Ona  Between 100K and 250K    209362.0              Prospect   \n",
       "0011p00001SgdyJ   Between 50K and 100K     11646.0              Prospect   \n",
       "0011p00002SeURm    Between 500K and 1M   1000001.0              Prospect   \n",
       "0011p00002SeUyc                    >1M   1000001.0       Active Customer   \n",
       "0011p00001o7qn9                    >1M       911.0       Active Customer   \n",
       "0011p00002SelFD    Between 500K and 1M   1000001.0              Prospect   \n",
       "0011p00001RPVZQ  Between 100K and 250K     15592.0              Prospect   \n",
       "0011p00001hpedN                unknown   1000001.0              Prospect   \n",
       "0011p00002Q4LHP                    >1M   1000001.0               unknown   \n",
       "\n",
       "                 Class_Predicted  Class1_Prob  \n",
       "Account_ID                                     \n",
       "0011p00002Q4RB6                1     0.833489  \n",
       "0011p00002Q4Ona                1     0.833489  \n",
       "0011p00001SgdyJ                1     0.833489  \n",
       "0011p00002SeURm                1     0.833489  \n",
       "0011p00002SeUyc                1     0.833489  \n",
       "0011p00001o7qn9                1     0.833489  \n",
       "0011p00002SelFD                1     0.833489  \n",
       "0011p00001RPVZQ                1     0.833489  \n",
       "0011p00001hpedN                1     0.833489  \n",
       "0011p00002Q4LHP                1     0.833489  "
      ]
     },
     "execution_count": 34,
     "metadata": {},
     "output_type": "execute_result"
    }
   ],
   "source": [
    "X_Pos.sort_values(by=['Class1_Prob'], ascending=False).head(10)"
   ]
  },
  {
   "cell_type": "code",
   "execution_count": 36,
   "metadata": {},
   "outputs": [
    {
     "data": {
      "text/plain": [
       "0.554166    631\n",
       "0.749258    395\n",
       "0.833489    303\n",
       "0.544117    201\n",
       "0.675555    107\n",
       "0.761628     86\n",
       "0.570645     71\n",
       "0.783620     43\n",
       "0.683734     27\n",
       "0.823987     17\n",
       "0.601027     13\n",
       "0.527463     10\n",
       "0.698033      8\n",
       "0.660709      6\n",
       "0.772050      2\n",
       "Name: Class1_Prob, dtype: int64"
      ]
     },
     "execution_count": 36,
     "metadata": {},
     "output_type": "execute_result"
    }
   ],
   "source": [
    "X_Pos['Class1_Prob'].value_counts()"
   ]
  },
  {
   "cell_type": "code",
   "execution_count": 51,
   "metadata": {},
   "outputs": [
    {
     "data": {
      "image/png": "[encoded data removed]",
      "text/plain": [
       "<Figure size 864x288 with 2 Axes>"
      ]
     },
     "metadata": {},
     "output_type": "display_data"
    }
   ],
   "source": [
    "for attr in ['y']:\n",
    "  fig, (ax1, ax2) = plt.subplots(1, 2, figsize=(12,4))\n",
    "  outcome_counts = X_Pos.groupby([attr, 'Account_ICP_Tier']).size().rename('count').reset_index()\n",
    "  by_outcome = outcome_counts.pivot(columns='Account_ICP_Tier', values='count', index=attr)\n",
    "  # Plot the proportions\n",
    "  by_outcome.div(by_outcome.sum(1), axis=0).plot.bar(stacked=True, ax=ax1)\n",
    "  # Plot the counts\n",
    "  X_Pos[attr].value_counts().plot.bar(ax=ax2, legend=False,color='steelblue')\n",
    "  #print('Support (%s)\\n' % attr)\n",
    "  #print(X[attr].value_counts(), '\\n')\n",
    "  plt.title(attr)"
   ]
  },
  {
   "cell_type": "code",
   "execution_count": 48,
   "metadata": {},
   "outputs": [],
   "source": [
    "X_Pos['y'] = X_Pos['Class1_Prob'].astype('category')"
   ]
  },
  {
   "cell_type": "code",
   "execution_count": 44,
   "metadata": {},
   "outputs": [
    {
     "data": {
      "text/plain": [
       "<pandas.core.groupby.generic.DataFrameGroupBy object at 0x1a2157a5d0>"
      ]
     },
     "execution_count": 44,
     "metadata": {},
     "output_type": "execute_result"
    }
   ],
   "source": [
    "X_Pos.groupby([attr, 'y'])"
   ]
  },
  {
   "cell_type": "raw",
   "metadata": {},
   "source": [
    "<script>\n",
    "  jQuery(document).ready(function($) {\n",
    "\n",
    "  $(window).load(function(){\n",
    "    $('#preloader').fadeOut('slow',function(){$(this).remove();});\n",
    "  });\n",
    "\n",
    "  });\n",
    "</script>\n",
    "\n",
    "<style type=\"text/css\">\n",
    "  div#preloader { position: fixed;\n",
    "      left: 0;\n",
    "      top: 0;\n",
    "      z-index: 999;\n",
    "      width: 100%;\n",
    "      height: 100%;\n",
    "      overflow: visible;\n",
    "      background: #fff url('http://preloaders.net/preloaders/720/Moving%20line.gif') no-repeat center center;\n",
    "  }\n",
    "\n",
    "</style>\n",
    "\n",
    "<div id=\"preloader\"></div>"
   ]
  }
 ],
 "metadata": {
  "kernelspec": {
   "display_name": "Python 3",
   "language": "python",
   "name": "python3"
  },
  "language_info": {
   "codemirror_mode": {
    "name": "ipython",
    "version": 3
   },
   "file_extension": ".py",
   "mimetype": "text/x-python",
   "name": "python",
   "nbconvert_exporter": "python",
   "pygments_lexer": "ipython3",
   "version": "3.7.6"
  }
 },
 "nbformat": 4,
 "nbformat_minor": 4
}

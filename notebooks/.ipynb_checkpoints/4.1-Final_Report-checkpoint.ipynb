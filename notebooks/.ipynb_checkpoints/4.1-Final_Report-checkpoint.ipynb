{
 "cells": [
  {
   "cell_type": "raw",
   "metadata": {},
   "source": [
    "<script>\n",
    "  function code_toggle() {\n",
    "    if (code_shown){\n",
    "      $('div.input').hide('500');\n",
    "      $('#toggleButton').val('Show Code')\n",
    "    } else {\n",
    "      $('div.input').show('500');\n",
    "      $('#toggleButton').val('Hide Code')\n",
    "    }\n",
    "    code_shown = !code_shown\n",
    "  }\n",
    "\n",
    "  $( document ).ready(function(){\n",
    "    code_shown=false;\n",
    "    $('div.input').hide()\n",
    "  });\n",
    "</script>\n",
    "<form action=\"javascript:code_toggle()\"><input type=\"submit\" id=\"toggleButton\" value=\"Show Code\"></form>"
   ]
  },
  {
   "cell_type": "raw",
   "metadata": {},
   "source": [
    "<script>\n",
    "  $(document).ready(function(){\n",
    "    $('div.prompt').hide();\n",
    "    $('div.back-to-top').hide();\n",
    "    $('nav#menubar').hide();\n",
    "    $('.breadcrumb').hide();\n",
    "    $('.hidden-print').hide();\n",
    "  });\n",
    "</script>\n",
    "\n",
    "<footer id=\"attribution\" style=\"float:right; color:#999; background:#fff;\">\n",
    "Created with Jupyter Lab, by Nicholas Richers.\n",
    "</footer>"
   ]
  },
  {
   "cell_type": "markdown",
   "metadata": {},
   "source": [
    "# Model Predictions"
   ]
  },
  {
   "cell_type": "markdown",
   "metadata": {},
   "source": [
    "Use the best model from the experiments to estimate generalization performance on the test set."
   ]
  },
  {
   "cell_type": "code",
   "execution_count": 1,
   "metadata": {},
   "outputs": [],
   "source": [
    "%load_ext autoreload\n",
    "%autoreload 2\n",
    "\n",
    "from utils import code\n",
    "from plot_libraries import setup_graphics\n",
    "from datasets import get_data"
   ]
  },
  {
   "cell_type": "code",
   "execution_count": 26,
   "metadata": {},
   "outputs": [],
   "source": [
    "#Main Libraries\n",
    "import os, random, re, sys, warnings\n",
    "import numpy as np\n",
    "import pandas as pd\n",
    "import matplotlib.pyplot as plt\n",
    "import seaborn as sns\n",
    "from joblib import load\n",
    "\n",
    "#utils\n",
    "from plot_libraries import setup_graphics, dist_plot\n",
    "\n",
    "#corr matrix\n",
    "from scipy.stats import spearmanr\n",
    "from scipy.cluster import hierarchy\n",
    "from sklearn.inspection import permutation_importance\n",
    "\n",
    "#Data transform (pipeline)\n",
    "from sklearn.preprocessing import OneHotEncoder, FunctionTransformer, LabelEncoder, OrdinalEncoder\n",
    "from sklearn.preprocessing import MinMaxScaler,RobustScaler\n",
    "from sklearn.compose import ColumnTransformer\n",
    "from sklearn.pipeline import Pipeline, FeatureUnion\n",
    "from sklearn.impute import SimpleImputer\n",
    "from sklearn.model_selection import train_test_split, cross_val_predict\n",
    "from sklearn.calibration import CalibratedClassifierCV\n",
    "\n",
    "\n",
    "\n",
    "# Model evaluation\n",
    "import scikitplot as skplt\n",
    "from sklearn.metrics import make_scorer, roc_auc_score, brier_score_loss, classification_report, confusion_matrix, log_loss\n",
    "from sklearn.model_selection import train_test_split, cross_val_predict\n",
    "from evaluation import plot_learning_curve, evaluate_model, plot_confusion_matrix, evaluate_model_skopt \n",
    "from evaluation import plot_feature_permutation, plot_calibration_curve, get_cv_scores\n",
    "from skopt import BayesSearchCV\n",
    "from skopt.space import Real, Categorical, Integer\n",
    "\n",
    "# Support\n",
    "import parameters as params\n",
    "from model import Model, build_tuned_model\n",
    "from datasets import get_data\n",
    "from experiments import experiment_11, experiment_2, get_scorer\n",
    "from sklearn.metrics import make_scorer, roc_auc_score, brier_score_loss, classification_report, confusion_matrix, f1_score, recall_score\n",
    "\n",
    "#setup\n",
    "warnings.filterwarnings(\"ignore\")\n",
    "pd.options.display.max_columns = None\n",
    "sns.set()\n",
    "%matplotlib inline\n",
    "setup_graphics()"
   ]
  },
  {
   "cell_type": "markdown",
   "metadata": {},
   "source": [
    "## Get Data"
   ]
  },
  {
   "cell_type": "markdown",
   "metadata": {},
   "source": [
    "Load the training and test sets"
   ]
  },
  {
   "cell_type": "code",
   "execution_count": 3,
   "metadata": {},
   "outputs": [],
   "source": [
    "X_future, y_future = get_data('../data/PredDF.csv')\n",
    "X, y = get_data('../data/trainDF.csv')"
   ]
  },
  {
   "cell_type": "code",
   "execution_count": 4,
   "metadata": {},
   "outputs": [],
   "source": [
    "#model = Model.load('../models_pkl/experiment-2.0-model.pkl')\n",
    "#model.model"
   ]
  },
  {
   "cell_type": "markdown",
   "metadata": {},
   "source": [
    "load pipeline"
   ]
  },
  {
   "cell_type": "code",
   "execution_count": 5,
   "metadata": {},
   "outputs": [
    {
     "name": "stdout",
     "output_type": "stream",
     "text": [
      "Instances: 1,849, Features: 12\n"
     ]
    }
   ],
   "source": [
    "pipeline2 = experiment_2.get_full_pipeline()\n",
    "ps = pipeline2.fit_transform(X).shape\n",
    "print('Instances: {:,}, Features: {}'.format(ps[0], ps[1]))"
   ]
  },
  {
   "cell_type": "markdown",
   "metadata": {},
   "source": [
    "##### Setup"
   ]
  },
  {
   "cell_type": "code",
   "execution_count": 7,
   "metadata": {},
   "outputs": [],
   "source": [
    "scorer = make_scorer(roc_auc_score)\n",
    "results, res_cv, res_calibrated, n_iter = list(), dict(), dict(), 100"
   ]
  },
  {
   "cell_type": "code",
   "execution_count": null,
   "metadata": {},
   "outputs": [],
   "source": [
    "import bayes_grid_models as bgrid\n",
    "from lightgbm import LGBMClassifier\n",
    "\n",
    "result = evaluate_model_skopt(X, y, 'lgbm',\n",
    "                        LGBMClassifier(),\n",
    "                        bgrid.lgbm_param_grid, \n",
    "                        scorer, n_iter=n_iter, \n",
    "                        cv_folds=5, pipeline=pipeline2)\n",
    "\n",
    "results.append(result)\n",
    "model = list(filter(lambda x: x[1] == 'lgbm', results))[0][0]\n",
    "model.save('../models_pkl/final-model.pkl')"
   ]
  },
  {
   "cell_type": "code",
   "execution_count": 59,
   "metadata": {},
   "outputs": [
    {
     "data": {
      "text/plain": [
       "LGBMClassifier(boosting_type='goss', class_weight=None, colsample_bytree=0.6,\n",
       "               importance_type='split', is_unbalance=False, learning_rate=1.0,\n",
       "               max_depth=-1, min_child_samples=20, min_child_weight=0.001,\n",
       "               min_split_gain=0.0, n_estimators=100, n_jobs=-1, num_leaves=2,\n",
       "               objective=None, random_state=None, reg_alpha=1.0, reg_lambda=1.0,\n",
       "               silent=True, subsample=0.5, subsample_for_bin=300000,\n",
       "               subsample_freq=0)"
      ]
     },
     "execution_count": 59,
     "metadata": {},
     "output_type": "execute_result"
    }
   ],
   "source": [
    "model = Model.load('../models_pkl/final-model.pkl')\n",
    "model.model"
   ]
  },
  {
   "cell_type": "code",
   "execution_count": 60,
   "metadata": {},
   "outputs": [
    {
     "name": "stdout",
     "output_type": "stream",
     "text": [
      "              precision    recall  f1-score   support\n",
      "\n",
      "           0       0.88      0.95      0.91      1534\n",
      "           1       0.60      0.35      0.44       315\n",
      "\n",
      "    accuracy                           0.85      1849\n",
      "   macro avg       0.74      0.65      0.68      1849\n",
      "weighted avg       0.83      0.85      0.83      1849\n",
      "\n"
     ]
    },
    {
     "data": {
      "image/png": "[encoded data removed]",
      "text/plain": [
       "<Figure size 432x288 with 2 Axes>"
      ]
     },
     "metadata": {},
     "output_type": "display_data"
    }
   ],
   "source": [
    "preds = model.model.predict(model.pipeline.transform(X))\n",
    "probs = model.model.predict_proba(model.pipeline.transform(X))\n",
    "plot_confusion_matrix(y, preds)"
   ]
  },
  {
   "cell_type": "code",
   "execution_count": 56,
   "metadata": {},
   "outputs": [
    {
     "name": "stdout",
     "output_type": "stream",
     "text": [
      "              precision    recall  f1-score   support\n",
      "\n",
      "           0       0.83      1.00      0.91      1534\n",
      "           1       1.00      0.03      0.07       315\n",
      "\n",
      "    accuracy                           0.84      1849\n",
      "   macro avg       0.92      0.52      0.49      1849\n",
      "weighted avg       0.86      0.84      0.77      1849\n",
      "\n"
     ]
    },
    {
     "data": {
      "image/png": "[encoded data removed]",
      "text/plain": [
       "<Figure size 432x288 with 2 Axes>"
      ]
     },
     "metadata": {},
     "output_type": "display_data"
    }
   ],
   "source": [
    "preds_cal, probs_cal = model.predict_calibrated(X, X, y)\n",
    "plot_confusion_matrix(y, preds_cal)"
   ]
  },
  {
   "cell_type": "markdown",
   "metadata": {},
   "source": [
    "### From Predictions Set"
   ]
  },
  {
   "cell_type": "code",
   "execution_count": 57,
   "metadata": {},
   "outputs": [
    {
     "name": "stdout",
     "output_type": "stream",
     "text": [
      "regular:  537\n"
     ]
    },
    {
     "data": {
      "image/png": "[encoded data removed]",
      "text/plain": [
       "<Figure size 720x432 with 1 Axes>"
      ]
     },
     "metadata": {},
     "output_type": "display_data"
    }
   ],
   "source": [
    "preds = model.model.predict(model.pipeline.transform(X_future))\n",
    "probs = model.model.predict_proba(model.pipeline.transform(X_future))\n",
    "print(\"regular: \",sum(preds))\n",
    "plt.hist(probs[:,1], bins=[i/10 for i in range(1,11)]); plt.show()"
   ]
  },
  {
   "cell_type": "code",
   "execution_count": 58,
   "metadata": {},
   "outputs": [
    {
     "name": "stdout",
     "output_type": "stream",
     "text": [
      "calibrated:  1\n"
     ]
    },
    {
     "data": {
      "image/png": "[encoded data removed]",
      "text/plain": [
       "<Figure size 720x432 with 1 Axes>"
      ]
     },
     "metadata": {},
     "output_type": "display_data"
    }
   ],
   "source": [
    "preds, probs = model.predict_calibrated(X_future, X, y)\n",
    "print(\"calibrated: \", sum(preds))\n",
    "plt.hist(probs[:,1], bins=[i/10 for i in range(1,11)])\n",
    "plt.show()"
   ]
  },
  {
   "cell_type": "code",
   "execution_count": null,
   "metadata": {},
   "outputs": [],
   "source": []
  },
  {
   "cell_type": "code",
   "execution_count": null,
   "metadata": {},
   "outputs": [],
   "source": []
  },
  {
   "cell_type": "code",
   "execution_count": null,
   "metadata": {},
   "outputs": [],
   "source": []
  },
  {
   "cell_type": "code",
   "execution_count": null,
   "metadata": {},
   "outputs": [],
   "source": []
  },
  {
   "cell_type": "code",
   "execution_count": null,
   "metadata": {},
   "outputs": [],
   "source": []
  },
  {
   "cell_type": "code",
   "execution_count": null,
   "metadata": {},
   "outputs": [],
   "source": []
  },
  {
   "cell_type": "code",
   "execution_count": null,
   "metadata": {},
   "outputs": [],
   "source": []
  },
  {
   "cell_type": "code",
   "execution_count": null,
   "metadata": {},
   "outputs": [],
   "source": []
  },
  {
   "cell_type": "code",
   "execution_count": null,
   "metadata": {},
   "outputs": [],
   "source": []
  },
  {
   "cell_type": "code",
   "execution_count": null,
   "metadata": {},
   "outputs": [],
   "source": []
  },
  {
   "cell_type": "code",
   "execution_count": null,
   "metadata": {},
   "outputs": [],
   "source": []
  },
  {
   "cell_type": "code",
   "execution_count": null,
   "metadata": {},
   "outputs": [],
   "source": []
  },
  {
   "cell_type": "code",
   "execution_count": null,
   "metadata": {},
   "outputs": [],
   "source": []
  },
  {
   "cell_type": "code",
   "execution_count": null,
   "metadata": {},
   "outputs": [],
   "source": []
  },
  {
   "cell_type": "code",
   "execution_count": null,
   "metadata": {},
   "outputs": [],
   "source": []
  },
  {
   "cell_type": "code",
   "execution_count": null,
   "metadata": {},
   "outputs": [],
   "source": []
  },
  {
   "cell_type": "code",
   "execution_count": null,
   "metadata": {},
   "outputs": [],
   "source": []
  },
  {
   "cell_type": "markdown",
   "metadata": {},
   "source": [
    "### Financial Impact of the Best Model"
   ]
  },
  {
   "cell_type": "code",
   "execution_count": 57,
   "metadata": {},
   "outputs": [],
   "source": [
    "n_instances = len(X)\n",
    "p_instances = y.sum() / len(y)\n",
    "p_targeted = 0.1\n",
    "n_targeted = int(n_instances*p_targeted)\n",
    "n_targeted_test = int(len(X_test) * p_targeted)"
   ]
  },
  {
   "cell_type": "code",
   "execution_count": 58,
   "metadata": {},
   "outputs": [
    {
     "name": "stdout",
     "output_type": "stream",
     "text": [
      "              precision    recall  f1-score   support\n",
      "\n",
      "         0.0       0.69      0.61      0.65        18\n",
      "         1.0       0.67      0.74      0.70        19\n",
      "\n",
      "    accuracy                           0.68        37\n",
      "   macro avg       0.68      0.67      0.67        37\n",
      "weighted avg       0.68      0.68      0.67        37\n",
      "\n"
     ]
    },
    {
     "data": {
      "image/png": "[encoded data removed]",
      "text/plain": [
       "<Figure size 432x288 with 2 Axes>"
      ]
     },
     "metadata": {},
     "output_type": "display_data"
    }
   ],
   "source": [
    "# Create a dataframe of probabilities and actual / predicted outcomes\n",
    "probs_df = pd.DataFrame(np.hstack([probs, y_test.values.reshape(-1,1), preds.reshape(-1,1)]), \n",
    "                        columns=['p_no', 'p_yes', 'actual', 'predicted'])\n",
    "\n",
    "\n",
    "# Sort customers by the probability that they will convert\n",
    "model_targets = probs_df.sort_values('p_yes', ascending=False)\n",
    "\n",
    "# Take the top 10%\n",
    "model_targets = model_targets.head(n_targeted_test)\n",
    "\n",
    "\n",
    "# Calculate precision matrix\n",
    "plot_confusion_matrix(model_targets.actual, model_targets.predicted)"
   ]
  },
  {
   "cell_type": "markdown",
   "metadata": {},
   "source": [
    "Picking the top 10% fo our model prediction, the precision went down 6% (~84%) from exp1.0."
   ]
  },
  {
   "cell_type": "code",
   "execution_count": 59,
   "metadata": {},
   "outputs": [
    {
     "name": "stdout",
     "output_type": "stream",
     "text": [
      "Number of customers targeted: 37/370\n",
      "Conversion rate of model policy: 5.14%\n",
      "Expected profit of model policy: $18,630\n",
      "Lift over random: 3.3 or $13,000\n",
      "Lift over baseline: 1.5 or $6,000\n"
     ]
    }
   ],
   "source": [
    "# Setup costs and benefits\n",
    "avg_revenue = params.AVG_REVENUE\n",
    "avg_cost = params.AVG_COST\n",
    "\n",
    "# Calculate financial outcomes\n",
    "random_profit = experiment_1.get_model_profit(X_test, y_test, n_targeted_test, avg_revenue, avg_cost, experiment_1.random_model_predictions)\n",
    "baseline_profit = experiment_1.get_model_profit(X_test, y_test, n_targeted_test, avg_revenue, avg_cost, experiment_1.baseline_model_predictions)\n",
    "model_profit = experiment_1.get_model_profit(X_test, y_test, n_targeted_test, avg_revenue, avg_cost, preds=model_targets.actual)\n",
    "\n",
    "print('Number of customers targeted: {:,}/{:,}'.format(len(model_targets), len(X_test)))\n",
    "print('Conversion rate of model policy: {:.2f}%'.format(model_targets.actual.sum() / len(y_test)*100.))\n",
    "print('Expected profit of model policy: ${:,}'.format(model_profit))\n",
    "print('Lift over random: {:.1f} or ${:,}'.format(model_profit / random_profit, model_profit - random_profit))\n",
    "print('Lift over baseline: {:.1f} or ${:,}'.format(model_profit / baseline_profit, model_profit - baseline_profit))"
   ]
  },
  {
   "cell_type": "code",
   "execution_count": null,
   "metadata": {},
   "outputs": [],
   "source": []
  },
  {
   "cell_type": "code",
   "execution_count": null,
   "metadata": {},
   "outputs": [],
   "source": []
  },
  {
   "cell_type": "code",
   "execution_count": null,
   "metadata": {},
   "outputs": [],
   "source": []
  },
  {
   "cell_type": "code",
   "execution_count": null,
   "metadata": {},
   "outputs": [],
   "source": [
    "print('Number of training instances: {:,}'.format(len(X_train)))\n",
    "print('Number of test instances: {:,}'.format(len(X_test)))"
   ]
  },
  {
   "cell_type": "code",
   "execution_count": null,
   "metadata": {},
   "outputs": [],
   "source": [
    "import param_grid_models as rgrid\n",
    "from lightgbm import LGBMClassifier\n",
    "\n",
    "\n",
    "result = evaluate_model(X_train, y_train, 'lgbm',\n",
    "                        LGBMClassifier(),\n",
    "                        rgrid.lgbm_param_grid, \n",
    "                        scorer, n_iter=n_iter, \n",
    "                        cv_folds=5, pipeline=pipeline2)\n",
    "\n",
    "results.append(result)\n",
    "res_cv[result[1]] = get_cv_scores(result[0])\n",
    "#res_calibrated[result[1]] = plot_calibration_curve(result[0], X_train, X_test, y_train, y_test, plot_=False)\n",
    "\n",
    "\n",
    "\n",
    "model = list(filter(lambda x: x[1] == 'lgbm', results))[0][0]\n",
    "preds = model.model.predict(model.pipeline.transform(X))\n",
    "probs = model.model.predict_proba(model.pipeline.transform(X))\n",
    "plot_confusion_matrix(y, preds)\n",
    "\n",
    "#cal\n",
    "preds, probs = model.predict_calibrated(X, X, y)\n",
    "plot_confusion_matrix(y, preds)"
   ]
  },
  {
   "cell_type": "code",
   "execution_count": null,
   "metadata": {},
   "outputs": [],
   "source": [
    "def get_classification_report(y_test, y_pred):\n",
    "    '''Source: https://stackoverflow.com/questions/39662398/scikit-learn-output-metrics-classification-report-into-csv-tab-delimited-format'''\n",
    "    from sklearn import metrics\n",
    "    report = metrics.classification_report(y_test, y_pred, output_dict=True)\n",
    "    df_classification_report = pd.DataFrame(report).transpose()\n",
    "    df_classification_report = df_classification_report.sort_values(by=['f1-score'], ascending=False)\n",
    "    return df_classification_report"
   ]
  },
  {
   "cell_type": "markdown",
   "metadata": {},
   "source": [
    "## Model Performance"
   ]
  },
  {
   "cell_type": "code",
   "execution_count": null,
   "metadata": {},
   "outputs": [],
   "source": [
    "n_targeted = int(len(X_test) * P_TARGETED)\n",
    "print('Number of targeted customers:', n_targeted)"
   ]
  },
  {
   "cell_type": "markdown",
   "metadata": {},
   "source": [
    "Predict and score the test set"
   ]
  },
  {
   "cell_type": "code",
   "execution_count": null,
   "metadata": {},
   "outputs": [],
   "source": [
    "scorer = get_scorer()\n",
    "model.score(X_test, y_test, scorer)"
   ]
  },
  {
   "cell_type": "markdown",
   "metadata": {},
   "source": [
    "We're off by about 1.2% from our cross validation results which is well within two standard deviations of the results."
   ]
  },
  {
   "cell_type": "markdown",
   "metadata": {},
   "source": [
    "## Financial Performance"
   ]
  },
  {
   "cell_type": "markdown",
   "metadata": {},
   "source": [
    "Evaluate financial performance on baseline"
   ]
  },
  {
   "cell_type": "code",
   "execution_count": null,
   "metadata": {},
   "outputs": [],
   "source": [
    "baseline_preds = baseline_model_predictions(X_test, y_test, n_targeted)\n",
    "baseline_outcomes = baseline_preds.apply(lambda x: AVG_COST if x == 0 else AVG_COST + AVG_REVENUE)\n",
    "baseline_profit = sum(baseline_outcomes)\n",
    "baseline_rate = baseline_preds.sum() / len(baseline_preds)\n",
    "base_rate = y_test.sum() / len(y_test)\n",
    "\n",
    "print('Baseline profit: ${:,}'.format(baseline_profit))\n",
    "print('Baseline conversion rate: {:.2f}'.format(baseline_rate))\n",
    "print('Lift over random model: {:.1f}'.format(baseline_rate / base_rate))"
   ]
  },
  {
   "cell_type": "code",
   "execution_count": null,
   "metadata": {},
   "outputs": [],
   "source": [
    "X_test_trans = model.pipeline.transform(X_test)\n",
    "preds = model.model.predict(X_test_trans)\n",
    "probs = model.model.predict_proba(X_test_trans)"
   ]
  },
  {
   "cell_type": "code",
   "execution_count": null,
   "metadata": {},
   "outputs": [],
   "source": [
    "# Create a dataframe of probabilities and actual / predicted outcomes\n",
    "probs_df = pd.DataFrame(np.hstack([probs, y_test.values.reshape(-1,1), preds.reshape(-1,1)]), columns=['p_no', 'p_yes', 'actual', 'predicted'])\n",
    "\n",
    "# Sort customers by the probability that they will convert\n",
    "model_targets = probs_df.sort_values('p_yes', ascending=False)\n",
    "\n",
    "# Take the top N\n",
    "model_targets = model_targets.head(n_targeted)\n",
    "\n",
    "# Calculate financial outcomes\n",
    "model_outcomes = model_targets.actual.apply(lambda x: AVG_COST if x == 0 else AVG_COST + AVG_REVENUE)\n",
    "model_profit = sum(model_outcomes)\n",
    "model_conv_rate = model_targets.actual.sum() / len(model_targets)\n",
    "\n",
    "print('Model profit: ${:,}'.format(model_profit))\n",
    "print('Model lift: {:.1f} or ${:,}'.format(model_profit / baseline_profit, model_profit - baseline_profit))\n",
    "print('Targeted conversion rate: {:.2f}'.format(model_conv_rate))\n",
    "print('Conversion rate lift: {:.2f}'.format(model_conv_rate / base_rate))"
   ]
  },
  {
   "cell_type": "markdown",
   "metadata": {},
   "source": [
    "Our model produces the expected lift (see 2.0-experiment-1-baseline)."
   ]
  },
  {
   "cell_type": "code",
   "execution_count": null,
   "metadata": {},
   "outputs": [],
   "source": [
    "print(classification_report(model_targets.actual, model_targets.predicted))"
   ]
  },
  {
   "cell_type": "code",
   "execution_count": null,
   "metadata": {},
   "outputs": [],
   "source": [
    "print('Cost of false positives: ${:,}'.format(278*8))"
   ]
  },
  {
   "cell_type": "markdown",
   "metadata": {},
   "source": [
    "Given the neglible cost of false negatives, we can afford to miss all of the true negatives in the targeted sample - customers who did not end up converting."
   ]
  },
  {
   "cell_type": "code",
   "execution_count": null,
   "metadata": {},
   "outputs": [],
   "source": [
    "skplt.metrics.plot_cumulative_gain(y_test, probs);\n",
    "plt.axvline(.066, color='red');"
   ]
  },
  {
   "cell_type": "raw",
   "metadata": {},
   "source": [
    "<script>\n",
    "  jQuery(document).ready(function($) {\n",
    "\n",
    "  $(window).load(function(){\n",
    "    $('#preloader').fadeOut('slow',function(){$(this).remove();});\n",
    "  });\n",
    "\n",
    "  });\n",
    "</script>\n",
    "\n",
    "<style type=\"text/css\">\n",
    "  div#preloader { position: fixed;\n",
    "      left: 0;\n",
    "      top: 0;\n",
    "      z-index: 999;\n",
    "      width: 100%;\n",
    "      height: 100%;\n",
    "      overflow: visible;\n",
    "      background: #fff url('http://preloaders.net/preloaders/720/Moving%20line.gif') no-repeat center center;\n",
    "  }\n",
    "\n",
    "</style>\n",
    "\n",
    "<div id=\"preloader\"></div>"
   ]
  }
 ],
 "metadata": {
  "kernelspec": {
   "display_name": "Python 3",
   "language": "python",
   "name": "python3"
  },
  "language_info": {
   "codemirror_mode": {
    "name": "ipython",
    "version": 3
   },
   "file_extension": ".py",
   "mimetype": "text/x-python",
   "name": "python",
   "nbconvert_exporter": "python",
   "pygments_lexer": "ipython3",
   "version": "3.7.6"
  }
 },
 "nbformat": 4,
 "nbformat_minor": 4
}

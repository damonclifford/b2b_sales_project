{
 "cells": [
  {
   "cell_type": "raw",
   "metadata": {},
   "source": [
    "<script>\n",
    "  function code_toggle() {\n",
    "    if (code_shown){\n",
    "      $('div.input').hide('500');\n",
    "      $('#toggleButton').val('Show Code')\n",
    "    } else {\n",
    "      $('div.input').show('500');\n",
    "      $('#toggleButton').val('Hide Code')\n",
    "    }\n",
    "    code_shown = !code_shown\n",
    "  }\n",
    "\n",
    "  $( document ).ready(function(){\n",
    "    code_shown=false;\n",
    "    $('div.input').hide()\n",
    "  });\n",
    "</script>\n",
    "<form action=\"javascript:code_toggle()\"><input type=\"submit\" id=\"toggleButton\" value=\"Show Code\"></form>"
   ]
  },
  {
   "cell_type": "raw",
   "metadata": {},
   "source": [
    "<script>\n",
    "  $(document).ready(function(){\n",
    "    $('div.prompt').hide();\n",
    "    $('div.back-to-top').hide();\n",
    "    $('nav#menubar').hide();\n",
    "    $('.breadcrumb').hide();\n",
    "    $('.hidden-print').hide();\n",
    "  });\n",
    "</script>\n",
    "\n",
    "<footer id=\"attribution\" style=\"float:right; color:#999; background:#fff;\">\n",
    "Created with Jupyter, delivered by Fastly, rendered by Rackspace.\n",
    "</footer>"
   ]
  },
  {
   "cell_type": "markdown",
   "metadata": {},
   "source": [
    "# Data Pre Processing"
   ]
  },
  {
   "cell_type": "code",
   "execution_count": 295,
   "metadata": {},
   "outputs": [
    {
     "name": "stdout",
     "output_type": "stream",
     "text": [
      "The autoreload extension is already loaded. To reload it, use:\n",
      "  %reload_ext autoreload\n"
     ]
    }
   ],
   "source": [
    "%load_ext autoreload\n",
    "%autoreload 2\n",
    "from utils import code"
   ]
  },
  {
   "cell_type": "code",
   "execution_count": 296,
   "metadata": {},
   "outputs": [],
   "source": [
    "#support\n",
    "from adjust_datatype import urlify, int_to_float, pct_to_numeric\n",
    "from adjust_datatype import string_to_numeric, string_to_datetime, currency_to_numeric\n",
    "from plot_libraries import setup_graphics\n",
    "from datasets import get_data"
   ]
  },
  {
   "cell_type": "code",
   "execution_count": 348,
   "metadata": {},
   "outputs": [],
   "source": [
    "# load libraries and set plot parameters\n",
    "import os, random, re, sys, time, warnings\n",
    "import math\n",
    "import numpy as np\n",
    "import pandas as pd\n",
    "import pandas_profiling\n",
    "import matplotlib.pyplot as plt\n",
    "import seaborn as sns\n",
    "from datetime import datetime\n",
    "\n",
    "%matplotlib inline\n",
    "sns.set()\n",
    "pd.options.display.max_columns = None\n",
    "setup_graphics()"
   ]
  },
  {
   "cell_type": "markdown",
   "metadata": {},
   "source": [
    "##### Columns Description (inserir)"
   ]
  },
  {
   "cell_type": "markdown",
   "metadata": {},
   "source": [
    "### Upload Dataset"
   ]
  },
  {
   "cell_type": "code",
   "execution_count": 298,
   "metadata": {},
   "outputs": [
    {
     "data": {
      "text/plain": [
       "(17553, 38)"
      ]
     },
     "execution_count": 298,
     "metadata": {},
     "output_type": "execute_result"
    }
   ],
   "source": [
    "dataset = pd.read_csv('../data/dataset_csv.csv', delimiter=';', low_memory=False)\n",
    "dataset.shape"
   ]
  },
  {
   "cell_type": "code",
   "execution_count": 299,
   "metadata": {},
   "outputs": [
    {
     "data": {
      "text/html": [
       "<div>\n",
       "<style scoped>\n",
       "    .dataframe tbody tr th:only-of-type {\n",
       "        vertical-align: middle;\n",
       "    }\n",
       "\n",
       "    .dataframe tbody tr th {\n",
       "        vertical-align: top;\n",
       "    }\n",
       "\n",
       "    .dataframe thead th {\n",
       "        text-align: right;\n",
       "    }\n",
       "</style>\n",
       "<table border=\"1\" class=\"dataframe\">\n",
       "  <thead>\n",
       "    <tr style=\"text-align: right;\">\n",
       "      <th></th>\n",
       "      <th>Account ID</th>\n",
       "      <th>Number Of Opportunities</th>\n",
       "      <th>Nb Won Opp</th>\n",
       "      <th>Number of Open Opportunities</th>\n",
       "      <th>LastModifiedOpportunitiesDate</th>\n",
       "      <th>Last Activity</th>\n",
       "      <th>Last Lead Activity</th>\n",
       "      <th>Activities Last 30 Days</th>\n",
       "      <th>Employees</th>\n",
       "      <th>ZoomInfo Employee Range</th>\n",
       "      <th>ZoomInfo Revenue Range</th>\n",
       "      <th>Annual Revenue</th>\n",
       "      <th>Organic Visits</th>\n",
       "      <th>Pct Organic Visits</th>\n",
       "      <th>SEO team in the enterprise organization?</th>\n",
       "      <th>SEO Visits</th>\n",
       "      <th>Combined Pages</th>\n",
       "      <th>URLs Indexed</th>\n",
       "      <th>ZoomInfo Global HQ Country</th>\n",
       "      <th>Account Status</th>\n",
       "      <th>Active Service Package</th>\n",
       "      <th>Annual Revenue (converted)</th>\n",
       "      <th>Billing Country (text only)</th>\n",
       "      <th>Commited MRR - Today (converted)</th>\n",
       "      <th>Industry</th>\n",
       "      <th>Adjusted Industry</th>\n",
       "      <th>NbUsers</th>\n",
       "      <th>NbProjects</th>\n",
       "      <th>NbSessions</th>\n",
       "      <th>Net Promoter Score</th>\n",
       "      <th>Account ICP Score</th>\n",
       "      <th>Account ICP Tier</th>\n",
       "      <th>ICP TIER - HS</th>\n",
       "      <th>Page Count</th>\n",
       "      <th>Page Count - Range</th>\n",
       "      <th>Alexa Rank</th>\n",
       "      <th>Became a Customer date</th>\n",
       "      <th>Parent Account Status</th>\n",
       "    </tr>\n",
       "  </thead>\n",
       "  <tbody>\n",
       "    <tr>\n",
       "      <th>0</th>\n",
       "      <td>0012400000L5cmZ</td>\n",
       "      <td>7</td>\n",
       "      <td>1</td>\n",
       "      <td>1</td>\n",
       "      <td>2/14/2020 3:00 PM</td>\n",
       "      <td>11/12/2019</td>\n",
       "      <td>10/2/2019</td>\n",
       "      <td>0</td>\n",
       "      <td>10</td>\n",
       "      <td>-</td>\n",
       "      <td>-</td>\n",
       "      <td>EUR 3,000,000.0</td>\n",
       "      <td>61,688,430</td>\n",
       "      <td>34.00%</td>\n",
       "      <td>-</td>\n",
       "      <td>61,688,430</td>\n",
       "      <td>0</td>\n",
       "      <td>27,700,000</td>\n",
       "      <td>-</td>\n",
       "      <td>Lost Customer</td>\n",
       "      <td>No Service Package</td>\n",
       "      <td>USD 3,333,900.00</td>\n",
       "      <td>Turkey</td>\n",
       "      <td>USD 0.00</td>\n",
       "      <td>Internet Software &amp; Services</td>\n",
       "      <td>Retail</td>\n",
       "      <td>2</td>\n",
       "      <td>9</td>\n",
       "      <td>9</td>\n",
       "      <td>-</td>\n",
       "      <td>91.667</td>\n",
       "      <td>Tier A</td>\n",
       "      <td>Tier A</td>\n",
       "      <td>27,700,000</td>\n",
       "      <td>&gt;1M</td>\n",
       "      <td>331</td>\n",
       "      <td>2/12/2020</td>\n",
       "      <td>-</td>\n",
       "    </tr>\n",
       "    <tr>\n",
       "      <th>1</th>\n",
       "      <td>0011p00001Sgf9s</td>\n",
       "      <td>0</td>\n",
       "      <td>0</td>\n",
       "      <td>0</td>\n",
       "      <td>-</td>\n",
       "      <td>-</td>\n",
       "      <td>-</td>\n",
       "      <td>0</td>\n",
       "      <td>2,940</td>\n",
       "      <td>1,000 - 5,000</td>\n",
       "      <td>-</td>\n",
       "      <td>GBP 1,000,000,000.00</td>\n",
       "      <td>-</td>\n",
       "      <td>-</td>\n",
       "      <td>-</td>\n",
       "      <td>0</td>\n",
       "      <td>2,670,000</td>\n",
       "      <td>-</td>\n",
       "      <td>United States</td>\n",
       "      <td>Prospect</td>\n",
       "      <td>No Service Package</td>\n",
       "      <td>USD 1,311,577,953.50</td>\n",
       "      <td>United States</td>\n",
       "      <td>USD 0.00</td>\n",
       "      <td>PUBLISHING</td>\n",
       "      <td>Publisher</td>\n",
       "      <td>-</td>\n",
       "      <td>-</td>\n",
       "      <td>-</td>\n",
       "      <td>-</td>\n",
       "      <td>41.667</td>\n",
       "      <td>Tier A</td>\n",
       "      <td>Tier C - Incomplete</td>\n",
       "      <td>-</td>\n",
       "      <td>-</td>\n",
       "      <td>511</td>\n",
       "      <td>-</td>\n",
       "      <td>-</td>\n",
       "    </tr>\n",
       "    <tr>\n",
       "      <th>2</th>\n",
       "      <td>00124000004sEH5</td>\n",
       "      <td>11</td>\n",
       "      <td>8</td>\n",
       "      <td>1</td>\n",
       "      <td>2/14/2020 1:02 PM</td>\n",
       "      <td>2/14/2020</td>\n",
       "      <td>-</td>\n",
       "      <td>51</td>\n",
       "      <td>10,000</td>\n",
       "      <td>-</td>\n",
       "      <td>-</td>\n",
       "      <td>EUR 12,000,000,000.0</td>\n",
       "      <td>19,397,082</td>\n",
       "      <td>93.00%</td>\n",
       "      <td>-</td>\n",
       "      <td>28,615,923</td>\n",
       "      <td>206,300</td>\n",
       "      <td>76,200</td>\n",
       "      <td>-</td>\n",
       "      <td>Active Customer</td>\n",
       "      <td>Service Package Custom</td>\n",
       "      <td>USD 13,335,600,000.00</td>\n",
       "      <td>France</td>\n",
       "      <td>USD 1,000.17</td>\n",
       "      <td>Retailing</td>\n",
       "      <td>Retail</td>\n",
       "      <td>7</td>\n",
       "      <td>7</td>\n",
       "      <td>4</td>\n",
       "      <td>8</td>\n",
       "      <td>100</td>\n",
       "      <td>Tier A</td>\n",
       "      <td>Tier A</td>\n",
       "      <td>206,300</td>\n",
       "      <td>Between 100K and 250K</td>\n",
       "      <td>8,881</td>\n",
       "      <td>2/3/2020</td>\n",
       "      <td>Prospect</td>\n",
       "    </tr>\n",
       "    <tr>\n",
       "      <th>3</th>\n",
       "      <td>00124000015MJ24</td>\n",
       "      <td>0</td>\n",
       "      <td>0</td>\n",
       "      <td>0</td>\n",
       "      <td>-</td>\n",
       "      <td>-</td>\n",
       "      <td>-</td>\n",
       "      <td>0</td>\n",
       "      <td>10,000</td>\n",
       "      <td>-</td>\n",
       "      <td>-</td>\n",
       "      <td>EUR 1,000,000,000.0</td>\n",
       "      <td>31,310,211</td>\n",
       "      <td>66.00%</td>\n",
       "      <td>-</td>\n",
       "      <td>31,310,211</td>\n",
       "      <td>1,570,000</td>\n",
       "      <td>1,570,000</td>\n",
       "      <td>-</td>\n",
       "      <td>Prospect</td>\n",
       "      <td>No Service Package</td>\n",
       "      <td>USD 1,111,300,000.00</td>\n",
       "      <td>India</td>\n",
       "      <td>USD 0.00</td>\n",
       "      <td>Media</td>\n",
       "      <td>Media</td>\n",
       "      <td>-</td>\n",
       "      <td>-</td>\n",
       "      <td>-</td>\n",
       "      <td>-</td>\n",
       "      <td>100</td>\n",
       "      <td>Tier A</td>\n",
       "      <td>Tier A</td>\n",
       "      <td>1,570,000</td>\n",
       "      <td>&gt;1M</td>\n",
       "      <td>904</td>\n",
       "      <td>-</td>\n",
       "      <td>Prospect</td>\n",
       "    </tr>\n",
       "    <tr>\n",
       "      <th>4</th>\n",
       "      <td>0011p00002dLLfO</td>\n",
       "      <td>0</td>\n",
       "      <td>0</td>\n",
       "      <td>0</td>\n",
       "      <td>-</td>\n",
       "      <td>1/13/2020</td>\n",
       "      <td>-</td>\n",
       "      <td>0</td>\n",
       "      <td>10,000</td>\n",
       "      <td>Over 10,000</td>\n",
       "      <td>Over $5 bil.</td>\n",
       "      <td>USD 1,000,000,000.00</td>\n",
       "      <td>-</td>\n",
       "      <td>-</td>\n",
       "      <td>-</td>\n",
       "      <td>0</td>\n",
       "      <td>0</td>\n",
       "      <td>-</td>\n",
       "      <td>United States</td>\n",
       "      <td>Partner</td>\n",
       "      <td>No Service Package</td>\n",
       "      <td>USD 1,000,000,000.00</td>\n",
       "      <td>United States</td>\n",
       "      <td>USD 0.00</td>\n",
       "      <td>Computer Software</td>\n",
       "      <td>-</td>\n",
       "      <td>-</td>\n",
       "      <td>-</td>\n",
       "      <td>-</td>\n",
       "      <td>-</td>\n",
       "      <td>20.833</td>\n",
       "      <td>Tier A</td>\n",
       "      <td>Tier D - Incomplete</td>\n",
       "      <td>-</td>\n",
       "      <td>-</td>\n",
       "      <td>1,000,001</td>\n",
       "      <td>-</td>\n",
       "      <td>Prospect</td>\n",
       "    </tr>\n",
       "  </tbody>\n",
       "</table>\n",
       "</div>"
      ],
      "text/plain": [
       "        Account ID  Number Of Opportunities  Nb Won Opp  \\\n",
       "0  0012400000L5cmZ                        7           1   \n",
       "1  0011p00001Sgf9s                        0           0   \n",
       "2  00124000004sEH5                       11           8   \n",
       "3  00124000015MJ24                        0           0   \n",
       "4  0011p00002dLLfO                        0           0   \n",
       "\n",
       "   Number of Open Opportunities LastModifiedOpportunitiesDate Last Activity  \\\n",
       "0                             1             2/14/2020 3:00 PM    11/12/2019   \n",
       "1                             0                             -             -   \n",
       "2                             1             2/14/2020 1:02 PM     2/14/2020   \n",
       "3                             0                             -             -   \n",
       "4                             0                             -     1/13/2020   \n",
       "\n",
       "  Last Lead Activity Activities Last 30 Days Employees  \\\n",
       "0          10/2/2019                       0        10   \n",
       "1                  -                       0     2,940   \n",
       "2                  -                      51    10,000   \n",
       "3                  -                       0    10,000   \n",
       "4                  -                       0    10,000   \n",
       "\n",
       "  ZoomInfo Employee Range ZoomInfo Revenue Range        Annual Revenue  \\\n",
       "0                       -                      -       EUR 3,000,000.0   \n",
       "1           1,000 - 5,000                      -  GBP 1,000,000,000.00   \n",
       "2                       -                      -  EUR 12,000,000,000.0   \n",
       "3                       -                      -   EUR 1,000,000,000.0   \n",
       "4             Over 10,000           Over $5 bil.  USD 1,000,000,000.00   \n",
       "\n",
       "  Organic Visits Pct Organic Visits SEO team in the enterprise organization?  \\\n",
       "0     61,688,430             34.00%                                        -   \n",
       "1              -                  -                                        -   \n",
       "2     19,397,082             93.00%                                        -   \n",
       "3     31,310,211             66.00%                                        -   \n",
       "4              -                  -                                        -   \n",
       "\n",
       "   SEO Visits Combined Pages URLs Indexed ZoomInfo Global HQ Country  \\\n",
       "0  61,688,430              0   27,700,000                          -   \n",
       "1           0      2,670,000            -              United States   \n",
       "2  28,615,923        206,300       76,200                          -   \n",
       "3  31,310,211      1,570,000    1,570,000                          -   \n",
       "4           0              0            -              United States   \n",
       "\n",
       "    Account Status  Active Service Package Annual Revenue (converted)  \\\n",
       "0    Lost Customer      No Service Package           USD 3,333,900.00   \n",
       "1         Prospect      No Service Package       USD 1,311,577,953.50   \n",
       "2  Active Customer  Service Package Custom      USD 13,335,600,000.00   \n",
       "3         Prospect      No Service Package       USD 1,111,300,000.00   \n",
       "4          Partner      No Service Package       USD 1,000,000,000.00   \n",
       "\n",
       "  Billing Country (text only) Commited MRR - Today (converted)  \\\n",
       "0                      Turkey                         USD 0.00   \n",
       "1               United States                         USD 0.00   \n",
       "2                      France                     USD 1,000.17   \n",
       "3                       India                         USD 0.00   \n",
       "4               United States                         USD 0.00   \n",
       "\n",
       "                       Industry Adjusted Industry NbUsers NbProjects  \\\n",
       "0  Internet Software & Services            Retail       2          9   \n",
       "1                    PUBLISHING         Publisher       -          -   \n",
       "2                     Retailing            Retail       7          7   \n",
       "3                         Media             Media       -          -   \n",
       "4             Computer Software                 -       -          -   \n",
       "\n",
       "  NbSessions Net Promoter Score Account ICP Score Account ICP Tier  \\\n",
       "0          9                  -            91.667           Tier A   \n",
       "1          -                  -            41.667           Tier A   \n",
       "2          4                  8               100           Tier A   \n",
       "3          -                  -               100           Tier A   \n",
       "4          -                  -            20.833           Tier A   \n",
       "\n",
       "         ICP TIER - HS  Page Count     Page Count - Range Alexa Rank  \\\n",
       "0               Tier A  27,700,000                    >1M        331   \n",
       "1  Tier C - Incomplete           -                      -        511   \n",
       "2               Tier A     206,300  Between 100K and 250K      8,881   \n",
       "3               Tier A   1,570,000                    >1M        904   \n",
       "4  Tier D - Incomplete           -                      -  1,000,001   \n",
       "\n",
       "  Became a Customer date Parent Account Status  \n",
       "0              2/12/2020                     -  \n",
       "1                      -                     -  \n",
       "2               2/3/2020              Prospect  \n",
       "3                      -              Prospect  \n",
       "4                      -              Prospect  "
      ]
     },
     "execution_count": 299,
     "metadata": {},
     "output_type": "execute_result"
    }
   ],
   "source": [
    "dataset.head()"
   ]
  },
  {
   "cell_type": "markdown",
   "metadata": {},
   "source": [
    "##### Fix column names with whitespaces to underscores"
   ]
  },
  {
   "cell_type": "code",
   "execution_count": 300,
   "metadata": {},
   "outputs": [],
   "source": [
    "dataset.rename(urlify, axis='columns', inplace=True)"
   ]
  },
  {
   "cell_type": "markdown",
   "metadata": {},
   "source": [
    "##### Fix column types"
   ]
  },
  {
   "cell_type": "code",
   "execution_count": 301,
   "metadata": {},
   "outputs": [
    {
     "data": {
      "text/plain": [
       "Account_ID                                 object\n",
       "Number_Of_Opportunities                     int64\n",
       "Nb_Won_Opp                                  int64\n",
       "Number_of_Open_Opportunities                int64\n",
       "LastModifiedOpportunitiesDate              object\n",
       "Last_Activity                              object\n",
       "Last_Lead_Activity                         object\n",
       "Activities_Last_30_Days                    object\n",
       "Employees                                  object\n",
       "ZoomInfo_Employee_Range                    object\n",
       "ZoomInfo_Revenue_Range                     object\n",
       "Annual_Revenue                             object\n",
       "Organic_Visits                             object\n",
       "Pct_Organic_Visits                         object\n",
       "SEO_team_in_the_enterprise_organization    object\n",
       "SEO_Visits                                 object\n",
       "Combined_Pages                             object\n",
       "URLs_Indexed                               object\n",
       "ZoomInfo_Global_HQ_Country                 object\n",
       "Account_Status                             object\n",
       "Active_Service_Package                     object\n",
       "Annual_Revenue_converted                   object\n",
       "Billing_Country_text_only                  object\n",
       "Commited_MRR_Today_converted               object\n",
       "Industry                                   object\n",
       "Adjusted_Industry                          object\n",
       "NbUsers                                    object\n",
       "NbProjects                                 object\n",
       "NbSessions                                 object\n",
       "Net_Promoter_Score                         object\n",
       "Account_ICP_Score                          object\n",
       "Account_ICP_Tier                           object\n",
       "ICP_TIER_HS                                object\n",
       "Page_Count                                 object\n",
       "Page_Count_Range                           object\n",
       "Alexa_Rank                                 object\n",
       "Became_a_Customer_date                     object\n",
       "Parent_Account_Status                      object\n",
       "dtype: object"
      ]
     },
     "execution_count": 301,
     "metadata": {},
     "output_type": "execute_result"
    }
   ],
   "source": [
    "dataset.dtypes"
   ]
  },
  {
   "cell_type": "markdown",
   "metadata": {},
   "source": [
    "##### Fix datatypes to numeric"
   ]
  },
  {
   "cell_type": "code",
   "execution_count": 302,
   "metadata": {},
   "outputs": [],
   "source": [
    "dataset = int_to_float(dataset)"
   ]
  },
  {
   "cell_type": "code",
   "execution_count": 303,
   "metadata": {},
   "outputs": [],
   "source": [
    "dataset['Pct_Organic_Visits']  = pct_to_numeric(dataset, 'Pct_Organic_Visits')"
   ]
  },
  {
   "cell_type": "code",
   "execution_count": 304,
   "metadata": {},
   "outputs": [],
   "source": [
    "numeric_cols =['Activities_Last_30_Days', 'Employees', \n",
    "               'Organic_Visits', 'SEO_Visits', 'Combined_Pages',\n",
    "               'URLs_Indexed', 'NbProjects', \n",
    "               'NbUsers', 'NbSessions', 'Net_Promoter_Score', \n",
    "               'Account_ICP_Score', 'Page_Count', 'Alexa_Rank']"
   ]
  },
  {
   "cell_type": "code",
   "execution_count": 305,
   "metadata": {},
   "outputs": [],
   "source": [
    "for col in numeric_cols:\n",
    "    dataset[col] = string_to_numeric(dataset, col)"
   ]
  },
  {
   "cell_type": "code",
   "execution_count": 306,
   "metadata": {},
   "outputs": [],
   "source": [
    "datetime_cols = ['LastModifiedOpportunitiesDate', 'Last_Activity',\n",
    "                  'Last_Lead_Activity', 'Became_a_Customer_date' ]"
   ]
  },
  {
   "cell_type": "code",
   "execution_count": 307,
   "metadata": {},
   "outputs": [],
   "source": [
    "for col in datetime_cols:\n",
    "    dataset[col] = string_to_datetime(dataset, col)"
   ]
  },
  {
   "cell_type": "code",
   "execution_count": 308,
   "metadata": {},
   "outputs": [],
   "source": [
    "currency_cols = ['Commited_MRR_Today_converted', 'Annual_Revenue_converted']\n",
    "for col in currency_cols:\n",
    "    dataset[col] = currency_to_numeric(dataset, col)"
   ]
  },
  {
   "cell_type": "markdown",
   "metadata": {},
   "source": [
    "### Target Columns\n",
    "\n",
    "Our task is to predict if the lead will convert at next try"
   ]
  },
  {
   "cell_type": "code",
   "execution_count": 309,
   "metadata": {},
   "outputs": [],
   "source": [
    "dataset = dataset[dataset['Account_Status'] != 'Partner'].copy()"
   ]
  },
  {
   "cell_type": "code",
   "execution_count": 310,
   "metadata": {},
   "outputs": [],
   "source": [
    "def target(status, n_try):\n",
    "    if status == 'Active Customer': return 'yes'     \n",
    "    elif status == 'Lost Customer': return 'no'       \n",
    "    elif (status == 'Prospect') & (n_try >0): return 'no'  \n",
    "    else: return 'prospect'"
   ]
  },
  {
   "cell_type": "code",
   "execution_count": 311,
   "metadata": {},
   "outputs": [],
   "source": [
    "dataset['y'] = dataset.apply(lambda x: target(x['Account_Status'],x['Number_Of_Opportunities']),axis=1)"
   ]
  },
  {
   "cell_type": "markdown",
   "metadata": {},
   "source": [
    "At this time some columns does not have any predictive value, specially beacuse they are generated after the deal."
   ]
  },
  {
   "cell_type": "code",
   "execution_count": 312,
   "metadata": {},
   "outputs": [
    {
     "data": {
      "text/plain": [
       "Number_Of_Opportunities          1\n",
       "Nb_Won_Opp                       1\n",
       "Number_of_Open_Opportunities     1\n",
       "LastModifiedOpportunitiesDate    0\n",
       "Account_Status                   1\n",
       "Active_Service_Package           1\n",
       "Commited_MRR_Today_converted     1\n",
       "Became_a_Customer_date           0\n",
       "y                                1\n",
       "dtype: int64"
      ]
     },
     "execution_count": 312,
     "metadata": {},
     "output_type": "execute_result"
    }
   ],
   "source": [
    "uniques = dataset[dataset.y == 'prospect'].nunique()\n",
    "uniques[uniques<=1]"
   ]
  },
  {
   "cell_type": "markdown",
   "metadata": {},
   "source": [
    " We have to drop them (except our target variable)"
   ]
  },
  {
   "cell_type": "code",
   "execution_count": 313,
   "metadata": {},
   "outputs": [
    {
     "data": {
      "text/plain": [
       "Index(['Number_Of_Opportunities', 'Nb_Won_Opp', 'Number_of_Open_Opportunities',\n",
       "       'LastModifiedOpportunitiesDate', 'Account_Status',\n",
       "       'Active_Service_Package', 'Commited_MRR_Today_converted',\n",
       "       'Became_a_Customer_date'],\n",
       "      dtype='object')"
      ]
     },
     "execution_count": 313,
     "metadata": {},
     "output_type": "execute_result"
    }
   ],
   "source": [
    "drop_uniques"
   ]
  },
  {
   "cell_type": "code",
   "execution_count": 314,
   "metadata": {},
   "outputs": [],
   "source": [
    "dataset.drop(columns=drop_uniques, inplace=True)"
   ]
  },
  {
   "cell_type": "markdown",
   "metadata": {},
   "source": [
    "### Fix Critic Errors"
   ]
  },
  {
   "cell_type": "markdown",
   "metadata": {},
   "source": [
    "##### We must drop some columns with critical problems such as:\n",
    "* `SEO_team_in_the_enterprise_organization:` Only 7 rows filled \n",
    "* `Annual_Revenue:` Similar to 'Annual_Revenue_converted'\n",
    "* `ICP_TIER_HS:` Similar to 'Account_ICP_Tier'\n",
    "\n",
    "* `'Net_Promoter_Score', 'NbSessions', 'NbProjects', 'NbUsers','Last_Lead_Activity', 'Combined_Pages', 'Last_Activity','Pct_Organic_Visits', 'Page_Count', 'URLs_Indexed':` Too many Missing Values"
   ]
  },
  {
   "cell_type": "code",
   "execution_count": 315,
   "metadata": {},
   "outputs": [
    {
     "data": {
      "text/plain": [
       "Index(['Net_Promoter_Score', 'NbSessions', 'NbProjects', 'NbUsers',\n",
       "       'Last_Lead_Activity', 'Combined_Pages', 'Last_Activity',\n",
       "       'Pct_Organic_Visits', 'Page_Count', 'URLs_Indexed'],\n",
       "      dtype='object')"
      ]
     },
     "execution_count": 315,
     "metadata": {},
     "output_type": "execute_result"
    }
   ],
   "source": [
    "drop_null.index"
   ]
  },
  {
   "cell_type": "code",
   "execution_count": 316,
   "metadata": {},
   "outputs": [
    {
     "data": {
      "text/plain": [
       "-                                 17540\n",
       "Under marketing                       4\n",
       "Under the website product team        3\n",
       "Name: SEO_team_in_the_enterprise_organization, dtype: int64"
      ]
     },
     "execution_count": 316,
     "metadata": {},
     "output_type": "execute_result"
    }
   ],
   "source": [
    "dataset.SEO_team_in_the_enterprise_organization.value_counts()"
   ]
  },
  {
   "cell_type": "code",
   "execution_count": 317,
   "metadata": {},
   "outputs": [
    {
     "data": {
      "text/plain": [
       "Net_Promoter_Score    0.993788\n",
       "NbSessions            0.983986\n",
       "NbProjects            0.931384\n",
       "NbUsers               0.931384\n",
       "Last_Lead_Activity    0.821166\n",
       "Combined_Pages        0.697213\n",
       "Last_Activity         0.577421\n",
       "Pct_Organic_Visits    0.364279\n",
       "Page_Count            0.212230\n",
       "URLs_Indexed          0.212230\n",
       "dtype: float64"
      ]
     },
     "execution_count": 317,
     "metadata": {},
     "output_type": "execute_result"
    }
   ],
   "source": [
    "drop_null = dataset.isnull().mean().sort_values(ascending=False)[:10]\n",
    "drop_null"
   ]
  },
  {
   "cell_type": "code",
   "execution_count": 318,
   "metadata": {},
   "outputs": [],
   "source": [
    "drop = ['Annual_Revenue', 'ICP_TIER_HS', 'SEO_team_in_the_enterprise_organization'] + drop_null.index[:7].to_list()\n",
    "dataset.drop(columns=drop, inplace=True)"
   ]
  },
  {
   "cell_type": "markdown",
   "metadata": {},
   "source": [
    "Some categorical features has too much unique values\n",
    "\n",
    "* `Industry:` Similar to 'Adjusted_Industry'\n",
    "* `Billing_Country_text_only:` Similar to 'ZoomInfo_Global_HQ_Country'"
   ]
  },
  {
   "cell_type": "code",
   "execution_count": 319,
   "metadata": {},
   "outputs": [
    {
     "data": {
      "text/plain": [
       "ZoomInfo_Revenue_Range        13\n",
       "Page_Count_Range              12\n",
       "ZoomInfo_Employee_Range       12\n",
       "ICP_TIER_HS                    9\n",
       "Adjusted_Industry              6\n",
       "Parent_Account_Status          4\n",
       "Account_ICP_Tier               4\n",
       "ZoomInfo_Global_HQ_Country     3\n",
       "dtype: int64"
      ]
     },
     "execution_count": 319,
     "metadata": {},
     "output_type": "execute_result"
    }
   ],
   "source": [
    "nuniques = X[categorical].nunique().sort_values(ascending=False)\n",
    "nuniques"
   ]
  },
  {
   "cell_type": "markdown",
   "metadata": {},
   "source": [
    "Fixinig `Adjusted_Industry` values:"
   ]
  },
  {
   "cell_type": "code",
   "execution_count": 320,
   "metadata": {},
   "outputs": [
    {
     "data": {
      "text/plain": [
       "Media                         5583\n",
       "Retail                        3879\n",
       "Other                         3547\n",
       "Classified                    2383\n",
       "Travel                         739\n",
       "-                              545\n",
       "Agencies                       501\n",
       "Botify Ltd.                    287\n",
       "Publisher                       50\n",
       "Financial Services/Banking      33\n",
       "Name: Adjusted_Industry, dtype: int64"
      ]
     },
     "execution_count": 320,
     "metadata": {},
     "output_type": "execute_result"
    }
   ],
   "source": [
    "dataset['Adjusted_Industry'].value_counts()"
   ]
  },
  {
   "cell_type": "code",
   "execution_count": 321,
   "metadata": {},
   "outputs": [],
   "source": [
    "for val in ['Publisher', '-', 'Other', 'Botify Ltd.']:\n",
    "    dataset['Adjusted_Industry'].mask(dataset['Adjusted_Industry'] == val, 'Other', inplace=True)"
   ]
  },
  {
   "cell_type": "markdown",
   "metadata": {},
   "source": [
    "Transform `ZoomInfo_Global_HQ_Country` values into a binary class US or non-US, could be useful:"
   ]
  },
  {
   "cell_type": "code",
   "execution_count": 322,
   "metadata": {},
   "outputs": [
    {
     "data": {
      "text/plain": [
       "United States     7162\n",
       "-                 4880\n",
       "United Kingdom     533\n",
       "Canada             468\n",
       "Germany            387\n",
       "                  ... \n",
       "Fiji                 1\n",
       "Moldova              1\n",
       "Hong Kong            1\n",
       "Uruguay              1\n",
       "Cameroon             1\n",
       "Name: ZoomInfo_Global_HQ_Country, Length: 128, dtype: int64"
      ]
     },
     "execution_count": 322,
     "metadata": {},
     "output_type": "execute_result"
    }
   ],
   "source": [
    "dataset['ZoomInfo_Global_HQ_Country'].value_counts()"
   ]
  },
  {
   "cell_type": "code",
   "execution_count": 323,
   "metadata": {},
   "outputs": [],
   "source": [
    "def HQ(country):\n",
    "    if country == 'United States': return 'US'     \n",
    "    elif country == '-': return '-'        \n",
    "    else: return 'non_US'"
   ]
  },
  {
   "cell_type": "code",
   "execution_count": 324,
   "metadata": {},
   "outputs": [],
   "source": [
    "dataset['ZoomInfo_Global_HQ_Country'] = dataset.apply(lambda x: HQ(x['ZoomInfo_Global_HQ_Country']),axis=1)"
   ]
  },
  {
   "cell_type": "code",
   "execution_count": 325,
   "metadata": {},
   "outputs": [],
   "source": [
    "drop = ['Industry', 'Billing_Country_text_only']\n",
    "dataset.drop(columns=drop, inplace=True)"
   ]
  },
  {
   "cell_type": "markdown",
   "metadata": {},
   "source": [
    "##### Some rows are highly empty, most of them are tagged as 'Incomplete' (+-20%), in the `Account_ICP_Tier` column. Let's remove them."
   ]
  },
  {
   "cell_type": "code",
   "execution_count": 326,
   "metadata": {},
   "outputs": [],
   "source": [
    "dataset = dataset[dataset['Account_ICP_Tier'] != 'Incomplete'].copy()"
   ]
  },
  {
   "cell_type": "markdown",
   "metadata": {},
   "source": [
    "### Split Dataset"
   ]
  },
  {
   "cell_type": "code",
   "execution_count": 327,
   "metadata": {},
   "outputs": [],
   "source": [
    "trainDF = dataset[dataset['y'].isin(['yes' , 'no'])].copy()"
   ]
  },
  {
   "cell_type": "code",
   "execution_count": 328,
   "metadata": {},
   "outputs": [],
   "source": [
    "PredDF = dataset[dataset['y'] == 'prospect'].copy()"
   ]
  },
  {
   "cell_type": "code",
   "execution_count": 329,
   "metadata": {},
   "outputs": [],
   "source": [
    "trainDF.to_csv(r'/Users/nicholasrichers/Documents/GitHub/b2b_sales_project/data/trainDF.csv',\n",
    "               index=False, header=True)"
   ]
  },
  {
   "cell_type": "code",
   "execution_count": 330,
   "metadata": {},
   "outputs": [],
   "source": [
    "PredDF.to_csv(r'/Users/nicholasrichers/Documents/GitHub/b2b_sales_project/data/PredDF.csv',\n",
    "              index=False, header=True)"
   ]
  },
  {
   "cell_type": "code",
   "execution_count": 331,
   "metadata": {},
   "outputs": [
    {
     "data": {
      "text/plain": [
       "(1849, 19)"
      ]
     },
     "execution_count": 331,
     "metadata": {},
     "output_type": "execute_result"
    }
   ],
   "source": [
    "trainDF.shape"
   ]
  },
  {
   "cell_type": "markdown",
   "metadata": {},
   "source": [
    "# Exploratory Data Analisys"
   ]
  },
  {
   "cell_type": "markdown",
   "metadata": {},
   "source": [
    "describe and categorize columns"
   ]
  },
  {
   "cell_type": "code",
   "execution_count": 332,
   "metadata": {},
   "outputs": [
    {
     "data": {
      "text/html": [
       "<div>\n",
       "<style scoped>\n",
       "    .dataframe tbody tr th:only-of-type {\n",
       "        vertical-align: middle;\n",
       "    }\n",
       "\n",
       "    .dataframe tbody tr th {\n",
       "        vertical-align: top;\n",
       "    }\n",
       "\n",
       "    .dataframe thead th {\n",
       "        text-align: right;\n",
       "    }\n",
       "</style>\n",
       "<table border=\"1\" class=\"dataframe\">\n",
       "  <thead>\n",
       "    <tr style=\"text-align: right;\">\n",
       "      <th></th>\n",
       "      <th>Activities_Last_30_Days</th>\n",
       "      <th>Employees</th>\n",
       "      <th>ZoomInfo_Employee_Range</th>\n",
       "      <th>ZoomInfo_Revenue_Range</th>\n",
       "      <th>Organic_Visits</th>\n",
       "      <th>Pct_Organic_Visits</th>\n",
       "      <th>SEO_Visits</th>\n",
       "      <th>URLs_Indexed</th>\n",
       "      <th>ZoomInfo_Global_HQ_Country</th>\n",
       "      <th>Annual_Revenue_converted</th>\n",
       "      <th>Adjusted_Industry</th>\n",
       "      <th>Account_ICP_Score</th>\n",
       "      <th>Account_ICP_Tier</th>\n",
       "      <th>Page_Count</th>\n",
       "      <th>Page_Count_Range</th>\n",
       "      <th>Alexa_Rank</th>\n",
       "      <th>Parent_Account_Status</th>\n",
       "    </tr>\n",
       "    <tr>\n",
       "      <th>Account_ID</th>\n",
       "      <th></th>\n",
       "      <th></th>\n",
       "      <th></th>\n",
       "      <th></th>\n",
       "      <th></th>\n",
       "      <th></th>\n",
       "      <th></th>\n",
       "      <th></th>\n",
       "      <th></th>\n",
       "      <th></th>\n",
       "      <th></th>\n",
       "      <th></th>\n",
       "      <th></th>\n",
       "      <th></th>\n",
       "      <th></th>\n",
       "      <th></th>\n",
       "      <th></th>\n",
       "    </tr>\n",
       "  </thead>\n",
       "  <tbody>\n",
       "    <tr>\n",
       "      <th>0012400000L5cmZ</th>\n",
       "      <td>0.0</td>\n",
       "      <td>10.0</td>\n",
       "      <td>-</td>\n",
       "      <td>-</td>\n",
       "      <td>61688430.0</td>\n",
       "      <td>0.34</td>\n",
       "      <td>61688430.0</td>\n",
       "      <td>27700000.0</td>\n",
       "      <td>-</td>\n",
       "      <td>3.333900e+06</td>\n",
       "      <td>Retail</td>\n",
       "      <td>91.667</td>\n",
       "      <td>Tier A</td>\n",
       "      <td>27700000.0</td>\n",
       "      <td>&gt;1M</td>\n",
       "      <td>331.0</td>\n",
       "      <td>-</td>\n",
       "    </tr>\n",
       "    <tr>\n",
       "      <th>00124000004sEH5</th>\n",
       "      <td>51.0</td>\n",
       "      <td>10000.0</td>\n",
       "      <td>-</td>\n",
       "      <td>-</td>\n",
       "      <td>19397082.0</td>\n",
       "      <td>0.93</td>\n",
       "      <td>28615923.0</td>\n",
       "      <td>76200.0</td>\n",
       "      <td>-</td>\n",
       "      <td>1.333560e+10</td>\n",
       "      <td>Retail</td>\n",
       "      <td>100.000</td>\n",
       "      <td>Tier A</td>\n",
       "      <td>206300.0</td>\n",
       "      <td>Between 100K and 250K</td>\n",
       "      <td>8881.0</td>\n",
       "      <td>Prospect</td>\n",
       "    </tr>\n",
       "    <tr>\n",
       "      <th>00124000004sUGG</th>\n",
       "      <td>0.0</td>\n",
       "      <td>5000.0</td>\n",
       "      <td>-</td>\n",
       "      <td>-</td>\n",
       "      <td>49283858.0</td>\n",
       "      <td>0.53</td>\n",
       "      <td>50132407.0</td>\n",
       "      <td>12600000.0</td>\n",
       "      <td>-</td>\n",
       "      <td>5.556500e+08</td>\n",
       "      <td>Media</td>\n",
       "      <td>100.000</td>\n",
       "      <td>Tier A</td>\n",
       "      <td>12709000.0</td>\n",
       "      <td>&gt;1M</td>\n",
       "      <td>1118.0</td>\n",
       "      <td>Lost Customer</td>\n",
       "    </tr>\n",
       "    <tr>\n",
       "      <th>0011p00002SeaiQ</th>\n",
       "      <td>0.0</td>\n",
       "      <td>383.0</td>\n",
       "      <td>250 - 500</td>\n",
       "      <td>$50 mil. - $100 mil.</td>\n",
       "      <td>177515.0</td>\n",
       "      <td>NaN</td>\n",
       "      <td>177515.0</td>\n",
       "      <td>1090000.0</td>\n",
       "      <td>US</td>\n",
       "      <td>7.360000e+07</td>\n",
       "      <td>Classified</td>\n",
       "      <td>70.833</td>\n",
       "      <td>Tier A</td>\n",
       "      <td>1090000.0</td>\n",
       "      <td>&gt;1M</td>\n",
       "      <td>126905.0</td>\n",
       "      <td>-</td>\n",
       "    </tr>\n",
       "    <tr>\n",
       "      <th>0011p00001SghSL</th>\n",
       "      <td>0.0</td>\n",
       "      <td>5000.0</td>\n",
       "      <td>1,000 - 5,000</td>\n",
       "      <td>$500 mil. - $1 bil.</td>\n",
       "      <td>8052961.0</td>\n",
       "      <td>0.59</td>\n",
       "      <td>10416602.0</td>\n",
       "      <td>2340000.0</td>\n",
       "      <td>US</td>\n",
       "      <td>2.500000e+08</td>\n",
       "      <td>Classified</td>\n",
       "      <td>100.000</td>\n",
       "      <td>Tier A</td>\n",
       "      <td>3640000.0</td>\n",
       "      <td>&gt;1M</td>\n",
       "      <td>4742.0</td>\n",
       "      <td>Prospect</td>\n",
       "    </tr>\n",
       "  </tbody>\n",
       "</table>\n",
       "</div>"
      ],
      "text/plain": [
       "                 Activities_Last_30_Days  Employees ZoomInfo_Employee_Range  \\\n",
       "Account_ID                                                                    \n",
       "0012400000L5cmZ                      0.0       10.0                       -   \n",
       "00124000004sEH5                     51.0    10000.0                       -   \n",
       "00124000004sUGG                      0.0     5000.0                       -   \n",
       "0011p00002SeaiQ                      0.0      383.0               250 - 500   \n",
       "0011p00001SghSL                      0.0     5000.0           1,000 - 5,000   \n",
       "\n",
       "                ZoomInfo_Revenue_Range  Organic_Visits  Pct_Organic_Visits  \\\n",
       "Account_ID                                                                   \n",
       "0012400000L5cmZ                      -      61688430.0                0.34   \n",
       "00124000004sEH5                      -      19397082.0                0.93   \n",
       "00124000004sUGG                      -      49283858.0                0.53   \n",
       "0011p00002SeaiQ   $50 mil. - $100 mil.        177515.0                 NaN   \n",
       "0011p00001SghSL    $500 mil. - $1 bil.       8052961.0                0.59   \n",
       "\n",
       "                 SEO_Visits  URLs_Indexed ZoomInfo_Global_HQ_Country  \\\n",
       "Account_ID                                                             \n",
       "0012400000L5cmZ  61688430.0    27700000.0                          -   \n",
       "00124000004sEH5  28615923.0       76200.0                          -   \n",
       "00124000004sUGG  50132407.0    12600000.0                          -   \n",
       "0011p00002SeaiQ    177515.0     1090000.0                         US   \n",
       "0011p00001SghSL  10416602.0     2340000.0                         US   \n",
       "\n",
       "                 Annual_Revenue_converted Adjusted_Industry  \\\n",
       "Account_ID                                                    \n",
       "0012400000L5cmZ              3.333900e+06            Retail   \n",
       "00124000004sEH5              1.333560e+10            Retail   \n",
       "00124000004sUGG              5.556500e+08             Media   \n",
       "0011p00002SeaiQ              7.360000e+07        Classified   \n",
       "0011p00001SghSL              2.500000e+08        Classified   \n",
       "\n",
       "                 Account_ICP_Score Account_ICP_Tier  Page_Count  \\\n",
       "Account_ID                                                        \n",
       "0012400000L5cmZ             91.667           Tier A  27700000.0   \n",
       "00124000004sEH5            100.000           Tier A    206300.0   \n",
       "00124000004sUGG            100.000           Tier A  12709000.0   \n",
       "0011p00002SeaiQ             70.833           Tier A   1090000.0   \n",
       "0011p00001SghSL            100.000           Tier A   3640000.0   \n",
       "\n",
       "                      Page_Count_Range  Alexa_Rank Parent_Account_Status  \n",
       "Account_ID                                                                \n",
       "0012400000L5cmZ                    >1M       331.0                     -  \n",
       "00124000004sEH5  Between 100K and 250K      8881.0              Prospect  \n",
       "00124000004sUGG                    >1M      1118.0         Lost Customer  \n",
       "0011p00002SeaiQ                    >1M    126905.0                     -  \n",
       "0011p00001SghSL                    >1M      4742.0              Prospect  "
      ]
     },
     "execution_count": 332,
     "metadata": {},
     "output_type": "execute_result"
    }
   ],
   "source": [
    "X, y = get_data('../data/trainDF.csv')\n",
    "X.head()"
   ]
  },
  {
   "cell_type": "markdown",
   "metadata": {},
   "source": [
    "Calculate current and previous campaign success rates. Note that the classes are unbalanced."
   ]
  },
  {
   "cell_type": "code",
   "execution_count": 333,
   "metadata": {},
   "outputs": [
    {
     "name": "stdout",
     "output_type": "stream",
     "text": [
      "Number of records: 1849\n",
      "Success Rate (Last Campaign): 0.17036235803136832\n"
     ]
    }
   ],
   "source": [
    "print('Number of records:', len(X))\n",
    "print('Success Rate (Last Campaign):', y.sum() / len(X))"
   ]
  },
  {
   "cell_type": "code",
   "execution_count": 334,
   "metadata": {},
   "outputs": [
    {
     "name": "stdout",
     "output_type": "stream",
     "text": [
      "Numeric:\n",
      " ['Activities_Last_30_Days' 'Employees' 'Organic_Visits'\n",
      " 'Pct_Organic_Visits' 'SEO_Visits' 'URLs_Indexed'\n",
      " 'Annual_Revenue_converted' 'Account_ICP_Score' 'Page_Count' 'Alexa_Rank']\n",
      "Categorical:\n",
      " ['ZoomInfo_Employee_Range' 'ZoomInfo_Revenue_Range'\n",
      " 'ZoomInfo_Global_HQ_Country' 'Adjusted_Industry' 'Account_ICP_Tier'\n",
      " 'Page_Count_Range' 'Parent_Account_Status']\n"
     ]
    }
   ],
   "source": [
    "dtypes = pd.DataFrame(X.dtypes.rename('type')).reset_index().astype('str')\n",
    "numeric = dtypes[(dtypes.type.isin(['int64', 'float64']))]['index'].values\n",
    "categorical = dtypes[~(dtypes['index'].isin(numeric)) & (dtypes['index'] != 'y')]['index'].values\n",
    "\n",
    "print('Numeric:\\n', numeric)\n",
    "print('Categorical:\\n', categorical)"
   ]
  },
  {
   "cell_type": "markdown",
   "metadata": {},
   "source": [
    "### Categorical Values"
   ]
  },
  {
   "cell_type": "code",
   "execution_count": 341,
   "metadata": {},
   "outputs": [
    {
     "data": {
      "image/png": "[encoded data removed]",
      "text/plain": [
       "<Figure size 864x288 with 2 Axes>"
      ]
     },
     "metadata": {},
     "output_type": "display_data"
    },
    {
     "data": {
      "image/png": "[encoded data removed]",
      "text/plain": [
       "<Figure size 864x288 with 2 Axes>"
      ]
     },
     "metadata": {},
     "output_type": "display_data"
    },
    {
     "data": {
      "image/png": "[encoded data removed]",
      "text/plain": [
       "<Figure size 864x288 with 2 Axes>"
      ]
     },
     "metadata": {},
     "output_type": "display_data"
    },
    {
     "data": {
      "image/png": "[encoded data removed]",
      "text/plain": [
       "<Figure size 864x288 with 2 Axes>"
      ]
     },
     "metadata": {},
     "output_type": "display_data"
    },
    {
     "data": {
      "image/png": "[encoded data removed]",
      "text/plain": [
       "<Figure size 864x288 with 2 Axes>"
      ]
     },
     "metadata": {},
     "output_type": "display_data"
    },
    {
     "data": {
      "image/png": "[encoded data removed]",
      "text/plain": [
       "<Figure size 864x288 with 2 Axes>"
      ]
     },
     "metadata": {},
     "output_type": "display_data"
    },
    {
     "data": {
      "image/png": "[encoded data removed]",
      "text/plain": [
       "<Figure size 864x288 with 2 Axes>"
      ]
     },
     "metadata": {},
     "output_type": "display_data"
    }
   ],
   "source": [
    "for attr in categorical:\n",
    "  fig, (ax1, ax2) = plt.subplots(1, 2, figsize=(12,4))\n",
    "  outcome_counts = X.groupby([attr, y]).size().rename('count').reset_index()\n",
    "  by_outcome = outcome_counts.pivot(columns='y', values='count', index=attr)\n",
    "  # Plot the proportions\n",
    "  by_outcome.div(by_outcome.sum(1), axis=0).plot.bar(stacked=True, ax=ax1)\n",
    "  # Plot the counts\n",
    "  X[attr].value_counts().plot.bar(ax=ax2, legend=False,color='steelblue')\n",
    "  #print('Support (%s)\\n' % attr)\n",
    "  #print(X[attr].value_counts(), '\\n')\n",
    "  plt.title(attr)"
   ]
  },
  {
   "cell_type": "markdown",
   "metadata": {},
   "source": [
    "* `ZoomInfo_Employee_Range`: Can't say much because there are too many empty values (\"-\"), and classes with higher proportions has few values.\n",
    "* `ZoomInfo_Revenue_Range:` Same as above, maybe use the equivalent numeric values could be a good strategy.\n",
    "* `ZoomInfo_Global_HQ_Country:` Transform this column to \"US or non-US\", now seem to be a good idea, US companies are more likely to convert.\n",
    "* `Account_ICP_Tier:` As we increase the class more likely\n",
    "* `Page_Count_Range:` As we increase page count more likely\n",
    "* `Parent_Account_Status:` There are too few values about the classes, to able us to infer any information about them.\n",
    "\n"
   ]
  },
  {
   "cell_type": "markdown",
   "metadata": {},
   "source": [
    "### Numeric Values"
   ]
  },
  {
   "cell_type": "markdown",
   "metadata": {},
   "source": [
    "As we still have some missing values, we will have to create later some rules to fill them in order to perform some models such as linear, which are not robust to nan values."
   ]
  },
  {
   "cell_type": "code",
   "execution_count": 360,
   "metadata": {},
   "outputs": [
    {
     "data": {
      "text/plain": [
       "Activities_Last_30_Days       0\n",
       "Employees                    27\n",
       "Organic_Visits              107\n",
       "Pct_Organic_Visits          395\n",
       "SEO_Visits                    0\n",
       "URLs_Indexed                106\n",
       "Annual_Revenue_converted     35\n",
       "Account_ICP_Score             0\n",
       "Page_Count                  106\n",
       "Alexa_Rank                    0\n",
       "dtype: int64"
      ]
     },
     "execution_count": 360,
     "metadata": {},
     "output_type": "execute_result"
    }
   ],
   "source": [
    "X[numeric].isnull().sum()"
   ]
  },
  {
   "cell_type": "markdown",
   "metadata": {},
   "source": [
    "Most of numeric columns are also highly skewed, a 'log-tansform', can be useful here."
   ]
  },
  {
   "cell_type": "code",
   "execution_count": 343,
   "metadata": {},
   "outputs": [
    {
     "data": {
      "image/png": "[encoded data removed]",
      "text/plain": [
       "<Figure size 864x864 with 12 Axes>"
      ]
     },
     "metadata": {},
     "output_type": "display_data"
    }
   ],
   "source": [
    "X[numeric].hist(figsize=(12,12));"
   ]
  },
  {
   "cell_type": "code",
   "execution_count": 344,
   "metadata": {},
   "outputs": [
    {
     "data": {
      "text/html": [
       "<div>\n",
       "<style scoped>\n",
       "    .dataframe tbody tr th:only-of-type {\n",
       "        vertical-align: middle;\n",
       "    }\n",
       "\n",
       "    .dataframe tbody tr th {\n",
       "        vertical-align: top;\n",
       "    }\n",
       "\n",
       "    .dataframe thead th {\n",
       "        text-align: right;\n",
       "    }\n",
       "</style>\n",
       "<table border=\"1\" class=\"dataframe\">\n",
       "  <thead>\n",
       "    <tr style=\"text-align: right;\">\n",
       "      <th></th>\n",
       "      <th>Activities_Last_30_Days</th>\n",
       "      <th>Employees</th>\n",
       "      <th>Organic_Visits</th>\n",
       "      <th>Pct_Organic_Visits</th>\n",
       "      <th>SEO_Visits</th>\n",
       "      <th>URLs_Indexed</th>\n",
       "      <th>Annual_Revenue_converted</th>\n",
       "      <th>Account_ICP_Score</th>\n",
       "      <th>Page_Count</th>\n",
       "      <th>Alexa_Rank</th>\n",
       "    </tr>\n",
       "  </thead>\n",
       "  <tbody>\n",
       "    <tr>\n",
       "      <th>count</th>\n",
       "      <td>1849.000000</td>\n",
       "      <td>1822.000000</td>\n",
       "      <td>1.742000e+03</td>\n",
       "      <td>1454.000000</td>\n",
       "      <td>1.849000e+03</td>\n",
       "      <td>1.743000e+03</td>\n",
       "      <td>1.814000e+03</td>\n",
       "      <td>1849.000000</td>\n",
       "      <td>1.743000e+03</td>\n",
       "      <td>1.849000e+03</td>\n",
       "    </tr>\n",
       "    <tr>\n",
       "      <th>mean</th>\n",
       "      <td>5.316928</td>\n",
       "      <td>6453.345225</td>\n",
       "      <td>1.198246e+07</td>\n",
       "      <td>0.432539</td>\n",
       "      <td>1.698991e+07</td>\n",
       "      <td>3.958296e+06</td>\n",
       "      <td>1.276112e+09</td>\n",
       "      <td>72.611315</td>\n",
       "      <td>5.625665e+06</td>\n",
       "      <td>1.970221e+05</td>\n",
       "    </tr>\n",
       "    <tr>\n",
       "      <th>std</th>\n",
       "      <td>11.515994</td>\n",
       "      <td>18764.080327</td>\n",
       "      <td>5.047764e+07</td>\n",
       "      <td>0.193007</td>\n",
       "      <td>9.085057e+07</td>\n",
       "      <td>4.251408e+07</td>\n",
       "      <td>5.914520e+09</td>\n",
       "      <td>19.244586</td>\n",
       "      <td>4.912770e+07</td>\n",
       "      <td>3.394494e+05</td>\n",
       "    </tr>\n",
       "    <tr>\n",
       "      <th>min</th>\n",
       "      <td>0.000000</td>\n",
       "      <td>0.000000</td>\n",
       "      <td>2.090000e+02</td>\n",
       "      <td>0.020000</td>\n",
       "      <td>0.000000e+00</td>\n",
       "      <td>0.000000e+00</td>\n",
       "      <td>0.000000e+00</td>\n",
       "      <td>12.500000</td>\n",
       "      <td>0.000000e+00</td>\n",
       "      <td>1.400000e+01</td>\n",
       "    </tr>\n",
       "    <tr>\n",
       "      <th>25%</th>\n",
       "      <td>0.000000</td>\n",
       "      <td>200.000000</td>\n",
       "      <td>4.517790e+05</td>\n",
       "      <td>0.280000</td>\n",
       "      <td>5.534180e+05</td>\n",
       "      <td>2.780000e+04</td>\n",
       "      <td>3.000000e+07</td>\n",
       "      <td>58.333000</td>\n",
       "      <td>5.596500e+04</td>\n",
       "      <td>5.864000e+03</td>\n",
       "    </tr>\n",
       "    <tr>\n",
       "      <th>50%</th>\n",
       "      <td>0.000000</td>\n",
       "      <td>2000.000000</td>\n",
       "      <td>1.579582e+06</td>\n",
       "      <td>0.420000</td>\n",
       "      <td>2.028033e+06</td>\n",
       "      <td>1.570000e+05</td>\n",
       "      <td>2.500000e+08</td>\n",
       "      <td>70.833000</td>\n",
       "      <td>2.380000e+05</td>\n",
       "      <td>2.833200e+04</td>\n",
       "    </tr>\n",
       "    <tr>\n",
       "      <th>75%</th>\n",
       "      <td>6.000000</td>\n",
       "      <td>10000.000000</td>\n",
       "      <td>5.451365e+06</td>\n",
       "      <td>0.560000</td>\n",
       "      <td>7.532112e+06</td>\n",
       "      <td>1.004500e+06</td>\n",
       "      <td>1.000000e+09</td>\n",
       "      <td>91.667000</td>\n",
       "      <td>1.370000e+06</td>\n",
       "      <td>1.489020e+05</td>\n",
       "    </tr>\n",
       "    <tr>\n",
       "      <th>max</th>\n",
       "      <td>153.000000</td>\n",
       "      <td>345000.000000</td>\n",
       "      <td>8.132553e+08</td>\n",
       "      <td>1.000000</td>\n",
       "      <td>2.785939e+09</td>\n",
       "      <td>1.240000e+09</td>\n",
       "      <td>1.567760e+11</td>\n",
       "      <td>100.000000</td>\n",
       "      <td>1.240000e+09</td>\n",
       "      <td>1.000001e+06</td>\n",
       "    </tr>\n",
       "  </tbody>\n",
       "</table>\n",
       "</div>"
      ],
      "text/plain": [
       "       Activities_Last_30_Days      Employees  Organic_Visits  \\\n",
       "count              1849.000000    1822.000000    1.742000e+03   \n",
       "mean                  5.316928    6453.345225    1.198246e+07   \n",
       "std                  11.515994   18764.080327    5.047764e+07   \n",
       "min                   0.000000       0.000000    2.090000e+02   \n",
       "25%                   0.000000     200.000000    4.517790e+05   \n",
       "50%                   0.000000    2000.000000    1.579582e+06   \n",
       "75%                   6.000000   10000.000000    5.451365e+06   \n",
       "max                 153.000000  345000.000000    8.132553e+08   \n",
       "\n",
       "       Pct_Organic_Visits    SEO_Visits  URLs_Indexed  \\\n",
       "count         1454.000000  1.849000e+03  1.743000e+03   \n",
       "mean             0.432539  1.698991e+07  3.958296e+06   \n",
       "std              0.193007  9.085057e+07  4.251408e+07   \n",
       "min              0.020000  0.000000e+00  0.000000e+00   \n",
       "25%              0.280000  5.534180e+05  2.780000e+04   \n",
       "50%              0.420000  2.028033e+06  1.570000e+05   \n",
       "75%              0.560000  7.532112e+06  1.004500e+06   \n",
       "max              1.000000  2.785939e+09  1.240000e+09   \n",
       "\n",
       "       Annual_Revenue_converted  Account_ICP_Score    Page_Count    Alexa_Rank  \n",
       "count              1.814000e+03        1849.000000  1.743000e+03  1.849000e+03  \n",
       "mean               1.276112e+09          72.611315  5.625665e+06  1.970221e+05  \n",
       "std                5.914520e+09          19.244586  4.912770e+07  3.394494e+05  \n",
       "min                0.000000e+00          12.500000  0.000000e+00  1.400000e+01  \n",
       "25%                3.000000e+07          58.333000  5.596500e+04  5.864000e+03  \n",
       "50%                2.500000e+08          70.833000  2.380000e+05  2.833200e+04  \n",
       "75%                1.000000e+09          91.667000  1.370000e+06  1.489020e+05  \n",
       "max                1.567760e+11         100.000000  1.240000e+09  1.000001e+06  "
      ]
     },
     "execution_count": 344,
     "metadata": {},
     "output_type": "execute_result"
    }
   ],
   "source": [
    "X[numeric].describe()"
   ]
  },
  {
   "cell_type": "markdown",
   "metadata": {},
   "source": [
    "### Correlated Columns\n",
    "\n",
    "We'll need to determine which variables are most predictive as features and drop the less predictive features to eliminate multicollinearity.\n",
    "\n",
    "\n",
    "* `Annual_Revenue_converted` & `Employees`  \n",
    "* `Organic_Visits` & `SEO_Visits`    \n",
    "* `URLs_Indexed` & `Page_Count`   \n"
   ]
  },
  {
   "cell_type": "code",
   "execution_count": 353,
   "metadata": {},
   "outputs": [
    {
     "data": {
      "text/plain": [
       "<matplotlib.axes._subplots.AxesSubplot at 0x1a2e28c610>"
      ]
     },
     "execution_count": 353,
     "metadata": {},
     "output_type": "execute_result"
    },
    {
     "data": {
      "image/png": "[encoded data removed]",
      "text/plain": [
       "<Figure size 720x504 with 2 Axes>"
      ]
     },
     "metadata": {
      "needs_background": "light"
     },
     "output_type": "display_data"
    }
   ],
   "source": [
    "plt.figure(figsize=(10,7))\n",
    "sns.heatmap(X[numeric].corr('pearson'), annot=True)"
   ]
  },
  {
   "cell_type": "code",
   "execution_count": null,
   "metadata": {},
   "outputs": [],
   "source": [
    "#PDP"
   ]
  },
  {
   "cell_type": "code",
   "execution_count": null,
   "metadata": {},
   "outputs": [],
   "source": []
  },
  {
   "cell_type": "code",
   "execution_count": null,
   "metadata": {},
   "outputs": [],
   "source": [
    "dataset.set_index(['Account_ID'], inplace=True)"
   ]
  },
  {
   "cell_type": "code",
   "execution_count": null,
   "metadata": {},
   "outputs": [],
   "source": [
    "dataset.drop(columns=drop_columns, inplace=True)"
   ]
  },
  {
   "cell_type": "code",
   "execution_count": null,
   "metadata": {},
   "outputs": [],
   "source": [
    "dataset.drop(columns=leaky_variables, inplace=True)"
   ]
  },
  {
   "cell_type": "markdown",
   "metadata": {},
   "source": [
    "##### Adjusted industry column"
   ]
  },
  {
   "cell_type": "code",
   "execution_count": null,
   "metadata": {},
   "outputs": [],
   "source": [
    "dataset['Adjusted_Industry'].value_counts()"
   ]
  },
  {
   "cell_type": "code",
   "execution_count": null,
   "metadata": {},
   "outputs": [],
   "source": [
    "for val in ['Publisher', '-', 'Other', 'Botify Ltd.']:\n",
    "    dataset['Adjusted_Industry'].mask(dataset['Adjusted_Industry'] == val, 'Other', inplace=True)"
   ]
  },
  {
   "cell_type": "markdown",
   "metadata": {},
   "source": [
    "### Missing Values"
   ]
  },
  {
   "cell_type": "code",
   "execution_count": null,
   "metadata": {},
   "outputs": [],
   "source": [
    "nan_mean = dataset.isna().mean()\n",
    "nan_mean = nan_mean[nan_mean != 0].sort_values()\n",
    "nan_mean"
   ]
  },
  {
   "cell_type": "markdown",
   "metadata": {},
   "source": [
    "##### Fill NA Methods\n",
    "* **Alexa_Rank:** MAX\n",
    "* **Account_ICP_Score:** MEDIAN (industry)\n",
    "* **Employees:** MEDIAN (industry)\n",
    "* **Annual_Revenue_converted:** MEDIAN (industry)\n",
    "* **Organic_Visits:** MIN\n",
    "* **Page_Count:** MIN\n",
    "* **Pct_Organic_Visits:**  MIN\n",
    "* **Combined_Pages:** DROP"
   ]
  },
  {
   "cell_type": "code",
   "execution_count": null,
   "metadata": {},
   "outputs": [],
   "source": [
    "fill_max = ['Alexa_Rank' ]\n",
    "fill_min = ['Organic_Visits', 'Page_Count', 'Pct_Organic_Visits']\n",
    "fill_median = ['Account_ICP_Score', 'Employees', 'Annual_Revenue_converted' ]\n",
    "drop_missing_values = ['Combined_Pages']"
   ]
  },
  {
   "cell_type": "code",
   "execution_count": null,
   "metadata": {},
   "outputs": [],
   "source": [
    "dataset[fill_max] = dataset[fill_max].fillna(dataset[fill_max].max())\n",
    "dataset[fill_min] = dataset[fill_min].fillna(dataset[fill_min].min())\n",
    "dataset.drop(columns=drop_missing_values, inplace=True)"
   ]
  },
  {
   "cell_type": "code",
   "execution_count": null,
   "metadata": {},
   "outputs": [],
   "source": [
    "values_dict = dataset.groupby(['Adjusted_Industry'])[fill_median].median().to_dict()\n",
    "for col in fill_median:\n",
    "    dataset[col] = dataset[col].fillna(dataset['Adjusted_Industry'].map(values_dict[col]))"
   ]
  },
  {
   "cell_type": "markdown",
   "metadata": {},
   "source": [
    "### Correlated Columns\n",
    "\n",
    "* **Organic_Visits** & **SEO_Visits** are considered high correlated, I will drop **Organic_Visits**"
   ]
  },
  {
   "cell_type": "code",
   "execution_count": 355,
   "metadata": {},
   "outputs": [
    {
     "data": {
      "application/vnd.jupyter.widget-view+json": {
       "model_id": "1f1344fcd6f44f57b27376946eaa9802",
       "version_major": 2,
       "version_minor": 0
      },
      "text/plain": [
       "Tab(children=(HTML(value='<div id=\"overview-content\" class=\"row variable spacing\">\\n    <div class=\"row\">\\n   …"
      ]
     },
     "metadata": {},
     "output_type": "display_data"
    },
    {
     "data": {
      "text/html": [
       "Report generated with <a href=\"https://github.com/pandas-profiling/pandas-profiling\">pandas-profiling</a>."
      ],
      "text/plain": [
       "<IPython.core.display.HTML object>"
      ]
     },
     "metadata": {},
     "output_type": "display_data"
    },
    {
     "data": {
      "text/plain": []
     },
     "execution_count": 355,
     "metadata": {},
     "output_type": "execute_result"
    }
   ],
   "source": [
    "X.profile_report()"
   ]
  },
  {
   "cell_type": "code",
   "execution_count": null,
   "metadata": {},
   "outputs": [],
   "source": [
    "dataset.drop(columns=['Organic_Visits'], inplace=True)"
   ]
  },
  {
   "cell_type": "markdown",
   "metadata": {},
   "source": [
    "### Final Version"
   ]
  },
  {
   "cell_type": "code",
   "execution_count": null,
   "metadata": {},
   "outputs": [],
   "source": [
    "dataset.head()"
   ]
  },
  {
   "cell_type": "code",
   "execution_count": null,
   "metadata": {},
   "outputs": [],
   "source": [
    "dataset.dtypes"
   ]
  },
  {
   "cell_type": "raw",
   "metadata": {},
   "source": [
    "<script>\n",
    "  jQuery(document).ready(function($) {\n",
    "\n",
    "  $(window).load(function(){\n",
    "    $('#preloader').fadeOut('slow',function(){$(this).remove();});\n",
    "  });\n",
    "\n",
    "  });\n",
    "</script>\n",
    "\n",
    "<style type=\"text/css\">\n",
    "  div#preloader { position: fixed;\n",
    "      left: 0;\n",
    "      top: 0;\n",
    "      z-index: 999;\n",
    "      width: 100%;\n",
    "      height: 100%;\n",
    "      overflow: visible;\n",
    "      background: #fff url('http://preloaders.net/preloaders/720/Moving%20line.gif') no-repeat center center;\n",
    "  }\n",
    "\n",
    "</style>\n",
    "\n",
    "<div id=\"preloader\"></div>"
   ]
  }
 ],
 "metadata": {
  "kernelspec": {
   "display_name": "Python 3",
   "language": "python",
   "name": "python3"
  },
  "language_info": {
   "codemirror_mode": {
    "name": "ipython",
    "version": 3
   },
   "file_extension": ".py",
   "mimetype": "text/x-python",
   "name": "python",
   "nbconvert_exporter": "python",
   "pygments_lexer": "ipython3",
   "version": "3.7.6"
  }
 },
 "nbformat": 4,
 "nbformat_minor": 4
}

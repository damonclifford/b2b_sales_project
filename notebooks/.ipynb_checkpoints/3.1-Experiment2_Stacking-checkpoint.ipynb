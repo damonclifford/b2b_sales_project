{
 "cells": [
  {
   "cell_type": "raw",
   "metadata": {},
   "source": [
    "<script>\n",
    "  function code_toggle() {\n",
    "    if (code_shown){\n",
    "      $('div.input').hide('500');\n",
    "      $('#toggleButton').val('Show Code')\n",
    "    } else {\n",
    "      $('div.input').show('500');\n",
    "      $('#toggleButton').val('Hide Code')\n",
    "    }\n",
    "    code_shown = !code_shown\n",
    "  }\n",
    "\n",
    "  $( document ).ready(function(){\n",
    "    code_shown=false;\n",
    "    $('div.input').hide()\n",
    "  });\n",
    "</script>\n",
    "<form action=\"javascript:code_toggle()\"><input type=\"submit\" id=\"toggleButton\" value=\"Show Code\"></form>"
   ]
  },
  {
   "cell_type": "raw",
   "metadata": {},
   "source": [
    "<script>\n",
    "  $(document).ready(function(){\n",
    "    $('div.prompt').hide();\n",
    "    $('div.back-to-top').hide();\n",
    "    $('nav#menubar').hide();\n",
    "    $('.breadcrumb').hide();\n",
    "    $('.hidden-print').hide();\n",
    "  });\n",
    "</script>\n",
    "\n",
    "<footer id=\"attribution\" style=\"float:right; color:#999; background:#fff;\">\n",
    "Created with Jupyter Lab, by Nicholas Richers.\n",
    "</footer>"
   ]
  },
  {
   "cell_type": "markdown",
   "metadata": {},
   "source": [
    "# Experiment #2.1 - Stacking"
   ]
  },
  {
   "cell_type": "markdown",
   "metadata": {},
   "source": [
    "## Overview\n",
    "\n",
    "The purpose of this notebook is to improve the performance of the best ML models creating a Stacking classifier using all previous models together."
   ]
  },
  {
   "cell_type": "code",
   "execution_count": 1,
   "metadata": {},
   "outputs": [],
   "source": [
    "%load_ext autoreload\n",
    "%autoreload 2\n",
    "\n",
    "from utils import code\n",
    "from plot_libraries import setup_graphics\n",
    "from datasets import get_data"
   ]
  },
  {
   "cell_type": "code",
   "execution_count": 2,
   "metadata": {},
   "outputs": [],
   "source": [
    "#Main Libraries\n",
    "import os, random, re, sys, warnings\n",
    "import numpy as np\n",
    "import pandas as pd\n",
    "import matplotlib.pyplot as plt\n",
    "import seaborn as sns\n",
    "from joblib import load\n",
    "\n",
    "#utils\n",
    "from plot_libraries import setup_graphics, dist_plot, color\n",
    "\n",
    "#corr matrix\n",
    "from scipy.stats import spearmanr\n",
    "from scipy.cluster import hierarchy\n",
    "from sklearn.inspection import permutation_importance\n",
    "from plot_libraries import setup_graphics, plot_corr_matrix\n",
    "\n",
    "#Data transform (pipeline)\n",
    "from sklearn.preprocessing import OneHotEncoder, FunctionTransformer, LabelEncoder, OrdinalEncoder\n",
    "from sklearn.preprocessing import MinMaxScaler,RobustScaler\n",
    "from sklearn.compose import ColumnTransformer\n",
    "from sklearn.pipeline import Pipeline, FeatureUnion\n",
    "from sklearn.impute import SimpleImputer\n",
    "from sklearn.model_selection import train_test_split, cross_val_predict\n",
    "from sklearn.calibration import CalibratedClassifierCV\n",
    "\n",
    "\n",
    "\n",
    "# Model evaluation\n",
    "import scikitplot as skplt\n",
    "from sklearn.metrics import make_scorer, roc_auc_score, brier_score_loss, classification_report, confusion_matrix\n",
    "from sklearn.model_selection import train_test_split, cross_val_predict\n",
    "from evaluation import plot_learning_curve, evaluate_model, plot_confusion_matrix, evaluate_model_skopt \n",
    "from evaluation import plot_feature_permutation, plot_calibration_curve, get_cv_scores\n",
    "from skopt import BayesSearchCV\n",
    "from skopt.space import Real, Categorical, Integer\n",
    "\n",
    "# Support\n",
    "import parameters as params\n",
    "from model import Model, build_tuned_model\n",
    "from datasets import get_data\n",
    "from experiments import experiment_11, experiment_2, get_scorer\n",
    "from sklearn.metrics import make_scorer, roc_auc_score, brier_score_loss, classification_report, confusion_matrix\n",
    "\n",
    "#setup\n",
    "warnings.filterwarnings(\"ignore\")\n",
    "pd.options.display.max_columns = None\n",
    "sns.set()\n",
    "%matplotlib inline\n",
    "setup_graphics()"
   ]
  },
  {
   "cell_type": "code",
   "execution_count": 3,
   "metadata": {},
   "outputs": [],
   "source": [
    "X, y = get_data('../data/trainDF.csv')\n",
    "X_train, X_test, y_train, y_test = train_test_split(X, y, test_size=.2, random_state=20) #stratify=y,"
   ]
  },
  {
   "cell_type": "markdown",
   "metadata": {},
   "source": [
    "### Loading Pipelines"
   ]
  },
  {
   "cell_type": "code",
   "execution_count": 4,
   "metadata": {},
   "outputs": [
    {
     "name": "stdout",
     "output_type": "stream",
     "text": [
      "Instances: 1,479, Features: 12\n"
     ]
    }
   ],
   "source": [
    "pipeline2 = experiment_2.get_full_pipeline()\n",
    "ps = pipeline2.fit_transform(X_train).shape\n",
    "print('Instances: {:,}, Features: {}'.format(ps[0], ps[1]))"
   ]
  },
  {
   "cell_type": "code",
   "execution_count": 5,
   "metadata": {},
   "outputs": [
    {
     "name": "stdout",
     "output_type": "stream",
     "text": [
      "Instances: 1,479, Features: 61\n"
     ]
    }
   ],
   "source": [
    "pipeline1 = experiment_11.get_full_pipeline()\n",
    "ps = pipeline1.fit_transform(X_train).shape\n",
    "print('Instances: {:,}, Features: {}'.format(ps[0], ps[1]))"
   ]
  },
  {
   "cell_type": "code",
   "execution_count": 6,
   "metadata": {},
   "outputs": [],
   "source": [
    "#setup\n",
    "scorer = make_scorer(roc_auc_score)\n",
    "results, res_cv, res_calibrated, n_iter = list(), dict(), dict(), 100"
   ]
  },
  {
   "cell_type": "markdown",
   "metadata": {},
   "source": [
    "## ML Models\n",
    "\n",
    "Stacking Structure:\n",
    "\n",
    "Level-1:\n",
    "\n",
    "* LogisticRegression(pipeline1 & RandomizedSearchCV=5, n_iter=100)\n",
    "* SGDClassifier(pipeline1 & RandomizedSearchCV=5, n_iter=100)\n",
    "* XGBClassifier(pipeline2 & BayesSearchCV=5, n_iter=100)\n",
    "* LGBMClassifier(pipeline2 & BayesSearchCV=5, n_iter=100)\n",
    "* KNeighborsClassifier(pipeline1 & RandomizedSearchCV=5, n_iter=100)"
   ]
  },
  {
   "cell_type": "markdown",
   "metadata": {},
   "source": [
    "**Logistic Regression**\n",
    "* LogisticRegression(pipeline1 & RandomizedSearchCV=5, n_iter=100)"
   ]
  },
  {
   "cell_type": "code",
   "execution_count": 7,
   "metadata": {},
   "outputs": [
    {
     "name": "stdout",
     "output_type": "stream",
     "text": [
      "==> Starting 5-fold cross validation for lr model, 1479 examples\n",
      "Fitting 5 folds for each of 60 candidates, totalling 300 fits\n"
     ]
    },
    {
     "name": "stderr",
     "output_type": "stream",
     "text": [
      "[Parallel(n_jobs=-1)]: Using backend LokyBackend with 4 concurrent workers.\n",
      "[Parallel(n_jobs=-1)]: Done  10 tasks      | elapsed:    3.7s\n",
      "[Parallel(n_jobs=-1)]: Done  76 tasks      | elapsed:    5.5s\n",
      "[Parallel(n_jobs=-1)]: Done 256 tasks      | elapsed:   12.8s\n"
     ]
    },
    {
     "name": "stdout",
     "output_type": "stream",
     "text": [
      "==> Elapsed seconds: 18.660\n",
      "Best lr model: LogisticRegression(C=100.0, class_weight='balanced', dual=False,\n",
      "                   fit_intercept=True, intercept_scaling=1, l1_ratio=None,\n",
      "                   max_iter=100, multi_class='auto', n_jobs=None, penalty='l2',\n",
      "                   random_state=None, solver='liblinear', tol=0.0001, verbose=0,\n",
      "                   warm_start=False)\n",
      "Best lr score (val): 0.646\n"
     ]
    },
    {
     "name": "stderr",
     "output_type": "stream",
     "text": [
      "[Parallel(n_jobs=-1)]: Done 300 out of 300 | elapsed:   18.6s finished\n"
     ]
    }
   ],
   "source": [
    "from sklearn.linear_model import LogisticRegression\n",
    "import bayes_grid_models as bgrid\n",
    "import param_grid_models as pgrid\n",
    "\n",
    "result = evaluate_model(X_train, y_train, 'lr', \n",
    "                        LogisticRegression(), \n",
    "                        pgrid.lr_param_grid, \n",
    "                        scorer, n_iter=n_iter, \n",
    "                        cv_folds=5, pipeline=pipeline1)\n",
    "results.append(result)\n",
    "res_cv[result[1]] = get_cv_scores(result[0])"
   ]
  },
  {
   "cell_type": "markdown",
   "metadata": {},
   "source": [
    "**SGD Classifier**\n",
    "\n",
    "* SGDClassifier(pipeline1 & RandomizedSearchCV=5, n_iter=100)"
   ]
  },
  {
   "cell_type": "code",
   "execution_count": 8,
   "metadata": {},
   "outputs": [
    {
     "name": "stdout",
     "output_type": "stream",
     "text": [
      "==> Starting 5-fold cross validation for sgd model, 1479 examples\n",
      "Fitting 5 folds for each of 100 candidates, totalling 500 fits\n"
     ]
    },
    {
     "name": "stderr",
     "output_type": "stream",
     "text": [
      "[Parallel(n_jobs=-1)]: Using backend LokyBackend with 4 concurrent workers.\n",
      "[Parallel(n_jobs=-1)]: Done  12 tasks      | elapsed:    0.6s\n",
      "[Parallel(n_jobs=-1)]: Done 120 tasks      | elapsed:    3.5s\n",
      "[Parallel(n_jobs=-1)]: Done 300 tasks      | elapsed:    9.0s\n"
     ]
    },
    {
     "name": "stdout",
     "output_type": "stream",
     "text": [
      "==> Elapsed seconds: 14.781\n",
      "Best sgd model: SGDClassifier(alpha=0.001, average=False, class_weight='balanced',\n",
      "              early_stopping=False, epsilon=0.1, eta0=0.0, fit_intercept=True,\n",
      "              l1_ratio=0.15, learning_rate='optimal', loss='log', max_iter=1000,\n",
      "              n_iter_no_change=5, n_jobs=-1, penalty='l1', power_t=0.5,\n",
      "              random_state=None, shuffle=True, tol=0.001,\n",
      "              validation_fraction=0.1, verbose=0, warm_start=False)\n",
      "Best sgd score (val): 0.635\n"
     ]
    },
    {
     "name": "stderr",
     "output_type": "stream",
     "text": [
      "[Parallel(n_jobs=-1)]: Done 500 out of 500 | elapsed:   14.7s finished\n"
     ]
    }
   ],
   "source": [
    "from sklearn.linear_model import SGDClassifier\n",
    "\n",
    "result = evaluate_model(X_train, y_train, 'sgd', \n",
    "                        SGDClassifier(), \n",
    "                        pgrid.sgd_param_grid, \n",
    "                        scorer, n_iter=n_iter, \n",
    "                        cv_folds=5, pipeline=pipeline1)\n",
    "\n",
    "results.append(result)\n",
    "res_cv[result[1]] = get_cv_scores(result[0])"
   ]
  },
  {
   "cell_type": "markdown",
   "metadata": {},
   "source": [
    "**XGBoost**\n",
    "\n",
    "* XGBClassifier(pipeline2 & BayesSearchCV=5, n_iter=100)"
   ]
  },
  {
   "cell_type": "code",
   "execution_count": 9,
   "metadata": {},
   "outputs": [
    {
     "name": "stdout",
     "output_type": "stream",
     "text": [
      "==> Starting 5-fold cross validation for xgb model, 1479 examples\n",
      "==> Elapsed seconds: 879.237\n",
      "Best xgb model: XGBClassifier(base_score=0.5, booster=None,\n",
      "              colsample_bylevel=0.8159980140710431, colsample_bynode=1,\n",
      "              colsample_bytree=1.0, gamma=0.514848966757468, gpu_id=-1,\n",
      "              importance_type='gain', interaction_constraints=None,\n",
      "              learning_rate=0.18661335632389411, max_delta_step=0, max_depth=21,\n",
      "              min_child_weight=8, missing=nan, monotone_constraints=None,\n",
      "              n_estimators=264, n_jobs=0, num_parallel_tree=1,\n",
      "              objective='binary:logistic', random_state=0,\n",
      "              reg_alpha=0.04540470406473515, reg_lambda=1.0,\n",
      "              scale_pos_weight=5314, subsample=0.9131512038626207,\n",
      "              tree_method=None, validate_parameters=False, verbosity=None)\n",
      "Best xgb score (val): 0.736\n"
     ]
    }
   ],
   "source": [
    "from xgboost import XGBClassifier\n",
    "\n",
    "result = evaluate_model_skopt(X_train, y_train, 'xgb', \n",
    "                        XGBClassifier(), \n",
    "                        bgrid.xgb_param_grid, \n",
    "                        scorer, n_iter=n_iter, \n",
    "                        cv_folds=5, pipeline=pipeline2)\n",
    "\n",
    "results.append(result)\n",
    "res_cv[result[1]] = get_cv_scores(result[0])"
   ]
  },
  {
   "cell_type": "markdown",
   "metadata": {},
   "source": [
    "**Light GBM**\n",
    "\n",
    "* LGBMClassifier(pipeline2 & BayesSearchCV=5, n_iter=100)"
   ]
  },
  {
   "cell_type": "code",
   "execution_count": 10,
   "metadata": {},
   "outputs": [
    {
     "name": "stdout",
     "output_type": "stream",
     "text": [
      "==> Starting 5-fold cross validation for lgbm model, 1479 examples\n",
      "==> Elapsed seconds: 694.925\n",
      "Best lgbm model: LGBMClassifier(boosting_type='dart', class_weight=None, colsample_bytree=1.0,\n",
      "               importance_type='split', is_unbalance=True,\n",
      "               learning_rate=0.08389593732655422, max_depth=-1,\n",
      "               min_child_samples=20, min_child_weight=0.001, min_split_gain=0.0,\n",
      "               n_estimators=100, n_jobs=-1, num_leaves=9, objective=None,\n",
      "               random_state=None, reg_alpha=1.0, reg_lambda=0.001, silent=True,\n",
      "               subsample=0.5, subsample_for_bin=191046, subsample_freq=0)\n",
      "Best lgbm score (val): 0.725\n"
     ]
    }
   ],
   "source": [
    "from lightgbm import LGBMClassifier\n",
    "\n",
    "result = evaluate_model_skopt(X_train, y_train, 'lgbm',\n",
    "                        LGBMClassifier(),\n",
    "                        bgrid.lgbm_param_grid, \n",
    "                        scorer, n_iter=n_iter, \n",
    "                        cv_folds=5, pipeline=pipeline2)\n",
    "\n",
    "results.append(result)\n",
    "res_cv[result[1]] = get_cv_scores(result[0])"
   ]
  },
  {
   "cell_type": "markdown",
   "metadata": {},
   "source": [
    "**K-Nearest Neighboors**\n",
    "\n",
    "* KNeighborsClassifier(pipeline1 & RandomizedSearchCV=5, n_iter=100)"
   ]
  },
  {
   "cell_type": "code",
   "execution_count": 11,
   "metadata": {},
   "outputs": [
    {
     "name": "stdout",
     "output_type": "stream",
     "text": [
      "==> Starting 5-fold cross validation for knn model, 1479 examples\n",
      "Fitting 5 folds for each of 100 candidates, totalling 500 fits\n"
     ]
    },
    {
     "name": "stderr",
     "output_type": "stream",
     "text": [
      "[Parallel(n_jobs=-1)]: Using backend LokyBackend with 4 concurrent workers.\n",
      "[Parallel(n_jobs=-1)]: Done  10 tasks      | elapsed:    1.3s\n",
      "[Parallel(n_jobs=-1)]: Done  64 tasks      | elapsed:    8.9s\n",
      "[Parallel(n_jobs=-1)]: Done 154 tasks      | elapsed:   21.1s\n",
      "[Parallel(n_jobs=-1)]: Done 280 tasks      | elapsed:   40.4s\n",
      "[Parallel(n_jobs=-1)]: Done 442 tasks      | elapsed:  1.0min\n"
     ]
    },
    {
     "name": "stdout",
     "output_type": "stream",
     "text": [
      "==> Elapsed seconds: 69.781\n",
      "Best knn model: KNeighborsClassifier(algorithm='auto', leaf_size=14, metric='manhattan',\n",
      "                     metric_params=None, n_jobs=None, n_neighbors=4, p=3,\n",
      "                     weights='distance')\n",
      "Best knn score (val): 0.556\n"
     ]
    },
    {
     "name": "stderr",
     "output_type": "stream",
     "text": [
      "[Parallel(n_jobs=-1)]: Done 500 out of 500 | elapsed:  1.2min finished\n"
     ]
    }
   ],
   "source": [
    "from sklearn.neighbors import KNeighborsClassifier\n",
    "\n",
    "result = evaluate_model(X_train, y_train, 'knn', \n",
    "                        KNeighborsClassifier(), \n",
    "                        pgrid.knn_param_grid, \n",
    "                        scorer, n_iter=n_iter, \n",
    "                        cv_folds=5, pipeline=pipeline1)\n",
    "\n",
    "results.append(result)\n",
    "res_cv[result[1]] = get_cv_scores(result[0])"
   ]
  },
  {
   "cell_type": "markdown",
   "metadata": {},
   "source": [
    "#### Comparing results (validation scores)"
   ]
  },
  {
   "cell_type": "code",
   "execution_count": 12,
   "metadata": {},
   "outputs": [
    {
     "data": {
      "image/png": "[encoded data removed]",
      "text/plain": [
       "<Figure size 720x432 with 1 Axes>"
      ]
     },
     "metadata": {},
     "output_type": "display_data"
    }
   ],
   "source": [
    "_ = plt.boxplot(res_cv.values(), labels=res_cv.keys(), showmeans=True)"
   ]
  },
  {
   "cell_type": "code",
   "execution_count": 26,
   "metadata": {},
   "outputs": [],
   "source": [
    "def get_full_pipeline(results, name): \n",
    "    model = list(filter(lambda x: x[1] == name, results))[0][0]\n",
    "    PATH = '../models_pkl/experiment-2.1-stacking_80_'+name+'.pkl'\n",
    "    model.save(PATH)\n",
    "    model_pipeline = model.get_model_pipeline()\n",
    "    return model_pipeline\n",
    "\n",
    "level1_clf = []\n",
    "clf_names = ['lr', 'sgd', 'xgb', 'lgbm', 'knn', 'StackingClassifier']\n",
    "for name in clf_names[:-1]:\n",
    "    level1_clf.append(get_full_pipeline(results, name))"
   ]
  },
  {
   "cell_type": "markdown",
   "metadata": {},
   "source": [
    "--------------\n",
    "--------------"
   ]
  },
  {
   "cell_type": "markdown",
   "metadata": {},
   "source": [
    "### Stacking"
   ]
  },
  {
   "cell_type": "code",
   "execution_count": 7,
   "metadata": {},
   "outputs": [],
   "source": [
    "from sklearn.linear_model import LogisticRegression\n",
    "from sklearn.linear_model import SGDClassifier\n",
    "from xgboost import XGBClassifier\n",
    "from lightgbm import LGBMClassifier\n",
    "from sklearn.neighbors import KNeighborsClassifier"
   ]
  },
  {
   "cell_type": "code",
   "execution_count": 8,
   "metadata": {},
   "outputs": [],
   "source": [
    "models_l1, level1_clf = {}, []\n",
    "clf_names = ['lr', 'sgd', 'xgb', 'lgbm', 'knn', 'StackingClassifier']\n",
    "\n",
    "for name in clf_names[:-1]:\n",
    "    PATH = '../models_pkl/experiment-2.1-stacking_80_'+name+'.pkl'\n",
    "    model = Model.load(PATH)\n",
    "    model_pipeline = model.get_model_pipeline()\n",
    "    level1_clf.append(model_pipeline)"
   ]
  },
  {
   "cell_type": "code",
   "execution_count": 9,
   "metadata": {},
   "outputs": [
    {
     "name": "stdout",
     "output_type": "stream",
     "text": [
      "5-fold cross validation:\n",
      "\n",
      "AUC: 0.643 (+/- 0.03) [lr]\n",
      "AUC: 0.638 (+/- 0.05) [sgd]\n",
      "AUC: 0.704 (+/- 0.02) [xgb]\n",
      "AUC: 0.715 (+/- 0.02) [lgbm]\n",
      "AUC: 0.533 (+/- 0.02) [knn]\n",
      "AUC: 0.500 (+/- 0.00) [StackingClassifier]\n"
     ]
    }
   ],
   "source": [
    "from mlxtend.classifier import StackingCVClassifier\n",
    "from sklearn import model_selection\n",
    "\n",
    "model_l2 = LogisticRegression()\n",
    "stack_clf = level1_clf.copy()\n",
    "sclf1 = StackingCVClassifier(classifiers=level1_clf, \n",
    "                            meta_classifier=model_l2,\n",
    "                            store_train_meta_features=True,\n",
    "                            random_state=20, cv=5,\n",
    "                            verbose=0, use_probas=False)\n",
    "\n",
    "\n",
    "stack_clf.append(sclf1)                                      \n",
    "print('5-fold cross validation:\\n')\n",
    "for clf, label in zip(stack_clf, clf_names):\n",
    "    scores = model_selection.cross_val_score(clf, X_train, y_train, cv=5, scoring=scorer)\n",
    "    print(\"AUC: %0.3f (+/- %0.2f) [%s]\"  % (scores.mean(), scores.std(), label))"
   ]
  },
  {
   "cell_type": "code",
   "execution_count": 10,
   "metadata": {},
   "outputs": [
    {
     "name": "stdout",
     "output_type": "stream",
     "text": [
      "              precision    recall  f1-score   support\n",
      "\n",
      "           0       0.87      0.93      0.90       307\n",
      "           1       0.48      0.32      0.38        63\n",
      "\n",
      "    accuracy                           0.82       370\n",
      "   macro avg       0.67      0.62      0.64       370\n",
      "weighted avg       0.80      0.82      0.81       370\n",
      "\n"
     ]
    },
    {
     "data": {
      "image/png": "[encoded data removed]",
      "text/plain": [
       "<Figure size 432x288 with 2 Axes>"
      ]
     },
     "metadata": {},
     "output_type": "display_data"
    }
   ],
   "source": [
    "sclf1.fit(X_train, y_train)\n",
    "l2 = sclf1.predict(X_test)  \n",
    "plot_confusion_matrix(y_test, l2) "
   ]
  },
  {
   "cell_type": "markdown",
   "metadata": {},
   "source": [
    "Get L2-Predictions"
   ]
  },
  {
   "cell_type": "markdown",
   "metadata": {},
   "source": [
    "#### Corr Matrix L2-Features"
   ]
  },
  {
   "cell_type": "code",
   "execution_count": 11,
   "metadata": {},
   "outputs": [
    {
     "data": {
      "image/png": "[encoded data removed]",
      "text/plain": [
       "<Figure size 792x648 with 2 Axes>"
      ]
     },
     "metadata": {},
     "output_type": "display_data"
    }
   ],
   "source": [
    "l2_df = pd.DataFrame(sclf1.train_meta_features_, columns=clf_names[:-1])\n",
    "plot_corr_matrix(l2_df)"
   ]
  },
  {
   "cell_type": "markdown",
   "metadata": {},
   "source": [
    "--------------\n",
    "-------------"
   ]
  },
  {
   "cell_type": "raw",
   "metadata": {},
   "source": [
    "{'meta_classifier__tol': 0.0001,\n",
    " 'meta_classifier__solver': 'liblinear',\n",
    " 'meta_classifier__penalty': 'l2',\n",
    " 'meta_classifier__max_iter': 100,\n",
    " 'meta_classifier__class_weight': 'balanced',\n",
    " 'meta_classifier__C': 10.0}"
   ]
  },
  {
   "cell_type": "code",
   "execution_count": 12,
   "metadata": {},
   "outputs": [
    {
     "name": "stdout",
     "output_type": "stream",
     "text": [
      "Best parameters: {'meta_classifier__tol': 0.0001, 'meta_classifier__solver': 'liblinear', 'meta_classifier__penalty': 'l2', 'meta_classifier__max_iter': 100, 'meta_classifier__class_weight': 'balanced', 'meta_classifier__C': 10.0}\n",
      "AUC: 0.712\n",
      "CPU times: user 1h 9min 52s, sys: 4min 55s, total: 1h 14min 47s\n",
      "Wall time: 28min 48s\n"
     ]
    }
   ],
   "source": [
    "%%time\n",
    "from sklearn import model_selection\n",
    "from sklearn.model_selection import RandomizedSearchCV\n",
    "\n",
    "\n",
    "params = {\n",
    "  'meta_classifier__C': np.logspace(-3, 2, 6), \n",
    "  'meta_classifier__max_iter': [10, 50, 100, 200, 500],\n",
    "  'meta_classifier__penalty':  ['l1', 'l2'], \n",
    "  'meta_classifier__solver': ['liblinear'],\n",
    "  'meta_classifier__tol': [0.0001, 0.001 ,0.01],\n",
    "  'meta_classifier__class_weight': [None, {0:1,1:1}, {0:1,1:10}, {0:1,1:100}, 'balanced']\n",
    "}\n",
    "\n",
    "\n",
    "#0.747\n",
    "grid = RandomizedSearchCV(estimator=sclf1, \n",
    "                    param_distributions=params, \n",
    "                    scoring=scorer,\n",
    "                    cv=5,\n",
    "                    n_iter=50,\n",
    "                    refit=True,\n",
    "                    verbose=0)\n",
    "\n",
    "grid.fit(X_train, y_train)\n",
    "\n",
    "print('Best parameters: %s' % grid.best_params_)\n",
    "print('AUC: %.3f' % grid.best_score_)"
   ]
  },
  {
   "cell_type": "code",
   "execution_count": 13,
   "metadata": {},
   "outputs": [
    {
     "name": "stdout",
     "output_type": "stream",
     "text": [
      "5-fold cross validation:\n",
      "\n",
      "AUC: 0.710 (+/- 0.02) [StackingClassifier]\n",
      "CPU times: user 1min 20s, sys: 849 ms, total: 1min 21s\n",
      "Wall time: 21.9 s\n"
     ]
    }
   ],
   "source": [
    "%%time\n",
    "best_model = list(grid.best_params_.values())\n",
    "model_l2 = LogisticRegression(tol=best_model[0],\n",
    "                              solver=best_model[1],\n",
    "                              penalty=best_model[2],\n",
    "                              max_iter =best_model[3],\n",
    "                              class_weight=best_model[4],\n",
    "                              C=best_model[5])\n",
    "\n",
    "\n",
    "stack_clf = level1_clf.copy()\n",
    "sclf2 = StackingCVClassifier(classifiers=level1_clf, \n",
    "                            meta_classifier=model_l2,\n",
    "                            store_train_meta_features=True,\n",
    "                            random_state=20, cv=5,\n",
    "                            verbose=0, use_probas=False)\n",
    "\n",
    "\n",
    "stack_clf.append(sclf2)                                      \n",
    "print('5-fold cross validation:\\n')\n",
    "scores = model_selection.cross_val_score(sclf2, X_train, y_train, cv=5, scoring=scorer)\n",
    "print(\"AUC: %0.3f (+/- %0.2f) [%s]\"  % (scores.mean(), scores.std(), clf_names[-1]))"
   ]
  },
  {
   "cell_type": "code",
   "execution_count": 14,
   "metadata": {},
   "outputs": [
    {
     "name": "stdout",
     "output_type": "stream",
     "text": [
      "              precision    recall  f1-score   support\n",
      "\n",
      "           0       0.92      0.75      0.82       307\n",
      "           1       0.35      0.67      0.46        63\n",
      "\n",
      "    accuracy                           0.74       370\n",
      "   macro avg       0.63      0.71      0.64       370\n",
      "weighted avg       0.82      0.74      0.76       370\n",
      "\n"
     ]
    },
    {
     "data": {
      "image/png": "[encoded data removed]",
      "text/plain": [
       "<Figure size 432x288 with 2 Axes>"
      ]
     },
     "metadata": {},
     "output_type": "display_data"
    }
   ],
   "source": [
    "sclf2.fit(X_train, y_train)\n",
    "preds_l2 = sclf2.predict(X_test); setup_graphics()  \n",
    "plot_confusion_matrix(y_test, preds_l2) "
   ]
  },
  {
   "cell_type": "code",
   "execution_count": 26,
   "metadata": {},
   "outputs": [
    {
     "name": "stdout",
     "output_type": "stream",
     "text": [
      "              precision    recall  f1-score   support\n",
      "\n",
      "           0       0.97      0.87      0.91      1534\n",
      "           1       0.57      0.85      0.68       315\n",
      "\n",
      "    accuracy                           0.87      1849\n",
      "   macro avg       0.77      0.86      0.80      1849\n",
      "weighted avg       0.90      0.87      0.87      1849\n",
      "\n"
     ]
    },
    {
     "data": {
      "image/png": "[encoded data removed]",
      "text/plain": [
       "<Figure size 432x288 with 2 Axes>"
      ]
     },
     "metadata": {},
     "output_type": "display_data"
    }
   ],
   "source": [
    "preds_l2 = sclf2.predict(X); setup_graphics()  \n",
    "plot_confusion_matrix(y, preds_l2) "
   ]
  },
  {
   "cell_type": "markdown",
   "metadata": {},
   "source": [
    "### Ensemble Voting"
   ]
  },
  {
   "cell_type": "code",
   "execution_count": 24,
   "metadata": {},
   "outputs": [
    {
     "name": "stdout",
     "output_type": "stream",
     "text": [
      "5-fold cross validation:\n",
      "\n",
      "AUC: 0.643 (+/- 0.03) [lr]\n",
      "AUC: 0.645 (+/- 0.04) [sgd]\n",
      "AUC: 0.704 (+/- 0.02) [xgb]\n",
      "AUC: 0.715 (+/- 0.02) [lgbm]\n",
      "AUC: 0.533 (+/- 0.02) [knn]\n",
      "AUC: 0.691 (+/- 0.03) [eclf_hard]\n",
      "AUC: 0.698 (+/- 0.03) [eclf_soft]\n"
     ]
    }
   ],
   "source": [
    "from mlxtend.classifier import EnsembleVoteClassifier\n",
    "\n",
    "\n",
    "eclf_hard = EnsembleVoteClassifier(clfs=level1_clf, voting='hard')\n",
    "eclf_soft = EnsembleVoteClassifier(clfs=level1_clf, voting='soft')\n",
    "eclf_names = clf_names[:-1] + ['eclf_hard' , 'eclf_soft']\n",
    "\n",
    "\n",
    "voting_clf = level1_clf.copy()\n",
    "voting_clf.append([eclf_hard, eclf_soft]) \n",
    "\n",
    "\n",
    "print('5-fold cross validation:\\n')\n",
    "for clf, label in zip(voting_clf, eclf_names):\n",
    "    scores = model_selection.cross_val_score(clf, X_train, y_train, cv=5, scoring=scorer)\n",
    "    print(\"AUC: %0.3f (+/- %0.2f) [%s]\"  % (scores.mean(), scores.std(), label))"
   ]
  },
  {
   "cell_type": "code",
   "execution_count": null,
   "metadata": {},
   "outputs": [],
   "source": [
    "eclf_soft.fit(X_train, y_train)\n",
    "preds_l2 = eclf_soft.predict(X_test);  \n",
    "plot_confusion_matrix(y_test, preds_l2)"
   ]
  },
  {
   "cell_type": "code",
   "execution_count": null,
   "metadata": {},
   "outputs": [],
   "source": [
    "preds_l2 = eclf_soft.predict(X); setup_graphics()  \n",
    "plot_confusion_matrix(y, preds_l2) "
   ]
  },
  {
   "cell_type": "markdown",
   "metadata": {},
   "source": [
    "hard"
   ]
  },
  {
   "cell_type": "code",
   "execution_count": null,
   "metadata": {},
   "outputs": [],
   "source": [
    "eclf_hard.fit(X_train, y_train)\n",
    "preds_l2 = eclf_hard.predict(X_test);  \n",
    "plot_confusion_matrix(y_test, preds_l2)"
   ]
  },
  {
   "cell_type": "code",
   "execution_count": null,
   "metadata": {},
   "outputs": [],
   "source": [
    "preds_l2 = eclf_hard.predict(X); setup_graphics()  \n",
    "plot_confusion_matrix(y, preds_l2) "
   ]
  },
  {
   "cell_type": "markdown",
   "metadata": {},
   "source": [
    "--------------\n",
    "-------------"
   ]
  },
  {
   "cell_type": "markdown",
   "metadata": {},
   "source": [
    "### Analyzing best model"
   ]
  },
  {
   "cell_type": "code",
   "execution_count": null,
   "metadata": {},
   "outputs": [],
   "source": [
    "model = Model.load('../models_pkl/experiment-2.0-model.pkl')\n",
    "#model = list(filter(lambda x: x[1] == 'lgbm', results))[0][0]\n",
    "model.model"
   ]
  },
  {
   "cell_type": "markdown",
   "metadata": {},
   "source": [
    "The learning curve may suggest some overfiting, however the linear models which shows a funnel shape curve, had very poor results on test set."
   ]
  },
  {
   "cell_type": "code",
   "execution_count": null,
   "metadata": {},
   "outputs": [],
   "source": [
    "plot_learning_curve(model.model, \n",
    "                    model.name.upper()+' Learning Curves',\n",
    "                    model.pipeline.fit_transform(X_train), y_train,\n",
    "                    cv=5, scoring=scorer)"
   ]
  },
  {
   "cell_type": "code",
   "execution_count": null,
   "metadata": {},
   "outputs": [],
   "source": [
    "preds, probs = model.predict_calibrated(X_test, X_train, y_train)\n",
    "#preds = model.model.predict(model.pipeline.transform(X_test))\n",
    "#probs = model.model.predict_proba(model.pipeline.transform(X_test))\n",
    "_ = skplt.metrics.plot_cumulative_gain(y_test, probs)"
   ]
  },
  {
   "cell_type": "markdown",
   "metadata": {},
   "source": [
    "Our best model LGBM (iso), performed decent results all considered metrics, pretty close from the best model with the leaky feature.\n",
    "\n",
    "* Brier Score: 0.120\n",
    "* ROC AUC: 0.725\n",
    "* Precision class 1: 0.667"
   ]
  },
  {
   "cell_type": "code",
   "execution_count": null,
   "metadata": {},
   "outputs": [],
   "source": [
    "plot_confusion_matrix(y_test, preds)"
   ]
  },
  {
   "cell_type": "markdown",
   "metadata": {},
   "source": [
    "#### Feature Importance\n",
    "\n",
    "> The new pipeline, which removed leaky and high corr features, presented feature importances much more aligned with our business expectations with `Employees` and `Account_ICP_Score`, among them."
   ]
  },
  {
   "cell_type": "code",
   "execution_count": null,
   "metadata": {},
   "outputs": [],
   "source": [
    "plot_feature_permutation(pipeline2, model.model, X_train, y_train, X_test, y_test)"
   ]
  },
  {
   "cell_type": "markdown",
   "metadata": {},
   "source": [
    "#### SHAP"
   ]
  },
  {
   "cell_type": "code",
   "execution_count": null,
   "metadata": {},
   "outputs": [],
   "source": [
    "import shap\n",
    "shap.initjs()"
   ]
  },
  {
   "cell_type": "code",
   "execution_count": null,
   "metadata": {},
   "outputs": [],
   "source": [
    "X_transf_train = mdl.pipeline.transform(X_train)\n",
    "X_transf_test = mdl.pipeline.transform(X_test)\n",
    "\n",
    "DEL_PIPE_2  = set(['ZoomInfo_Employee_Range'] + experiment_2.DEL_NUM_PIPE2)\n",
    "X_transf_cols = list(set(X.columns) - DEL_PIPE_2)\n",
    "\n",
    "X_display_train = X_train[X_transf_cols]\n",
    "X_display_test = X_test[X_transf_cols]"
   ]
  },
  {
   "cell_type": "code",
   "execution_count": null,
   "metadata": {},
   "outputs": [],
   "source": [
    "mdl = Model.load('../models_pkl/experiment-2.0_RF_SHAP-model.pkl')\n",
    "explainer = shap.TreeExplainer(mdl.model)"
   ]
  },
  {
   "cell_type": "code",
   "execution_count": null,
   "metadata": {},
   "outputs": [],
   "source": [
    "#plot_feature_permutation(pipeline2, mdl.model, X_train, y_train, X_test, y_test)"
   ]
  },
  {
   "cell_type": "code",
   "execution_count": null,
   "metadata": {},
   "outputs": [],
   "source": [
    "shap_values = explainer.shap_values(X_transf_train)\n",
    "explainer.expected_value"
   ]
  },
  {
   "cell_type": "code",
   "execution_count": null,
   "metadata": {},
   "outputs": [],
   "source": [
    "shap.force_plot(explainer.expected_value[1], shap_values[1][839,:], X_display_train.iloc[839,:])"
   ]
  },
  {
   "cell_type": "code",
   "execution_count": null,
   "metadata": {},
   "outputs": [],
   "source": [
    "shap.force_plot(explainer.expected_value[1], shap_values[1][0,:], X_display_train.iloc[0,:])"
   ]
  },
  {
   "cell_type": "code",
   "execution_count": null,
   "metadata": {},
   "outputs": [],
   "source": [
    "shap.force_plot(explainer.expected_value[1], shap_values[1], X_display_train)"
   ]
  },
  {
   "cell_type": "code",
   "execution_count": null,
   "metadata": {},
   "outputs": [],
   "source": [
    "shap.summary_plot(shap_values[0], X_display_train)"
   ]
  },
  {
   "cell_type": "code",
   "execution_count": null,
   "metadata": {},
   "outputs": [],
   "source": [
    "shap.dependence_plot(\"SEO_Visits\", shap_values[1], X_display_train, interaction_index=\"Account_ICP_Score\")"
   ]
  },
  {
   "cell_type": "markdown",
   "metadata": {},
   "source": [
    "-------------\n",
    "-------------"
   ]
  },
  {
   "cell_type": "markdown",
   "metadata": {},
   "source": [
    "### Financial Impact of the Best Model"
   ]
  },
  {
   "cell_type": "code",
   "execution_count": null,
   "metadata": {},
   "outputs": [],
   "source": [
    "n_instances = len(X)\n",
    "p_instances = y.sum() / len(y)\n",
    "p_targeted = 0.1\n",
    "n_targeted = int(n_instances*p_targeted)\n",
    "n_targeted_test = int(len(X_test) * p_targeted)"
   ]
  },
  {
   "cell_type": "code",
   "execution_count": null,
   "metadata": {},
   "outputs": [],
   "source": [
    "# Create a dataframe of probabilities and actual / predicted outcomes\n",
    "probs_df = pd.DataFrame(np.hstack([probs, y_test.values.reshape(-1,1), preds.reshape(-1,1)]), \n",
    "                        columns=['p_no', 'p_yes', 'actual', 'predicted'])\n",
    "\n",
    "\n",
    "# Sort customers by the probability that they will convert\n",
    "model_targets = probs_df.sort_values('p_yes', ascending=False)\n",
    "\n",
    "# Take the top 10%\n",
    "model_targets = model_targets.head(n_targeted_test)\n",
    "\n",
    "# Calculate precision matrix\n",
    "plot_confusion_matrix(model_targets.actual, model_targets.predicted)"
   ]
  },
  {
   "cell_type": "markdown",
   "metadata": {},
   "source": [
    "Picking the top 10% fo our model prediction, the precision went down 6% (~84%) from exp1.0."
   ]
  },
  {
   "cell_type": "code",
   "execution_count": null,
   "metadata": {},
   "outputs": [],
   "source": [
    "# Setup costs and benefits\n",
    "avg_revenue = params.AVG_REVENUE\n",
    "avg_cost = params.AVG_COST\n",
    "\n",
    "# Calculate financial outcomes\n",
    "random_profit = experiment_1.get_model_profit(X_test, y_test, n_targeted_test, avg_revenue, avg_cost, experiment_1.random_model_predictions)\n",
    "baseline_profit = experiment_1.get_model_profit(X_test, y_test, n_targeted_test, avg_revenue, avg_cost, experiment_1.baseline_model_predictions)\n",
    "model_profit = experiment_1.get_model_profit(X_test, y_test, n_targeted_test, avg_revenue, avg_cost, preds=model_targets.actual)\n",
    "\n",
    "print('Number of customers targeted: {:,}/{:,}'.format(len(model_targets), len(X_test)))\n",
    "print('Conversion rate of model policy: {:.2f}%'.format(model_targets.actual.sum() / len(y_test)*100.))\n",
    "print('Expected profit of model policy: ${:,}'.format(model_profit))\n",
    "print('Lift over random: {:.1f} or ${:,}'.format(model_profit / random_profit, model_profit - random_profit))\n",
    "print('Lift over baseline: {:.1f} or ${:,}'.format(model_profit / baseline_profit, model_profit - baseline_profit))"
   ]
  },
  {
   "cell_type": "raw",
   "metadata": {},
   "source": [
    "<script>\n",
    "  jQuery(document).ready(function($) {\n",
    "\n",
    "  $(window).load(function(){\n",
    "    $('#preloader').fadeOut('slow',function(){$(this).remove();});\n",
    "  });\n",
    "\n",
    "  });\n",
    "</script>\n",
    "\n",
    "<style type=\"text/css\">\n",
    "  div#preloader { position: fixed;\n",
    "      left: 0;\n",
    "      top: 0;\n",
    "      z-index: 999;\n",
    "      width: 100%;\n",
    "      height: 100%;\n",
    "      overflow: visible;\n",
    "      background: #fff url('http://preloaders.net/preloaders/720/Moving%20line.gif') no-repeat center center;\n",
    "  }\n",
    "\n",
    "</style>\n",
    "\n",
    "<div id=\"preloader\"></div>"
   ]
  }
 ],
 "metadata": {
  "kernelspec": {
   "display_name": "Python 3",
   "language": "python",
   "name": "python3"
  },
  "language_info": {
   "codemirror_mode": {
    "name": "ipython",
    "version": 3
   },
   "file_extension": ".py",
   "mimetype": "text/x-python",
   "name": "python",
   "nbconvert_exporter": "python",
   "pygments_lexer": "ipython3",
   "version": "3.7.6"
  }
 },
 "nbformat": 4,
 "nbformat_minor": 4
}

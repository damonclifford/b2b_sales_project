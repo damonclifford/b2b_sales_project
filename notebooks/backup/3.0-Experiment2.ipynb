{
 "cells": [
  {
   "cell_type": "markdown",
   "metadata": {},
   "source": [
    "### Analyzing Train DF\n",
    "\n",
    "##### Features importantes\n",
    "* Pct Organic Visits - Se esse número é alto, isso quer dizer que a empresa depende de SEO para gerar receita. Números extremos perto de 0% e perto de 100% provavelmente estão errados/não são confiáveis\n",
    "* SEO Visits -  Quanto maior esse número, em geral, mais poderoso é o time de SEO, e mais faz sentido investir numa tecnologia como a nossa. Abaixo de 1M de visitas orgãnicas ou acima de 500M não faz muito sentido. (deveríamos descartar esses entao?)\n",
    "* Page Count - Quanto maior esse número, em geral, mais poderoso é o time de SEO, e mais faz sentido investir numa tecnologia como a nossa. Abaixo de 25K não faz muito sentido."
   ]
  },
  {
   "cell_type": "markdown",
   "metadata": {},
   "source": [
    "* Eliminate high correlated features to avoid multicollinearity.\n",
    "* Perform some power transforms (such as log), to avoid features highly skewed.power transf"
   ]
  },
  {
   "cell_type": "markdown",
   "metadata": {},
   "source": [
    "https://contrib.scikit-learn.org/categorical-encoding/catboost.html"
   ]
  },
  {
   "cell_type": "code",
   "execution_count": 2,
   "metadata": {},
   "outputs": [],
   "source": [
    "%load_ext autoreload\n",
    "%autoreload 2\n",
    "\n",
    "from utils import code\n",
    "from plot_libraries import setup_graphics\n",
    "from datasets import get_data"
   ]
  },
  {
   "cell_type": "code",
   "execution_count": 3,
   "metadata": {},
   "outputs": [],
   "source": [
    "from model import Model"
   ]
  },
  {
   "cell_type": "code",
   "execution_count": 5,
   "metadata": {},
   "outputs": [
    {
     "data": {
      "text/plain": [
       "LGBMClassifier(boosting_type='goss', class_weight=None,\n",
       "               colsample_bytree=0.8666666666666667, importance_type='split',\n",
       "               is_unbalance=True, learning_rate=0.15362344213545015,\n",
       "               max_depth=-1, min_child_samples=165, min_child_weight=0.001,\n",
       "               min_split_gain=0.0, n_estimators=100, n_jobs=-1, num_leaves=70,\n",
       "               objective=None, random_state=None, reg_alpha=0.3469387755102041,\n",
       "               reg_lambda=0.7551020408163265, silent=True,\n",
       "               subsample=0.8131313131313131, subsample_for_bin=20000,\n",
       "               subsample_freq=0)"
      ]
     },
     "execution_count": 5,
     "metadata": {},
     "output_type": "execute_result"
    }
   ],
   "source": [
    "tuned_model = Model.load('../models_pkl/experiment-1-model.pkl')\n",
    "tuned_model.model"
   ]
  },
  {
   "cell_type": "code",
   "execution_count": 13,
   "metadata": {},
   "outputs": [
    {
     "data": {
      "text/plain": [
       "1.0"
      ]
     },
     "execution_count": 13,
     "metadata": {},
     "output_type": "execute_result"
    }
   ],
   "source": [
    "from scipy.stats import wilcoxon\n",
    "from sklearn.datasets import load_iris\n",
    "from sklearn.ensemble import ExtraTreesClassifier, RandomForestClassifier\n",
    "from sklearn.model_selection import cross_val_score, KFold\n",
    "\n",
    "# Load the dataset\n",
    "X = load_iris().data\n",
    "y = load_iris().target\n",
    "\n",
    "# Prepare models and select your CV method\n",
    "model1 = ExtraTreesClassifier(n_estimators=100)\n",
    "model2 = RandomForestClassifier(n_estimators=100)\n",
    "kf = KFold(n_splits=10, random_state=42)\n",
    "\n",
    "# Extract results for each model on the same folds\n",
    "results_model1 = cross_val_score(model1, X, y, cv=kf)\n",
    "results_model2 = cross_val_score(model2, X, y, cv=kf)\n",
    "\n",
    "# Calculate p value\n",
    "stat, p = wilcoxon(results_model1, results_model2, zero_method='zsplit')\n",
    "p"
   ]
  },
  {
   "cell_type": "code",
   "execution_count": 15,
   "metadata": {},
   "outputs": [
    {
     "data": {
      "text/plain": [
       "array([1.        , 1.        , 1.        , 1.        , 0.86666667,\n",
       "       0.86666667, 1.        , 0.86666667, 0.86666667, 1.        ])"
      ]
     },
     "execution_count": 15,
     "metadata": {},
     "output_type": "execute_result"
    }
   ],
   "source": [
    "results_model1"
   ]
  },
  {
   "cell_type": "code",
   "execution_count": 16,
   "metadata": {},
   "outputs": [
    {
     "data": {
      "text/plain": [
       "array([1.        , 1.        , 1.        , 1.        , 0.93333333,\n",
       "       0.86666667, 1.        , 0.86666667, 0.8       , 1.        ])"
      ]
     },
     "execution_count": 16,
     "metadata": {},
     "output_type": "execute_result"
    }
   ],
   "source": [
    "results_model2"
   ]
  },
  {
   "cell_type": "code",
   "execution_count": null,
   "metadata": {},
   "outputs": [],
   "source": []
  }
 ],
 "metadata": {
  "kernelspec": {
   "display_name": "Python 3",
   "language": "python",
   "name": "python3"
  },
  "language_info": {
   "codemirror_mode": {
    "name": "ipython",
    "version": 3
   },
   "file_extension": ".py",
   "mimetype": "text/x-python",
   "name": "python",
   "nbconvert_exporter": "python",
   "pygments_lexer": "ipython3",
   "version": "3.7.6"
  }
 },
 "nbformat": 4,
 "nbformat_minor": 4
}

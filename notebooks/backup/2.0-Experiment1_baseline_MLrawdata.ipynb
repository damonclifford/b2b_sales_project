{
 "cells": [
  {
   "cell_type": "raw",
   "metadata": {},
   "source": [
    "<script>\n",
    "  function code_toggle() {\n",
    "    if (code_shown){\n",
    "      $('div.input').hide('500');\n",
    "      $('#toggleButton').val('Show Code')\n",
    "    } else {\n",
    "      $('div.input').show('500');\n",
    "      $('#toggleButton').val('Hide Code')\n",
    "    }\n",
    "    code_shown = !code_shown\n",
    "  }\n",
    "\n",
    "  $( document ).ready(function(){\n",
    "    code_shown=false;\n",
    "    $('div.input').hide()\n",
    "  });\n",
    "</script>\n",
    "<form action=\"javascript:code_toggle()\"><input type=\"submit\" id=\"toggleButton\" value=\"Show Code\"></form>"
   ]
  },
  {
   "cell_type": "raw",
   "metadata": {},
   "source": [
    "<script>\n",
    "  $(document).ready(function(){\n",
    "    $('div.prompt').hide();\n",
    "    $('div.back-to-top').hide();\n",
    "    $('nav#menubar').hide();\n",
    "    $('.breadcrumb').hide();\n",
    "    $('.hidden-print').hide();\n",
    "  });\n",
    "</script>\n",
    "\n",
    "<footer id=\"attribution\" style=\"float:right; color:#999; background:#fff;\">\n",
    "Created with Jupyter Lab, by Nicholas Richers.\n",
    "</footer>"
   ]
  },
  {
   "cell_type": "markdown",
   "metadata": {},
   "source": [
    "# Experiment #1 - Baseline Model vs. Baseline ML Models"
   ]
  },
  {
   "cell_type": "markdown",
   "metadata": {},
   "source": [
    "## Overview\n",
    "\n",
    "The purpose of this experiment is to establish a baseline for a domain-driven model and to compare it to more sophisticated machine learning models using baseline features. Our baseline model will simply follow our intuited rule:\n",
    "\n",
    "> Include the customer if they belong to tiers S or A, hence we are selecting 475 possible customers, which sounds a reasonable amount of customers to be reached in a certain period of time.\n",
    "\n",
    "To estimate the performance of machine learning models, we will train the following models with some different hyperparameter configurations, selecting the best configuration and averaging the scores of the best models:\n",
    "\n",
    "* Naive Bayes (XXXX)\n",
    "* Decision tree  (XXXX)\n",
    "* Logististic regression (XXXX)\n",
    "* Neural network\n",
    "* SVM (XXXX)\n",
    "\n",
    "Scores will be based on how well a classifier can prioritize 475 customers considering the entire database."
   ]
  },
  {
   "cell_type": "code",
   "execution_count": 1,
   "metadata": {},
   "outputs": [],
   "source": [
    "%load_ext autoreload\n",
    "%autoreload 2\n",
    "\n",
    "from utils import code\n",
    "from plot_libraries import setup_graphics\n",
    "from datasets import get_data"
   ]
  },
  {
   "cell_type": "code",
   "execution_count": 2,
   "metadata": {},
   "outputs": [],
   "source": [
    "# load libraries and set plot parameters\n",
    "import os, random, re, sys, time, warnings\n",
    "import math\n",
    "import numpy as np\n",
    "import pandas as pd\n",
    "import pandas_profiling\n",
    "import matplotlib.pyplot as plt\n",
    "import seaborn as sns\n",
    "from datetime import datetime\n",
    "\n",
    "sns.set()\n",
    "warnings.filterwarnings(\"ignore\")\n",
    "pd.options.display.max_columns = None\n",
    "%matplotlib inline\n",
    "setup_graphics()"
   ]
  },
  {
   "cell_type": "code",
   "execution_count": 131,
   "metadata": {},
   "outputs": [],
   "source": [
    "import scikitplot as skplt\n",
    "\n",
    "#Data transform (pipeline)\n",
    "from sklearn.preprocessing import OneHotEncoder, FunctionTransformer\n",
    "from sklearn.preprocessing import MinMaxScaler,RobustScaler\n",
    "from sklearn.compose import ColumnTransformer\n",
    "from sklearn.pipeline import Pipeline, FeatureUnion\n",
    "from sklearn.impute import SimpleImputer\n",
    "\n",
    "\n",
    "# Model evaluation\n",
    "from sklearn.metrics import make_scorer, roc_auc_score, classification_report, confusion_matrix\n",
    "from sklearn.model_selection import train_test_split, cross_val_predict\n",
    "from evaluation import plot_learning_curve, evaluate_model, plot_confusion_matrix\n",
    "\n",
    "# Support\n",
    "import parameters as params\n",
    "from model import Model, build_tuned_model\n",
    "from datasets import get_data\n",
    "from experiments import experiment_1, get_scorer"
   ]
  },
  {
   "cell_type": "markdown",
   "metadata": {},
   "source": [
    "## Data"
   ]
  },
  {
   "cell_type": "code",
   "execution_count": 4,
   "metadata": {},
   "outputs": [
    {
     "data": {
      "text/html": [
       "<div>\n",
       "<style scoped>\n",
       "    .dataframe tbody tr th:only-of-type {\n",
       "        vertical-align: middle;\n",
       "    }\n",
       "\n",
       "    .dataframe tbody tr th {\n",
       "        vertical-align: top;\n",
       "    }\n",
       "\n",
       "    .dataframe thead th {\n",
       "        text-align: right;\n",
       "    }\n",
       "</style>\n",
       "<table border=\"1\" class=\"dataframe\">\n",
       "  <thead>\n",
       "    <tr style=\"text-align: right;\">\n",
       "      <th></th>\n",
       "      <th>Activities_Last_30_Days</th>\n",
       "      <th>Employees</th>\n",
       "      <th>ZoomInfo_Employee_Range</th>\n",
       "      <th>ZoomInfo_Revenue_Range</th>\n",
       "      <th>Organic_Visits</th>\n",
       "      <th>Pct_Organic_Visits</th>\n",
       "      <th>SEO_Visits</th>\n",
       "      <th>URLs_Indexed</th>\n",
       "      <th>ZoomInfo_Global_HQ_Country</th>\n",
       "      <th>Annual_Revenue_converted</th>\n",
       "      <th>Adjusted_Industry</th>\n",
       "      <th>Account_ICP_Score</th>\n",
       "      <th>Account_ICP_Tier</th>\n",
       "      <th>Page_Count</th>\n",
       "      <th>Page_Count_Range</th>\n",
       "      <th>Alexa_Rank</th>\n",
       "      <th>Parent_Account_Status</th>\n",
       "    </tr>\n",
       "    <tr>\n",
       "      <th>Account_ID</th>\n",
       "      <th></th>\n",
       "      <th></th>\n",
       "      <th></th>\n",
       "      <th></th>\n",
       "      <th></th>\n",
       "      <th></th>\n",
       "      <th></th>\n",
       "      <th></th>\n",
       "      <th></th>\n",
       "      <th></th>\n",
       "      <th></th>\n",
       "      <th></th>\n",
       "      <th></th>\n",
       "      <th></th>\n",
       "      <th></th>\n",
       "      <th></th>\n",
       "      <th></th>\n",
       "    </tr>\n",
       "  </thead>\n",
       "  <tbody>\n",
       "    <tr>\n",
       "      <th>0012400000L5cmZ</th>\n",
       "      <td>0.0</td>\n",
       "      <td>10.0</td>\n",
       "      <td>unknown</td>\n",
       "      <td>unknown</td>\n",
       "      <td>61688430.0</td>\n",
       "      <td>0.34</td>\n",
       "      <td>61688430.0</td>\n",
       "      <td>27700000.0</td>\n",
       "      <td>non_US</td>\n",
       "      <td>3.333900e+06</td>\n",
       "      <td>Retail</td>\n",
       "      <td>91.667</td>\n",
       "      <td>Tier A</td>\n",
       "      <td>27700000.0</td>\n",
       "      <td>&gt;1M</td>\n",
       "      <td>331.0</td>\n",
       "      <td>unknown</td>\n",
       "    </tr>\n",
       "    <tr>\n",
       "      <th>00124000004sEH5</th>\n",
       "      <td>51.0</td>\n",
       "      <td>10000.0</td>\n",
       "      <td>unknown</td>\n",
       "      <td>unknown</td>\n",
       "      <td>19397082.0</td>\n",
       "      <td>0.93</td>\n",
       "      <td>28615923.0</td>\n",
       "      <td>76200.0</td>\n",
       "      <td>non_US</td>\n",
       "      <td>1.333560e+10</td>\n",
       "      <td>Retail</td>\n",
       "      <td>100.000</td>\n",
       "      <td>Tier A</td>\n",
       "      <td>206300.0</td>\n",
       "      <td>Between 100K and 250K</td>\n",
       "      <td>8881.0</td>\n",
       "      <td>Prospect</td>\n",
       "    </tr>\n",
       "    <tr>\n",
       "      <th>00124000004sUGG</th>\n",
       "      <td>0.0</td>\n",
       "      <td>5000.0</td>\n",
       "      <td>unknown</td>\n",
       "      <td>unknown</td>\n",
       "      <td>49283858.0</td>\n",
       "      <td>0.53</td>\n",
       "      <td>50132407.0</td>\n",
       "      <td>12600000.0</td>\n",
       "      <td>non_US</td>\n",
       "      <td>5.556500e+08</td>\n",
       "      <td>Media</td>\n",
       "      <td>100.000</td>\n",
       "      <td>Tier A</td>\n",
       "      <td>12709000.0</td>\n",
       "      <td>&gt;1M</td>\n",
       "      <td>1118.0</td>\n",
       "      <td>Lost Customer</td>\n",
       "    </tr>\n",
       "    <tr>\n",
       "      <th>0011p00002SeaiQ</th>\n",
       "      <td>0.0</td>\n",
       "      <td>383.0</td>\n",
       "      <td>250 - 500</td>\n",
       "      <td>$50 mil. - $100 mil.</td>\n",
       "      <td>177515.0</td>\n",
       "      <td>NaN</td>\n",
       "      <td>177515.0</td>\n",
       "      <td>1090000.0</td>\n",
       "      <td>US</td>\n",
       "      <td>7.360000e+07</td>\n",
       "      <td>Classified</td>\n",
       "      <td>70.833</td>\n",
       "      <td>Tier A</td>\n",
       "      <td>1090000.0</td>\n",
       "      <td>&gt;1M</td>\n",
       "      <td>126905.0</td>\n",
       "      <td>unknown</td>\n",
       "    </tr>\n",
       "    <tr>\n",
       "      <th>0011p00001SghSL</th>\n",
       "      <td>0.0</td>\n",
       "      <td>5000.0</td>\n",
       "      <td>1,000 - 5,000</td>\n",
       "      <td>$500 mil. - $1 bil.</td>\n",
       "      <td>8052961.0</td>\n",
       "      <td>0.59</td>\n",
       "      <td>10416602.0</td>\n",
       "      <td>2340000.0</td>\n",
       "      <td>US</td>\n",
       "      <td>2.500000e+08</td>\n",
       "      <td>Classified</td>\n",
       "      <td>100.000</td>\n",
       "      <td>Tier A</td>\n",
       "      <td>3640000.0</td>\n",
       "      <td>&gt;1M</td>\n",
       "      <td>4742.0</td>\n",
       "      <td>Prospect</td>\n",
       "    </tr>\n",
       "  </tbody>\n",
       "</table>\n",
       "</div>"
      ],
      "text/plain": [
       "                 Activities_Last_30_Days  Employees ZoomInfo_Employee_Range  \\\n",
       "Account_ID                                                                    \n",
       "0012400000L5cmZ                      0.0       10.0                 unknown   \n",
       "00124000004sEH5                     51.0    10000.0                 unknown   \n",
       "00124000004sUGG                      0.0     5000.0                 unknown   \n",
       "0011p00002SeaiQ                      0.0      383.0               250 - 500   \n",
       "0011p00001SghSL                      0.0     5000.0           1,000 - 5,000   \n",
       "\n",
       "                ZoomInfo_Revenue_Range  Organic_Visits  Pct_Organic_Visits  \\\n",
       "Account_ID                                                                   \n",
       "0012400000L5cmZ                unknown      61688430.0                0.34   \n",
       "00124000004sEH5                unknown      19397082.0                0.93   \n",
       "00124000004sUGG                unknown      49283858.0                0.53   \n",
       "0011p00002SeaiQ   $50 mil. - $100 mil.        177515.0                 NaN   \n",
       "0011p00001SghSL    $500 mil. - $1 bil.       8052961.0                0.59   \n",
       "\n",
       "                 SEO_Visits  URLs_Indexed ZoomInfo_Global_HQ_Country  \\\n",
       "Account_ID                                                             \n",
       "0012400000L5cmZ  61688430.0    27700000.0                     non_US   \n",
       "00124000004sEH5  28615923.0       76200.0                     non_US   \n",
       "00124000004sUGG  50132407.0    12600000.0                     non_US   \n",
       "0011p00002SeaiQ    177515.0     1090000.0                         US   \n",
       "0011p00001SghSL  10416602.0     2340000.0                         US   \n",
       "\n",
       "                 Annual_Revenue_converted Adjusted_Industry  \\\n",
       "Account_ID                                                    \n",
       "0012400000L5cmZ              3.333900e+06            Retail   \n",
       "00124000004sEH5              1.333560e+10            Retail   \n",
       "00124000004sUGG              5.556500e+08             Media   \n",
       "0011p00002SeaiQ              7.360000e+07        Classified   \n",
       "0011p00001SghSL              2.500000e+08        Classified   \n",
       "\n",
       "                 Account_ICP_Score Account_ICP_Tier  Page_Count  \\\n",
       "Account_ID                                                        \n",
       "0012400000L5cmZ             91.667           Tier A  27700000.0   \n",
       "00124000004sEH5            100.000           Tier A    206300.0   \n",
       "00124000004sUGG            100.000           Tier A  12709000.0   \n",
       "0011p00002SeaiQ             70.833           Tier A   1090000.0   \n",
       "0011p00001SghSL            100.000           Tier A   3640000.0   \n",
       "\n",
       "                      Page_Count_Range  Alexa_Rank Parent_Account_Status  \n",
       "Account_ID                                                                \n",
       "0012400000L5cmZ                    >1M       331.0               unknown  \n",
       "00124000004sEH5  Between 100K and 250K      8881.0              Prospect  \n",
       "00124000004sUGG                    >1M      1118.0         Lost Customer  \n",
       "0011p00002SeaiQ                    >1M    126905.0               unknown  \n",
       "0011p00001SghSL                    >1M      4742.0              Prospect  "
      ]
     },
     "execution_count": 4,
     "metadata": {},
     "output_type": "execute_result"
    }
   ],
   "source": [
    "X, y = get_data('../data/trainDF.csv')\n",
    "X.head()"
   ]
  },
  {
   "cell_type": "code",
   "execution_count": 153,
   "metadata": {},
   "outputs": [
    {
     "name": "stdout",
     "output_type": "stream",
     "text": [
      "Number of instances: 1,849\n",
      "Number of conversions 315\n",
      "Conversion rate: 17.04%\n",
      "Expected number of conversions targetting tiers S&A (475) @ 17.04%: 80\n"
     ]
    }
   ],
   "source": [
    "n_instances = len(X)\n",
    "p_instances = y.sum() / len(y)\n",
    "p_targeted = 475/n_instances\n",
    "n_targeted = int(n_instances*p_targeted)\n",
    "\n",
    "print('Number of instances: {:,}'.format(n_instances))\n",
    "print('Number of conversions {:,}'.format(y.sum()))\n",
    "print('Conversion rate: {:.2f}%'.format(p_instances*100.))\n",
    "print('Expected number of conversions targetting tiers S&A ({:,}) @ {:.2f}%: {:,}'.format(n_targeted, p_instances*100., int(p_instances * n_targeted)))"
   ]
  },
  {
   "cell_type": "markdown",
   "metadata": {},
   "source": [
    "### Split Dataset"
   ]
  },
  {
   "cell_type": "code",
   "execution_count": 6,
   "metadata": {},
   "outputs": [],
   "source": [
    "X_train, X_test, y_train, y_test = train_test_split(X, y, test_size=.2, stratify=y, random_state=1)\n",
    "n_targeted_test = int(len(X_test) * p_targeted)"
   ]
  },
  {
   "cell_type": "markdown",
   "metadata": {},
   "source": [
    "### Baseline Model"
   ]
  },
  {
   "cell_type": "markdown",
   "metadata": {},
   "source": [
    "To evaluate our baseline model, we will include some financial features, which will allow us to compare with ML models later."
   ]
  },
  {
   "cell_type": "code",
   "execution_count": 7,
   "metadata": {},
   "outputs": [],
   "source": [
    "# Setup costs and benefits\n",
    "avg_revenue = params.AVG_REVENUE\n",
    "avg_cost = params.AVG_COST"
   ]
  },
  {
   "cell_type": "code",
   "execution_count": 8,
   "metadata": {},
   "outputs": [],
   "source": [
    "# Get all of the instances with tiers S&A\n",
    "X_test_SA = X_test[X_test.Account_ICP_Tier.isin(['Tier S', 'Tier A'])]\n",
    "\n",
    "# Calcuate how many more instances we need\n",
    "n_rest = n_targeted_test - len(X_test_SA)\n",
    "\n",
    "# Randomly choose from the remaining instances\n",
    "rest = X_test[~(X_test.index.isin(X_test_SA.index))].sample(n=n_rest, random_state=1)"
   ]
  },
  {
   "cell_type": "code",
   "execution_count": 9,
   "metadata": {},
   "outputs": [],
   "source": [
    "# Combine the targeted and random groups\n",
    "baseline_targets = pd.concat([X_test_SA, rest], axis=0)\n",
    "baseline_ys = y_test.loc[baseline_targets.index]\n",
    "baseline_outcomes = baseline_ys.apply(lambda x: avg_cost if x == 0 else avg_cost + avg_revenue)\n",
    "assert(len(baseline_targets) == n_targeted_test)"
   ]
  },
  {
   "cell_type": "code",
   "execution_count": 10,
   "metadata": {},
   "outputs": [],
   "source": [
    "# Create the random targets\n",
    "random_targets = X_test.sample(n=n_targeted_test)\n",
    "random_ys = y.loc[random_targets.index]\n",
    "random_outcomes = random_ys.apply(lambda x: avg_cost if x == 0 else avg_cost + avg_revenue)"
   ]
  },
  {
   "cell_type": "code",
   "execution_count": 11,
   "metadata": {},
   "outputs": [
    {
     "name": "stdout",
     "output_type": "stream",
     "text": [
      "Number of customers targeted: 95/370\n",
      "\n",
      "Conversion rate under random policy: 12.6%\n",
      "Expected profit under random policy: $11,050\n",
      "\n",
      "Conversion rate under baseline policy: 25.3%\n",
      "Expected profit under baseline policy: $23,050\n",
      "Lift over random policy: 2.1 or $12,000\n"
     ]
    }
   ],
   "source": [
    "# Compute profit\n",
    "random_profit = sum(random_outcomes)\n",
    "baseline_profit = sum(baseline_outcomes)\n",
    "\n",
    "print('Number of customers targeted: {:,}/{:,}\\n'.format(len(baseline_targets), len(X_test)))\n",
    "\n",
    "print('Conversion rate under random policy: {:.1f}%'.format(random_ys.sum() / len(random_ys)*100.))\n",
    "print('Expected profit under random policy: ${:,}\\n'.format(random_profit))\n",
    "\n",
    "print('Conversion rate under baseline policy: {:.3}%'.format(baseline_ys.sum() / len(baseline_ys)*100.))\n",
    "print('Expected profit under baseline policy: ${:,}'.format(baseline_profit))\n",
    "print('Lift over random policy: {:.1f} or ${:,}'.format(baseline_profit / random_profit, baseline_profit - random_profit))"
   ]
  },
  {
   "cell_type": "markdown",
   "metadata": {},
   "source": [
    "--------\n",
    "--------"
   ]
  },
  {
   "cell_type": "markdown",
   "metadata": {},
   "source": [
    "### Baseline ML models\n",
    "We will evaluate some ML models and choose the best one under a score function then analyze its predictions and estimate financial impact."
   ]
  },
  {
   "cell_type": "markdown",
   "metadata": {},
   "source": [
    "From previous step, we noticed that some trasformations are necessary to improve our ML models.\n",
    "\n",
    "##### Fill nan values (however some models are robust to this issue).\n",
    "\n",
    "* #1 - fill_value=nan (*only valid to XGB & LGBM*)\n",
    "\n",
    "```python\n",
    "cat_ct = ColumnTransformer([('numerics', 'passthrough', experiment_1.NUM_FEAT)])\n",
    "```\n",
    "--------\n",
    "\n",
    "* #2 - fill_value=-1, let the model find out a pattern from its own (**best choice**)\n",
    "\n",
    "```python\n",
    "num_ct = ColumnTransformer([\n",
    "    ('fill_diff', SimpleImputer(missing_values=np.nan, strategy='constant',fill_value=-1),experiment_1.NUM_FEAT)                          \n",
    "])\n",
    "```\n",
    "--------\n",
    "\n",
    "* #3 - Multiple heuristics\n",
    "\n",
    "```python\n",
    "num_ct_ = ColumnTransformer([\n",
    "    ('numerics', 'passthrough', pass_feat),\n",
    "    ('fill_diff',SimpleImputer(missing_values=np.nan, strategy='constant', fill_value=-1),fill_diff),\n",
    "    ('fill_max', SimpleImputer(missing_values=np.nan, strategy='most_frequent'),fill_max),\n",
    "    ('fill_min', SimpleImputer(missing_values=np.nan, strategy='constant', fill_value=0),fill_min)\n",
    "])\n",
    "```\n",
    "-------\n"
   ]
  },
  {
   "cell_type": "markdown",
   "metadata": {},
   "source": [
    "#### Creating the pipeline of first experiment"
   ]
  },
  {
   "cell_type": "code",
   "execution_count": 12,
   "metadata": {},
   "outputs": [],
   "source": [
    "# Create the transformers for categorical features\n",
    "cat_ct = ColumnTransformer([('categoricals', 'passthrough', experiment_1.CAT_FEAT)])\n",
    "\n",
    "# Create the pipeline to transform categorical features\n",
    "cat_pipeline = Pipeline([\n",
    "        ('cat_ct', cat_ct),\n",
    "        ('ohe', OneHotEncoder(handle_unknown='ignore'))\n",
    "])"
   ]
  },
  {
   "cell_type": "code",
   "execution_count": 13,
   "metadata": {},
   "outputs": [],
   "source": [
    "# Create the transformers for numeric features\n",
    "num_ct = ColumnTransformer([\n",
    "    ('fill_diff', SimpleImputer(missing_values=np.nan, strategy='constant',fill_value=-1),experiment_1.NUM_FEAT)                          \n",
    "])\n",
    "\n",
    "# Create the pipeline to transform numeric features\n",
    "num_pipeline = Pipeline([\n",
    "        ('num_union', num_ct),\n",
    "        ('scaler', RobustScaler()),\n",
    "        ('minimax', MinMaxScaler())\n",
    "])"
   ]
  },
  {
   "cell_type": "markdown",
   "metadata": {},
   "source": [
    "Concat both pipelines and transform"
   ]
  },
  {
   "cell_type": "code",
   "execution_count": 14,
   "metadata": {},
   "outputs": [
    {
     "name": "stdout",
     "output_type": "stream",
     "text": [
      "Instances: 1,849, Features: 63\n"
     ]
    }
   ],
   "source": [
    "pipeline1 = experiment_1.get_pipeline(cat_pipeline, num_pipeline)\n",
    "ps = pipeline1.fit_transform(X).shape\n",
    "print('Instances: {:,}, Features: {}'.format(ps[0], ps[1]))"
   ]
  },
  {
   "cell_type": "markdown",
   "metadata": {},
   "source": [
    "##### Evaluation Metric"
   ]
  },
  {
   "cell_type": "code",
   "execution_count": 15,
   "metadata": {},
   "outputs": [
    {
     "data": {
      "text/plain": [
       "make_scorer(roc_auc_score)"
      ]
     },
     "execution_count": 15,
     "metadata": {},
     "output_type": "execute_result"
    }
   ],
   "source": [
    "scorer = get_scorer()\n",
    "scorer"
   ]
  },
  {
   "cell_type": "code",
   "execution_count": 16,
   "metadata": {},
   "outputs": [],
   "source": [
    "results=[]"
   ]
  },
  {
   "cell_type": "markdown",
   "metadata": {},
   "source": [
    "#### ML Models"
   ]
  },
  {
   "cell_type": "markdown",
   "metadata": {},
   "source": [
    "Logistic Regression"
   ]
  },
  {
   "cell_type": "code",
   "execution_count": 17,
   "metadata": {},
   "outputs": [
    {
     "name": "stdout",
     "output_type": "stream",
     "text": [
      "==> Starting 5-fold cross validation for lr model, 1849 examples\n",
      "==> Elapsed seconds: 6.040\n",
      "Best lr model: LogisticRegression(C=1.0, class_weight=None, dual=False, fit_intercept=True,\n",
      "                   intercept_scaling=1, l1_ratio=None, max_iter=100,\n",
      "                   multi_class='warn', n_jobs=None, penalty='l1',\n",
      "                   random_state=None, solver='liblinear', tol=0.0001, verbose=0,\n",
      "                   warm_start=False)\n",
      "Best lr score: 0.593\n"
     ]
    }
   ],
   "source": [
    "from sklearn.linear_model import LogisticRegression\n",
    "lr_param_grid = {\n",
    "  'lr__C': np.logspace(-3, 2, 6),\n",
    "  'lr__intercept_scaling': [1], \n",
    "  'lr__max_iter': [100],\n",
    "  'lr__penalty':  ['l1', 'l2'],\n",
    "  'lr__solver': ['liblinear'], #good for small datasets\n",
    "  'lr__tol': [0.0001]\n",
    "}\n",
    "\n",
    "\n",
    "#0.593\n",
    "result = evaluate_model(X, y, 'lr', LogisticRegression(), lr_param_grid, scorer, n_iter=20, cv_folds=5, pipeline=pipeline1)\n",
    "results.append(result)"
   ]
  },
  {
   "cell_type": "markdown",
   "metadata": {},
   "source": [
    "XGBoost"
   ]
  },
  {
   "cell_type": "code",
   "execution_count": 18,
   "metadata": {},
   "outputs": [
    {
     "name": "stdout",
     "output_type": "stream",
     "text": [
      "==> Starting 5-fold cross validation for xgb model, 1849 examples\n",
      "==> Elapsed seconds: 13.191\n",
      "Best xgb model: XGBClassifier(base_score=0.5, booster=None, colsample_bylevel=0.7,\n",
      "              colsample_bynode=1, colsample_bytree=0.8, gamma=0.24, gpu_id=-1,\n",
      "              importance_type='gain', interaction_constraints=None,\n",
      "              learning_rate=0.2, max_delta_step=0, max_depth=6,\n",
      "              min_child_weight=9, missing=nan, monotone_constraints=None,\n",
      "              n_estimators=300, n_jobs=0, num_parallel_tree=1,\n",
      "              objective='binary:logistic', random_state=0,\n",
      "              reg_alpha=0.12915496650148842, reg_lambda=0.5994842503189408,\n",
      "              scale_pos_weight=1, subsample=0.7, tree_method=None,\n",
      "              validate_parameters=False, verbosity=None)\n",
      "Best xgb score: 0.666\n"
     ]
    }
   ],
   "source": [
    "from xgboost import XGBClassifier\n",
    "xgb_param_grid = {\n",
    "        'xgb__colsample_bylevel' : [0.1, 0.2, 0.3, 0.4, 0.5, 0.6, 0.7, 0.8, 1.0],\n",
    "        'xgb__colsample_bytree' :[0.6, 0.7, 0.8, 1.0],\n",
    "        'xgb__gamma' : list(np.linspace(0.05, 1, 6)),\n",
    "        'xgb__learning_rate' : [0.0001, 0.001, 0.01, 0.1, 0.2, 0.3],\n",
    "        'xgb__max_depth' : list(range(3, 30, 3)),\n",
    "        'xgb__min_child_weight' : list(range(1, 11, 2)),\n",
    "        'xgb__n_estimators' : list(range(50, 400, 50)),\n",
    "        'xgb__reg_alpha' : list(np.logspace(-1, 1, num=10)/10),\n",
    "        'xgb__reg_lambda' : list(np.logspace(-1, 1, num=10)/10),\n",
    "        'xgb__subsample' : [0.6, 0.7, 0.8, 1.0]\n",
    "}\n",
    "\n",
    "#.668\n",
    "result = evaluate_model(X, y, 'xgb', XGBClassifier(), xgb_param_grid, scorer, n_iter=10, cv_folds=5, pipeline=pipeline1)\n",
    "results.append(result)"
   ]
  },
  {
   "cell_type": "markdown",
   "metadata": {},
   "source": [
    "Light GBM"
   ]
  },
  {
   "cell_type": "code",
   "execution_count": 19,
   "metadata": {},
   "outputs": [
    {
     "name": "stdout",
     "output_type": "stream",
     "text": [
      "==> Starting 5-fold cross validation for lgbm model, 1849 examples\n",
      "==> Elapsed seconds: 2.816\n",
      "Best lgbm model: LGBMClassifier(boosting_type='goss', class_weight=None,\n",
      "               colsample_bytree=0.8666666666666667, importance_type='split',\n",
      "               is_unbalance=True, learning_rate=0.15362344213545015,\n",
      "               max_depth=-1, min_child_samples=165, min_child_weight=0.001,\n",
      "               min_split_gain=0.0, n_estimators=100, n_jobs=-1, num_leaves=70,\n",
      "               objective=None, random_state=None, reg_alpha=0.3469387755102041,\n",
      "               reg_lambda=0.7551020408163265, silent=True,\n",
      "               subsample=0.8131313131313131, subsample_for_bin=20000,\n",
      "               subsample_freq=0)\n",
      "Best lgbm score: 0.715\n"
     ]
    }
   ],
   "source": [
    "from lightgbm import LGBMClassifier\n",
    "lgbm_param_grid = {\n",
    "    'lgbm__boosting_type': ['gbdt', 'goss', 'dart'],\n",
    "    'lgbm__num_leaves': list(range(20, 150)),\n",
    "    'lgbm__learning_rate': list(np.logspace(np.log10(0.005), np.log10(0.5), base = 10, num = 1000)),\n",
    "    'lgbm__subsample_for_bin': list(range(20000, 300000, 20000)),\n",
    "    'lgbm__min_child_samples': list(range(20, 500, 5)),\n",
    "    'lgbm__reg_alpha': list(np.linspace(0, 1)),\n",
    "    'lgbm__reg_lambda': list(np.linspace(0, 1)),\n",
    "    'lgbm__colsample_bytree': list(np.linspace(0.6, 1, 10)),\n",
    "    'lgbm__subsample': list(np.linspace(0.5, 1, 100)),\n",
    "    'lgbm__is_unbalance': [True, False]\n",
    "}\n",
    "\n",
    "#0.739\n",
    "result = evaluate_model(X, y, 'lgbm', LGBMClassifier(), lgbm_param_grid, scorer, n_iter=10, cv_folds=5, pipeline=pipeline1)\n",
    "results.append(result)"
   ]
  },
  {
   "cell_type": "markdown",
   "metadata": {},
   "source": [
    "SGD Classifier"
   ]
  },
  {
   "cell_type": "code",
   "execution_count": 20,
   "metadata": {},
   "outputs": [
    {
     "name": "stdout",
     "output_type": "stream",
     "text": [
      "==> Starting 5-fold cross validation for sgd model, 1849 examples\n",
      "==> Elapsed seconds: 1.355\n",
      "Best sgd model: SGDClassifier(alpha=0.0001, average=False, class_weight=None,\n",
      "              early_stopping=False, epsilon=0.1, eta0=0.0, fit_intercept=True,\n",
      "              l1_ratio=0.15, learning_rate='optimal', loss='log', max_iter=1000,\n",
      "              n_iter_no_change=5, n_jobs=-1, penalty='elasticnet', power_t=0.5,\n",
      "              random_state=None, shuffle=True, tol=0.001,\n",
      "              validation_fraction=0.1, verbose=0, warm_start=False)\n",
      "Best sgd score: 0.593\n"
     ]
    }
   ],
   "source": [
    "from sklearn.linear_model import SGDClassifier\n",
    "sgd_param_grid = {\n",
    "  'sgd__alpha' : np.logspace(-4, 3, 8), \n",
    "  'sgd__loss' : ['log'], #['log','hinge'],\n",
    "  'sgd__max_iter' : [1000],  \n",
    "  'sgd__n_jobs' : [-1], \n",
    "  'sgd__penalty' : ['l2', 'l1', 'elasticnet'],\n",
    "  'sgd__tol' : [0.001],\n",
    "}\n",
    "\n",
    "\n",
    "#0.606\n",
    "result = evaluate_model(X, y, 'sgd', SGDClassifier(), sgd_param_grid, scorer, n_iter=10, cv_folds=5, pipeline=pipeline1)\n",
    "results.append(result)"
   ]
  },
  {
   "cell_type": "markdown",
   "metadata": {},
   "source": [
    "Knn"
   ]
  },
  {
   "cell_type": "code",
   "execution_count": 21,
   "metadata": {},
   "outputs": [
    {
     "name": "stdout",
     "output_type": "stream",
     "text": [
      "==> Starting 5-fold cross validation for knn model, 1849 examples\n",
      "==> Elapsed seconds: 10.024\n",
      "Best knn model: KNeighborsClassifier(algorithm='auto', leaf_size=8, metric='euclidean',\n",
      "                     metric_params=None, n_jobs=None, n_neighbors=4, p=3,\n",
      "                     weights='uniform')\n",
      "Best knn score: 0.526\n"
     ]
    }
   ],
   "source": [
    "from sklearn.neighbors import KNeighborsClassifier\n",
    "knn_param_grid =  {\n",
    "  'knn__leaf_size' : list(range(2, 40, 2)), \n",
    "  'knn__metric' : ['euclidean', 'manhattan'],\n",
    "  'knn__n_neighbors' : list(range(2, 18, 2)), \n",
    "  'knn__p' : [2,3],\n",
    "  'knn__weights' : ['uniform', 'distance']\n",
    "}\n",
    "\n",
    "#0.526\n",
    "result = evaluate_model(X, y, 'knn', KNeighborsClassifier(), knn_param_grid, scorer, n_iter=10, cv_folds=5, pipeline=pipeline1)\n",
    "results.append(result)"
   ]
  },
  {
   "cell_type": "markdown",
   "metadata": {},
   "source": [
    "### Comparing results"
   ]
  },
  {
   "cell_type": "code",
   "execution_count": 59,
   "metadata": {},
   "outputs": [
    {
     "data": {
      "text/html": [
       "<style  type=\"text/css\" >\n",
       "    #T_b80b27fa_6b0e_11ea_b059_8438355b82e0row0_col1 {\n",
       "            width:  10em;\n",
       "             height:  80%;\n",
       "            background:  linear-gradient(90deg,#d65f5f 100.0%, transparent 100.0%);\n",
       "        }    #T_b80b27fa_6b0e_11ea_b059_8438355b82e0row0_col2 {\n",
       "            width:  10em;\n",
       "             height:  80%;\n",
       "            background:  linear-gradient(90deg,#d65f5f 80.3%, transparent 80.3%);\n",
       "        }    #T_b80b27fa_6b0e_11ea_b059_8438355b82e0row1_col1 {\n",
       "            width:  10em;\n",
       "             height:  80%;\n",
       "            background:  linear-gradient(90deg,#d65f5f 73.8%, transparent 73.8%);\n",
       "        }    #T_b80b27fa_6b0e_11ea_b059_8438355b82e0row1_col2 {\n",
       "            width:  10em;\n",
       "             height:  80%;\n",
       "            background:  linear-gradient(90deg,#d65f5f 100.0%, transparent 100.0%);\n",
       "        }    #T_b80b27fa_6b0e_11ea_b059_8438355b82e0row2_col1 {\n",
       "            width:  10em;\n",
       "             height:  80%;\n",
       "            background:  linear-gradient(90deg,#d65f5f 35.1%, transparent 35.1%);\n",
       "        }    #T_b80b27fa_6b0e_11ea_b059_8438355b82e0row2_col2 {\n",
       "            width:  10em;\n",
       "             height:  80%;\n",
       "            background:  linear-gradient(90deg,#d65f5f 52.6%, transparent 52.6%);\n",
       "        }    #T_b80b27fa_6b0e_11ea_b059_8438355b82e0row3_col1 {\n",
       "            width:  10em;\n",
       "             height:  80%;\n",
       "            background:  linear-gradient(90deg,#d65f5f 35.0%, transparent 35.0%);\n",
       "        }    #T_b80b27fa_6b0e_11ea_b059_8438355b82e0row3_col2 {\n",
       "            width:  10em;\n",
       "             height:  80%;\n",
       "        }    #T_b80b27fa_6b0e_11ea_b059_8438355b82e0row4_col1 {\n",
       "            width:  10em;\n",
       "             height:  80%;\n",
       "        }    #T_b80b27fa_6b0e_11ea_b059_8438355b82e0row4_col2 {\n",
       "            width:  10em;\n",
       "             height:  80%;\n",
       "            background:  linear-gradient(90deg,#d65f5f 10.6%, transparent 10.6%);\n",
       "        }</style><table id=\"T_b80b27fa_6b0e_11ea_b059_8438355b82e0\" ><thead>    <tr>        <th class=\"blank level0\" ></th>        <th class=\"col_heading level0 col0\" >model</th>        <th class=\"col_heading level0 col1\" >mean</th>        <th class=\"col_heading level0 col2\" >std</th>    </tr></thead><tbody>\n",
       "                <tr>\n",
       "                        <th id=\"T_b80b27fa_6b0e_11ea_b059_8438355b82e0level0_row0\" class=\"row_heading level0 row0\" >2</th>\n",
       "                        <td id=\"T_b80b27fa_6b0e_11ea_b059_8438355b82e0row0_col0\" class=\"data row0 col0\" >lgbm</td>\n",
       "                        <td id=\"T_b80b27fa_6b0e_11ea_b059_8438355b82e0row0_col1\" class=\"data row0 col1\" >0.715357</td>\n",
       "                        <td id=\"T_b80b27fa_6b0e_11ea_b059_8438355b82e0row0_col2\" class=\"data row0 col2\" >0.061716</td>\n",
       "            </tr>\n",
       "            <tr>\n",
       "                        <th id=\"T_b80b27fa_6b0e_11ea_b059_8438355b82e0level0_row1\" class=\"row_heading level0 row1\" >1</th>\n",
       "                        <td id=\"T_b80b27fa_6b0e_11ea_b059_8438355b82e0row1_col0\" class=\"data row1 col0\" >xgb</td>\n",
       "                        <td id=\"T_b80b27fa_6b0e_11ea_b059_8438355b82e0row1_col1\" class=\"data row1 col1\" >0.665906</td>\n",
       "                        <td id=\"T_b80b27fa_6b0e_11ea_b059_8438355b82e0row1_col2\" class=\"data row1 col2\" >0.064521</td>\n",
       "            </tr>\n",
       "            <tr>\n",
       "                        <th id=\"T_b80b27fa_6b0e_11ea_b059_8438355b82e0level0_row2\" class=\"row_heading level0 row2\" >0</th>\n",
       "                        <td id=\"T_b80b27fa_6b0e_11ea_b059_8438355b82e0row2_col0\" class=\"data row2 col0\" >lr</td>\n",
       "                        <td id=\"T_b80b27fa_6b0e_11ea_b059_8438355b82e0row2_col1\" class=\"data row2 col1\" >0.592771</td>\n",
       "                        <td id=\"T_b80b27fa_6b0e_11ea_b059_8438355b82e0row2_col2\" class=\"data row2 col2\" >0.057784</td>\n",
       "            </tr>\n",
       "            <tr>\n",
       "                        <th id=\"T_b80b27fa_6b0e_11ea_b059_8438355b82e0level0_row3\" class=\"row_heading level0 row3\" >3</th>\n",
       "                        <td id=\"T_b80b27fa_6b0e_11ea_b059_8438355b82e0row3_col0\" class=\"data row3 col0\" >sgd</td>\n",
       "                        <td id=\"T_b80b27fa_6b0e_11ea_b059_8438355b82e0row3_col1\" class=\"data row3 col1\" >0.592592</td>\n",
       "                        <td id=\"T_b80b27fa_6b0e_11ea_b059_8438355b82e0row3_col2\" class=\"data row3 col2\" >0.050316</td>\n",
       "            </tr>\n",
       "            <tr>\n",
       "                        <th id=\"T_b80b27fa_6b0e_11ea_b059_8438355b82e0level0_row4\" class=\"row_heading level0 row4\" >4</th>\n",
       "                        <td id=\"T_b80b27fa_6b0e_11ea_b059_8438355b82e0row4_col0\" class=\"data row4 col0\" >knn</td>\n",
       "                        <td id=\"T_b80b27fa_6b0e_11ea_b059_8438355b82e0row4_col1\" class=\"data row4 col1\" >0.526450</td>\n",
       "                        <td id=\"T_b80b27fa_6b0e_11ea_b059_8438355b82e0row4_col2\" class=\"data row4 col2\" >0.051825</td>\n",
       "            </tr>\n",
       "    </tbody></table>"
      ],
      "text/plain": [
       "<pandas.io.formats.style.Styler at 0x1a1bb55e10>"
      ]
     },
     "execution_count": 59,
     "metadata": {},
     "output_type": "execute_result"
    }
   ],
   "source": [
    "pd.DataFrame.from_dict(list(map(lambda x:\n",
    "                      {'model': x[1], 'mean': x[2], 'std': x[3] }, results)))[[\n",
    "                       'model', 'mean', 'std'\n",
    "                      ]].sort_values('mean', ascending=False).style.bar()"
   ]
  },
  {
   "cell_type": "code",
   "execution_count": 100,
   "metadata": {},
   "outputs": [
    {
     "name": "stdout",
     "output_type": "stream",
     "text": [
      "Best model performance mean: 0.7153571719016798\n",
      "Best model performance std: 0.06171638033943343\n"
     ]
    }
   ],
   "source": [
    "model_result = list(filter(lambda x: x[1] == 'lgbm', results))[0]\n",
    "model = model_result[0]\n",
    "print('Best model performance mean:', model_result[2])\n",
    "print('Best model performance std:', model_result[3])\n",
    "#model.save('../models_pkl/experiment-1-model.pkl')"
   ]
  },
  {
   "cell_type": "markdown",
   "metadata": {},
   "source": [
    "--------------\n",
    "-------------"
   ]
  },
  {
   "cell_type": "markdown",
   "metadata": {},
   "source": [
    "### Analyzing best model"
   ]
  },
  {
   "cell_type": "code",
   "execution_count": 117,
   "metadata": {},
   "outputs": [
    {
     "data": {
      "text/plain": [
       "LGBMClassifier(boosting_type='goss', class_weight=None,\n",
       "               colsample_bytree=0.8666666666666667, importance_type='split',\n",
       "               is_unbalance=True, learning_rate=0.15362344213545015,\n",
       "               max_depth=-1, min_child_samples=165, min_child_weight=0.001,\n",
       "               min_split_gain=0.0, n_estimators=100, n_jobs=-1, num_leaves=70,\n",
       "               objective=None, random_state=None, reg_alpha=0.3469387755102041,\n",
       "               reg_lambda=0.7551020408163265, silent=True,\n",
       "               subsample=0.8131313131313131, subsample_for_bin=20000,\n",
       "               subsample_freq=0)"
      ]
     },
     "execution_count": 117,
     "metadata": {},
     "output_type": "execute_result"
    }
   ],
   "source": [
    "model = Model.load('../models_pkl/experiment-1-model.pkl')\n",
    "model.model"
   ]
  },
  {
   "cell_type": "markdown",
   "metadata": {},
   "source": [
    "We can see that our best model performs worst than a random model when we have only 10% of our data (i.e AUC=0.5), however the performance comes better as the dataset size increase, it also suffers with high variance on validation score (such as linear models). The last two statements indicates that we may need more data. "
   ]
  },
  {
   "cell_type": "code",
   "execution_count": 101,
   "metadata": {},
   "outputs": [
    {
     "data": {
      "image/png": "[encoded data removed]",
      "text/plain": [
       "<Figure size 720x432 with 1 Axes>"
      ]
     },
     "metadata": {},
     "output_type": "display_data"
    }
   ],
   "source": [
    "plot_learning_curve(model.model, \n",
    "                    model.name.upper()+' Learning Curves',\n",
    "                    model.pipeline.fit_transform(X), y,\n",
    "                    cv=5, scoring=scorer)"
   ]
  },
  {
   "cell_type": "markdown",
   "metadata": {},
   "source": [
    "------------"
   ]
  },
  {
   "cell_type": "code",
   "execution_count": 160,
   "metadata": {},
   "outputs": [
    {
     "data": {
      "text/plain": [
       "315"
      ]
     },
     "execution_count": 160,
     "metadata": {},
     "output_type": "execute_result"
    }
   ],
   "source": [
    "y.sum()"
   ]
  },
  {
   "cell_type": "code",
   "execution_count": null,
   "metadata": {},
   "outputs": [],
   "source": [
    "#precisao da classe 1 baixa"
   ]
  },
  {
   "cell_type": "code",
   "execution_count": 149,
   "metadata": {},
   "outputs": [],
   "source": [
    "preds = cross_val_predict(model.get_model_pipeline(), X, y, cv=5)"
   ]
  },
  {
   "cell_type": "code",
   "execution_count": 150,
   "metadata": {},
   "outputs": [
    {
     "name": "stdout",
     "output_type": "stream",
     "text": [
      "              precision    recall  f1-score   support\n",
      "\n",
      "           0       0.91      0.71      0.80      1534\n",
      "           1       0.32      0.68      0.44       315\n",
      "\n",
      "    accuracy                           0.70      1849\n",
      "   macro avg       0.62      0.69      0.62      1849\n",
      "weighted avg       0.81      0.70      0.74      1849\n",
      "\n"
     ]
    },
    {
     "data": {
      "image/png": "[encoded data removed]",
      "text/plain": [
       "<Figure size 432x288 with 2 Axes>"
      ]
     },
     "metadata": {},
     "output_type": "display_data"
    }
   ],
   "source": [
    "plot_confusion_matrix(y, preds)"
   ]
  },
  {
   "cell_type": "code",
   "execution_count": 162,
   "metadata": {},
   "outputs": [
    {
     "name": "stdout",
     "output_type": "stream",
     "text": [
      "              precision    recall  f1-score   support\n",
      "\n",
      "           0       0.97      0.81      0.88       307\n",
      "           1       0.49      0.89      0.63        63\n",
      "\n",
      "    accuracy                           0.82       370\n",
      "   macro avg       0.73      0.85      0.76       370\n",
      "weighted avg       0.89      0.82      0.84       370\n",
      "\n"
     ]
    },
    {
     "data": {
      "image/png": "[encoded data removed]",
      "text/plain": [
       "<Figure size 432x288 with 2 Axes>"
      ]
     },
     "metadata": {},
     "output_type": "display_data"
    }
   ],
   "source": [
    "probs = model.model.predict_proba(model.pipeline.transform(X_test))\n",
    "preds = model.model.predict(model.pipeline.transform(X_test))\n",
    "plot_confusion_matrix(y_test, preds)"
   ]
  },
  {
   "cell_type": "code",
   "execution_count": 143,
   "metadata": {},
   "outputs": [],
   "source": [
    "_ = skplt.metrics.cumulative_gain_curve(y_test, probs)"
   ]
  },
  {
   "cell_type": "code",
   "execution_count": 106,
   "metadata": {},
   "outputs": [],
   "source": [
    "# Create a dataframe of probabilities and actual / predicted outcomes\n",
    "probs_df = pd.DataFrame(np.hstack([probs, y_test.values.reshape(-1,1), preds.reshape(-1,1)]), \n",
    "                        columns=['p_no', 'p_yes', 'actual', 'predicted'])\n",
    "\n",
    "\n",
    "# Sort customers by the probability that they will convert\n",
    "model_targets = probs_df.sort_values('p_yes', ascending=False)\n",
    "\n",
    "# Take the top 25%\n",
    "model_targets = model_targets.head(n_targeted_test)\n",
    "\n",
    "# Calculate financial outcomes\n",
    "model_outcomes = model_targets.actual.apply(lambda x: avg_cost if x == 0 else avg_cost + avg_revenue)"
   ]
  },
  {
   "cell_type": "code",
   "execution_count": 147,
   "metadata": {},
   "outputs": [
    {
     "name": "stdout",
     "output_type": "stream",
     "text": [
      "              precision    recall  f1-score   support\n",
      "\n",
      "         0.0       0.00      0.00      0.00        44\n",
      "         1.0       0.54      1.00      0.70        51\n",
      "\n",
      "    accuracy                           0.54        95\n",
      "   macro avg       0.27      0.50      0.35        95\n",
      "weighted avg       0.29      0.54      0.38        95\n",
      "\n"
     ]
    },
    {
     "data": {
      "image/png": "[encoded data removed]",
      "text/plain": [
       "<Figure size 432x288 with 2 Axes>"
      ]
     },
     "metadata": {},
     "output_type": "display_data"
    }
   ],
   "source": [
    "plot_confusion_matrix(model_targets.actual, model_targets.predicted)"
   ]
  },
  {
   "cell_type": "code",
   "execution_count": null,
   "metadata": {},
   "outputs": [],
   "source": [
    "#PDP SHAP"
   ]
  },
  {
   "cell_type": "code",
   "execution_count": 166,
   "metadata": {},
   "outputs": [
    {
     "data": {
      "text/plain": [
       "0.2"
      ]
     },
     "execution_count": 166,
     "metadata": {},
     "output_type": "execute_result"
    }
   ],
   "source": [
    "95/475"
   ]
  },
  {
   "cell_type": "code",
   "execution_count": 178,
   "metadata": {},
   "outputs": [
    {
     "data": {
      "text/html": [
       "<div>\n",
       "<style scoped>\n",
       "    .dataframe tbody tr th:only-of-type {\n",
       "        vertical-align: middle;\n",
       "    }\n",
       "\n",
       "    .dataframe tbody tr th {\n",
       "        vertical-align: top;\n",
       "    }\n",
       "\n",
       "    .dataframe thead th {\n",
       "        text-align: right;\n",
       "    }\n",
       "</style>\n",
       "<table border=\"1\" class=\"dataframe\">\n",
       "  <thead>\n",
       "    <tr style=\"text-align: right;\">\n",
       "      <th></th>\n",
       "      <th>p_no</th>\n",
       "      <th>p_yes</th>\n",
       "      <th>actual</th>\n",
       "      <th>predicted</th>\n",
       "    </tr>\n",
       "  </thead>\n",
       "  <tbody>\n",
       "    <tr>\n",
       "      <th>86</th>\n",
       "      <td>0.352536</td>\n",
       "      <td>0.647464</td>\n",
       "      <td>0.0</td>\n",
       "      <td>1.0</td>\n",
       "    </tr>\n",
       "    <tr>\n",
       "      <th>148</th>\n",
       "      <td>0.353767</td>\n",
       "      <td>0.646233</td>\n",
       "      <td>0.0</td>\n",
       "      <td>1.0</td>\n",
       "    </tr>\n",
       "    <tr>\n",
       "      <th>93</th>\n",
       "      <td>0.362164</td>\n",
       "      <td>0.637836</td>\n",
       "      <td>0.0</td>\n",
       "      <td>1.0</td>\n",
       "    </tr>\n",
       "    <tr>\n",
       "      <th>282</th>\n",
       "      <td>0.372531</td>\n",
       "      <td>0.627469</td>\n",
       "      <td>0.0</td>\n",
       "      <td>1.0</td>\n",
       "    </tr>\n",
       "    <tr>\n",
       "      <th>248</th>\n",
       "      <td>0.381985</td>\n",
       "      <td>0.618015</td>\n",
       "      <td>1.0</td>\n",
       "      <td>1.0</td>\n",
       "    </tr>\n",
       "    <tr>\n",
       "      <th>270</th>\n",
       "      <td>0.382470</td>\n",
       "      <td>0.617530</td>\n",
       "      <td>0.0</td>\n",
       "      <td>1.0</td>\n",
       "    </tr>\n",
       "    <tr>\n",
       "      <th>339</th>\n",
       "      <td>0.390917</td>\n",
       "      <td>0.609083</td>\n",
       "      <td>0.0</td>\n",
       "      <td>1.0</td>\n",
       "    </tr>\n",
       "    <tr>\n",
       "      <th>185</th>\n",
       "      <td>0.399240</td>\n",
       "      <td>0.600760</td>\n",
       "      <td>0.0</td>\n",
       "      <td>1.0</td>\n",
       "    </tr>\n",
       "    <tr>\n",
       "      <th>212</th>\n",
       "      <td>0.400262</td>\n",
       "      <td>0.599738</td>\n",
       "      <td>0.0</td>\n",
       "      <td>1.0</td>\n",
       "    </tr>\n",
       "    <tr>\n",
       "      <th>348</th>\n",
       "      <td>0.408327</td>\n",
       "      <td>0.591673</td>\n",
       "      <td>0.0</td>\n",
       "      <td>1.0</td>\n",
       "    </tr>\n",
       "  </tbody>\n",
       "</table>\n",
       "</div>"
      ],
      "text/plain": [
       "         p_no     p_yes  actual  predicted\n",
       "86   0.352536  0.647464     0.0        1.0\n",
       "148  0.353767  0.646233     0.0        1.0\n",
       "93   0.362164  0.637836     0.0        1.0\n",
       "282  0.372531  0.627469     0.0        1.0\n",
       "248  0.381985  0.618015     1.0        1.0\n",
       "270  0.382470  0.617530     0.0        1.0\n",
       "339  0.390917  0.609083     0.0        1.0\n",
       "185  0.399240  0.600760     0.0        1.0\n",
       "212  0.400262  0.599738     0.0        1.0\n",
       "348  0.408327  0.591673     0.0        1.0"
      ]
     },
     "execution_count": 178,
     "metadata": {},
     "output_type": "execute_result"
    }
   ],
   "source": [
    "model_targets.tail(10)"
   ]
  },
  {
   "cell_type": "code",
   "execution_count": 176,
   "metadata": {},
   "outputs": [
    {
     "data": {
      "text/plain": [
       "92.5"
      ]
     },
     "execution_count": 176,
     "metadata": {},
     "output_type": "execute_result"
    }
   ],
   "source": [
    "len(X_test)*0.25"
   ]
  },
  {
   "cell_type": "code",
   "execution_count": 175,
   "metadata": {},
   "outputs": [
    {
     "data": {
      "text/plain": [
       "0.2568956192536506"
      ]
     },
     "execution_count": 175,
     "metadata": {},
     "output_type": "execute_result"
    }
   ],
   "source": [
    "63/370\n",
    "\n",
    "475/1849"
   ]
  },
  {
   "cell_type": "code",
   "execution_count": 172,
   "metadata": {},
   "outputs": [
    {
     "data": {
      "text/plain": [
       "63"
      ]
     },
     "execution_count": 172,
     "metadata": {},
     "output_type": "execute_result"
    }
   ],
   "source": [
    "y_test.sum()"
   ]
  },
  {
   "cell_type": "markdown",
   "metadata": {},
   "source": [
    "### Financial Impact of the Best Model"
   ]
  },
  {
   "cell_type": "code",
   "execution_count": 108,
   "metadata": {},
   "outputs": [
    {
     "name": "stdout",
     "output_type": "stream",
     "text": [
      "Number of customers targeted: 95/370\n",
      "Conversion rate of model policy: 53.68%\n",
      "Expected profit of model policy: $50,050\n",
      "Lift over random: 4.5 or $39,000\n",
      "Lift over baseline: 2.2 or $27,000\n"
     ]
    }
   ],
   "source": [
    "# Calculate profit\n",
    "model_profit = sum(model_outcomes)\n",
    "\n",
    "print('Number of customers targeted: {:,}/{:,}'.format(len(model_targets), len(X_test)))\n",
    "print('Conversion rate of model policy: {:.2f}%'.format(model_targets.actual.sum() / len(model_outcomes)*100.))\n",
    "print('Expected profit of model policy: ${:,}'.format(model_profit))\n",
    "print('Lift over random: {:.1f} or ${:,}'.format(model_profit / random_profit, model_profit - random_profit))\n",
    "print('Lift over baseline: {:.1f} or ${:,}'.format(model_profit / baseline_profit, model_profit - baseline_profit))"
   ]
  },
  {
   "cell_type": "raw",
   "metadata": {},
   "source": [
    "<script>\n",
    "  jQuery(document).ready(function($) {\n",
    "\n",
    "  $(window).load(function(){\n",
    "    $('#preloader').fadeOut('slow',function(){$(this).remove();});\n",
    "  });\n",
    "\n",
    "  });\n",
    "</script>\n",
    "\n",
    "<style type=\"text/css\">\n",
    "  div#preloader { position: fixed;\n",
    "      left: 0;\n",
    "      top: 0;\n",
    "      z-index: 999;\n",
    "      width: 100%;\n",
    "      height: 100%;\n",
    "      overflow: visible;\n",
    "      background: #fff url('http://preloaders.net/preloaders/720/Moving%20line.gif') no-repeat center center;\n",
    "  }\n",
    "\n",
    "</style>\n",
    "\n",
    "<div id=\"preloader\"></div>"
   ]
  }
 ],
 "metadata": {
  "kernelspec": {
   "display_name": "Python 3",
   "language": "python",
   "name": "python3"
  },
  "language_info": {
   "codemirror_mode": {
    "name": "ipython",
    "version": 3
   },
   "file_extension": ".py",
   "mimetype": "text/x-python",
   "name": "python",
   "nbconvert_exporter": "python",
   "pygments_lexer": "ipython3",
   "version": "3.7.6"
  }
 },
 "nbformat": 4,
 "nbformat_minor": 4
}

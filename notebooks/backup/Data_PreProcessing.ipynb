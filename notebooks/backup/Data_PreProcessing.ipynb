{
 "cells": [
  {
   "cell_type": "raw",
   "metadata": {},
   "source": [
    "<script>\n",
    "  function code_toggle() {\n",
    "    if (code_shown){\n",
    "      $('div.input').hide('500');\n",
    "      $('#toggleButton').val('Show Code')\n",
    "    } else {\n",
    "      $('div.input').show('500');\n",
    "      $('#toggleButton').val('Hide Code')\n",
    "    }\n",
    "    code_shown = !code_shown\n",
    "  }\n",
    "\n",
    "  $( document ).ready(function(){\n",
    "    code_shown=false;\n",
    "    $('div.input').hide()\n",
    "  });\n",
    "</script>\n",
    "<form action=\"javascript:code_toggle()\"><input type=\"submit\" id=\"toggleButton\" value=\"Show Code\"></form>"
   ]
  },
  {
   "cell_type": "raw",
   "metadata": {},
   "source": [
    "<script>\n",
    "  $(document).ready(function(){\n",
    "    $('div.prompt').hide();\n",
    "    $('div.back-to-top').hide();\n",
    "    $('nav#menubar').hide();\n",
    "    $('.breadcrumb').hide();\n",
    "    $('.hidden-print').hide();\n",
    "  });\n",
    "</script>\n",
    "\n",
    "<footer id=\"attribution\" style=\"float:right; color:#999; background:#fff;\">\n",
    "Created with Jupyter, delivered by Fastly, rendered by Rackspace.\n",
    "</footer>"
   ]
  },
  {
   "cell_type": "markdown",
   "metadata": {},
   "source": [
    "# Data Pre Processing"
   ]
  },
  {
   "cell_type": "code",
   "execution_count": 249,
   "metadata": {},
   "outputs": [
    {
     "name": "stdout",
     "output_type": "stream",
     "text": [
      "The autoreload extension is already loaded. To reload it, use:\n",
      "  %reload_ext autoreload\n"
     ]
    }
   ],
   "source": [
    "%load_ext autoreload\n",
    "%autoreload 2\n",
    "\n",
    "from utils import code\n",
    "from adjust_datatype import urlify, int_to_float, pct_to_numeric\n",
    "from adjust_datatype import string_to_numeric, string_to_datetime, currency_to_numeric\n",
    "from plot_libraries import setup_graphics"
   ]
  },
  {
   "cell_type": "code",
   "execution_count": 250,
   "metadata": {},
   "outputs": [],
   "source": [
    "# load libraries and set plot parameters\n",
    "import os, random, re, sys, time, warnings\n",
    "import math\n",
    "import numpy as np\n",
    "import pandas as pd\n",
    "import pandas_profiling\n",
    "import matplotlib.pyplot as plt\n",
    "import seaborn as sns\n",
    "from datetime import datetime\n",
    "\n",
    "%matplotlib inline\n",
    "sns.set()\n",
    "pd.options.display.max_columns = None\n",
    "setup_graphics()"
   ]
  },
  {
   "cell_type": "markdown",
   "metadata": {},
   "source": [
    "##### Columns Description"
   ]
  },
  {
   "cell_type": "markdown",
   "metadata": {},
   "source": [
    "### Upload Dataset"
   ]
  },
  {
   "cell_type": "code",
   "execution_count": 251,
   "metadata": {},
   "outputs": [
    {
     "data": {
      "text/plain": [
       "(17553, 38)"
      ]
     },
     "execution_count": 251,
     "metadata": {},
     "output_type": "execute_result"
    }
   ],
   "source": [
    "dataset = pd.read_csv('../data/dataset_csv.csv', delimiter=';', low_memory=False)\n",
    "dataset.shape"
   ]
  },
  {
   "cell_type": "code",
   "execution_count": 252,
   "metadata": {},
   "outputs": [
    {
     "data": {
      "text/html": [
       "<div>\n",
       "<style scoped>\n",
       "    .dataframe tbody tr th:only-of-type {\n",
       "        vertical-align: middle;\n",
       "    }\n",
       "\n",
       "    .dataframe tbody tr th {\n",
       "        vertical-align: top;\n",
       "    }\n",
       "\n",
       "    .dataframe thead th {\n",
       "        text-align: right;\n",
       "    }\n",
       "</style>\n",
       "<table border=\"1\" class=\"dataframe\">\n",
       "  <thead>\n",
       "    <tr style=\"text-align: right;\">\n",
       "      <th></th>\n",
       "      <th>Account ID</th>\n",
       "      <th>Number Of Opportunities</th>\n",
       "      <th>Nb Won Opp</th>\n",
       "      <th>Number of Open Opportunities</th>\n",
       "      <th>LastModifiedOpportunitiesDate</th>\n",
       "      <th>Last Activity</th>\n",
       "      <th>Last Lead Activity</th>\n",
       "      <th>Activities Last 30 Days</th>\n",
       "      <th>Employees</th>\n",
       "      <th>ZoomInfo Employee Range</th>\n",
       "      <th>ZoomInfo Revenue Range</th>\n",
       "      <th>Annual Revenue</th>\n",
       "      <th>Organic Visits</th>\n",
       "      <th>Pct Organic Visits</th>\n",
       "      <th>SEO team in the enterprise organization?</th>\n",
       "      <th>SEO Visits</th>\n",
       "      <th>Combined Pages</th>\n",
       "      <th>URLs Indexed</th>\n",
       "      <th>ZoomInfo Global HQ Country</th>\n",
       "      <th>Account Status</th>\n",
       "      <th>Active Service Package</th>\n",
       "      <th>Annual Revenue (converted)</th>\n",
       "      <th>Billing Country (text only)</th>\n",
       "      <th>Commited MRR - Today (converted)</th>\n",
       "      <th>Industry</th>\n",
       "      <th>Adjusted Industry</th>\n",
       "      <th>NbUsers</th>\n",
       "      <th>NbProjects</th>\n",
       "      <th>NbSessions</th>\n",
       "      <th>Net Promoter Score</th>\n",
       "      <th>Account ICP Score</th>\n",
       "      <th>Account ICP Tier</th>\n",
       "      <th>ICP TIER - HS</th>\n",
       "      <th>Page Count</th>\n",
       "      <th>Page Count - Range</th>\n",
       "      <th>Alexa Rank</th>\n",
       "      <th>Became a Customer date</th>\n",
       "      <th>Parent Account Status</th>\n",
       "    </tr>\n",
       "  </thead>\n",
       "  <tbody>\n",
       "    <tr>\n",
       "      <th>0</th>\n",
       "      <td>0012400000L5cmZ</td>\n",
       "      <td>7</td>\n",
       "      <td>1</td>\n",
       "      <td>1</td>\n",
       "      <td>2/14/2020 3:00 PM</td>\n",
       "      <td>11/12/2019</td>\n",
       "      <td>10/2/2019</td>\n",
       "      <td>0</td>\n",
       "      <td>10</td>\n",
       "      <td>-</td>\n",
       "      <td>-</td>\n",
       "      <td>EUR 3,000,000.0</td>\n",
       "      <td>61,688,430</td>\n",
       "      <td>34.00%</td>\n",
       "      <td>-</td>\n",
       "      <td>61,688,430</td>\n",
       "      <td>0</td>\n",
       "      <td>27,700,000</td>\n",
       "      <td>-</td>\n",
       "      <td>Lost Customer</td>\n",
       "      <td>No Service Package</td>\n",
       "      <td>USD 3,333,900.00</td>\n",
       "      <td>Turkey</td>\n",
       "      <td>USD 0.00</td>\n",
       "      <td>Internet Software &amp; Services</td>\n",
       "      <td>Retail</td>\n",
       "      <td>2</td>\n",
       "      <td>9</td>\n",
       "      <td>9</td>\n",
       "      <td>-</td>\n",
       "      <td>91.667</td>\n",
       "      <td>Tier A</td>\n",
       "      <td>Tier A</td>\n",
       "      <td>27,700,000</td>\n",
       "      <td>&gt;1M</td>\n",
       "      <td>331</td>\n",
       "      <td>2/12/2020</td>\n",
       "      <td>-</td>\n",
       "    </tr>\n",
       "    <tr>\n",
       "      <th>1</th>\n",
       "      <td>0011p00001Sgf9s</td>\n",
       "      <td>0</td>\n",
       "      <td>0</td>\n",
       "      <td>0</td>\n",
       "      <td>-</td>\n",
       "      <td>-</td>\n",
       "      <td>-</td>\n",
       "      <td>0</td>\n",
       "      <td>2,940</td>\n",
       "      <td>1,000 - 5,000</td>\n",
       "      <td>-</td>\n",
       "      <td>GBP 1,000,000,000.00</td>\n",
       "      <td>-</td>\n",
       "      <td>-</td>\n",
       "      <td>-</td>\n",
       "      <td>0</td>\n",
       "      <td>2,670,000</td>\n",
       "      <td>-</td>\n",
       "      <td>United States</td>\n",
       "      <td>Prospect</td>\n",
       "      <td>No Service Package</td>\n",
       "      <td>USD 1,311,577,953.50</td>\n",
       "      <td>United States</td>\n",
       "      <td>USD 0.00</td>\n",
       "      <td>PUBLISHING</td>\n",
       "      <td>Publisher</td>\n",
       "      <td>-</td>\n",
       "      <td>-</td>\n",
       "      <td>-</td>\n",
       "      <td>-</td>\n",
       "      <td>41.667</td>\n",
       "      <td>Tier A</td>\n",
       "      <td>Tier C - Incomplete</td>\n",
       "      <td>-</td>\n",
       "      <td>-</td>\n",
       "      <td>511</td>\n",
       "      <td>-</td>\n",
       "      <td>-</td>\n",
       "    </tr>\n",
       "    <tr>\n",
       "      <th>2</th>\n",
       "      <td>00124000004sEH5</td>\n",
       "      <td>11</td>\n",
       "      <td>8</td>\n",
       "      <td>1</td>\n",
       "      <td>2/14/2020 1:02 PM</td>\n",
       "      <td>2/14/2020</td>\n",
       "      <td>-</td>\n",
       "      <td>51</td>\n",
       "      <td>10,000</td>\n",
       "      <td>-</td>\n",
       "      <td>-</td>\n",
       "      <td>EUR 12,000,000,000.0</td>\n",
       "      <td>19,397,082</td>\n",
       "      <td>93.00%</td>\n",
       "      <td>-</td>\n",
       "      <td>28,615,923</td>\n",
       "      <td>206,300</td>\n",
       "      <td>76,200</td>\n",
       "      <td>-</td>\n",
       "      <td>Active Customer</td>\n",
       "      <td>Service Package Custom</td>\n",
       "      <td>USD 13,335,600,000.00</td>\n",
       "      <td>France</td>\n",
       "      <td>USD 1,000.17</td>\n",
       "      <td>Retailing</td>\n",
       "      <td>Retail</td>\n",
       "      <td>7</td>\n",
       "      <td>7</td>\n",
       "      <td>4</td>\n",
       "      <td>8</td>\n",
       "      <td>100</td>\n",
       "      <td>Tier A</td>\n",
       "      <td>Tier A</td>\n",
       "      <td>206,300</td>\n",
       "      <td>Between 100K and 250K</td>\n",
       "      <td>8,881</td>\n",
       "      <td>2/3/2020</td>\n",
       "      <td>Prospect</td>\n",
       "    </tr>\n",
       "    <tr>\n",
       "      <th>3</th>\n",
       "      <td>00124000015MJ24</td>\n",
       "      <td>0</td>\n",
       "      <td>0</td>\n",
       "      <td>0</td>\n",
       "      <td>-</td>\n",
       "      <td>-</td>\n",
       "      <td>-</td>\n",
       "      <td>0</td>\n",
       "      <td>10,000</td>\n",
       "      <td>-</td>\n",
       "      <td>-</td>\n",
       "      <td>EUR 1,000,000,000.0</td>\n",
       "      <td>31,310,211</td>\n",
       "      <td>66.00%</td>\n",
       "      <td>-</td>\n",
       "      <td>31,310,211</td>\n",
       "      <td>1,570,000</td>\n",
       "      <td>1,570,000</td>\n",
       "      <td>-</td>\n",
       "      <td>Prospect</td>\n",
       "      <td>No Service Package</td>\n",
       "      <td>USD 1,111,300,000.00</td>\n",
       "      <td>India</td>\n",
       "      <td>USD 0.00</td>\n",
       "      <td>Media</td>\n",
       "      <td>Media</td>\n",
       "      <td>-</td>\n",
       "      <td>-</td>\n",
       "      <td>-</td>\n",
       "      <td>-</td>\n",
       "      <td>100</td>\n",
       "      <td>Tier A</td>\n",
       "      <td>Tier A</td>\n",
       "      <td>1,570,000</td>\n",
       "      <td>&gt;1M</td>\n",
       "      <td>904</td>\n",
       "      <td>-</td>\n",
       "      <td>Prospect</td>\n",
       "    </tr>\n",
       "    <tr>\n",
       "      <th>4</th>\n",
       "      <td>0011p00002dLLfO</td>\n",
       "      <td>0</td>\n",
       "      <td>0</td>\n",
       "      <td>0</td>\n",
       "      <td>-</td>\n",
       "      <td>1/13/2020</td>\n",
       "      <td>-</td>\n",
       "      <td>0</td>\n",
       "      <td>10,000</td>\n",
       "      <td>Over 10,000</td>\n",
       "      <td>Over $5 bil.</td>\n",
       "      <td>USD 1,000,000,000.00</td>\n",
       "      <td>-</td>\n",
       "      <td>-</td>\n",
       "      <td>-</td>\n",
       "      <td>0</td>\n",
       "      <td>0</td>\n",
       "      <td>-</td>\n",
       "      <td>United States</td>\n",
       "      <td>Partner</td>\n",
       "      <td>No Service Package</td>\n",
       "      <td>USD 1,000,000,000.00</td>\n",
       "      <td>United States</td>\n",
       "      <td>USD 0.00</td>\n",
       "      <td>Computer Software</td>\n",
       "      <td>-</td>\n",
       "      <td>-</td>\n",
       "      <td>-</td>\n",
       "      <td>-</td>\n",
       "      <td>-</td>\n",
       "      <td>20.833</td>\n",
       "      <td>Tier A</td>\n",
       "      <td>Tier D - Incomplete</td>\n",
       "      <td>-</td>\n",
       "      <td>-</td>\n",
       "      <td>1,000,001</td>\n",
       "      <td>-</td>\n",
       "      <td>Prospect</td>\n",
       "    </tr>\n",
       "  </tbody>\n",
       "</table>\n",
       "</div>"
      ],
      "text/plain": [
       "        Account ID  Number Of Opportunities  Nb Won Opp  \\\n",
       "0  0012400000L5cmZ                        7           1   \n",
       "1  0011p00001Sgf9s                        0           0   \n",
       "2  00124000004sEH5                       11           8   \n",
       "3  00124000015MJ24                        0           0   \n",
       "4  0011p00002dLLfO                        0           0   \n",
       "\n",
       "   Number of Open Opportunities LastModifiedOpportunitiesDate Last Activity  \\\n",
       "0                             1             2/14/2020 3:00 PM    11/12/2019   \n",
       "1                             0                             -             -   \n",
       "2                             1             2/14/2020 1:02 PM     2/14/2020   \n",
       "3                             0                             -             -   \n",
       "4                             0                             -     1/13/2020   \n",
       "\n",
       "  Last Lead Activity Activities Last 30 Days Employees  \\\n",
       "0          10/2/2019                       0        10   \n",
       "1                  -                       0     2,940   \n",
       "2                  -                      51    10,000   \n",
       "3                  -                       0    10,000   \n",
       "4                  -                       0    10,000   \n",
       "\n",
       "  ZoomInfo Employee Range ZoomInfo Revenue Range        Annual Revenue  \\\n",
       "0                       -                      -       EUR 3,000,000.0   \n",
       "1           1,000 - 5,000                      -  GBP 1,000,000,000.00   \n",
       "2                       -                      -  EUR 12,000,000,000.0   \n",
       "3                       -                      -   EUR 1,000,000,000.0   \n",
       "4             Over 10,000           Over $5 bil.  USD 1,000,000,000.00   \n",
       "\n",
       "  Organic Visits Pct Organic Visits SEO team in the enterprise organization?  \\\n",
       "0     61,688,430             34.00%                                        -   \n",
       "1              -                  -                                        -   \n",
       "2     19,397,082             93.00%                                        -   \n",
       "3     31,310,211             66.00%                                        -   \n",
       "4              -                  -                                        -   \n",
       "\n",
       "   SEO Visits Combined Pages URLs Indexed ZoomInfo Global HQ Country  \\\n",
       "0  61,688,430              0   27,700,000                          -   \n",
       "1           0      2,670,000            -              United States   \n",
       "2  28,615,923        206,300       76,200                          -   \n",
       "3  31,310,211      1,570,000    1,570,000                          -   \n",
       "4           0              0            -              United States   \n",
       "\n",
       "    Account Status  Active Service Package Annual Revenue (converted)  \\\n",
       "0    Lost Customer      No Service Package           USD 3,333,900.00   \n",
       "1         Prospect      No Service Package       USD 1,311,577,953.50   \n",
       "2  Active Customer  Service Package Custom      USD 13,335,600,000.00   \n",
       "3         Prospect      No Service Package       USD 1,111,300,000.00   \n",
       "4          Partner      No Service Package       USD 1,000,000,000.00   \n",
       "\n",
       "  Billing Country (text only) Commited MRR - Today (converted)  \\\n",
       "0                      Turkey                         USD 0.00   \n",
       "1               United States                         USD 0.00   \n",
       "2                      France                     USD 1,000.17   \n",
       "3                       India                         USD 0.00   \n",
       "4               United States                         USD 0.00   \n",
       "\n",
       "                       Industry Adjusted Industry NbUsers NbProjects  \\\n",
       "0  Internet Software & Services            Retail       2          9   \n",
       "1                    PUBLISHING         Publisher       -          -   \n",
       "2                     Retailing            Retail       7          7   \n",
       "3                         Media             Media       -          -   \n",
       "4             Computer Software                 -       -          -   \n",
       "\n",
       "  NbSessions Net Promoter Score Account ICP Score Account ICP Tier  \\\n",
       "0          9                  -            91.667           Tier A   \n",
       "1          -                  -            41.667           Tier A   \n",
       "2          4                  8               100           Tier A   \n",
       "3          -                  -               100           Tier A   \n",
       "4          -                  -            20.833           Tier A   \n",
       "\n",
       "         ICP TIER - HS  Page Count     Page Count - Range Alexa Rank  \\\n",
       "0               Tier A  27,700,000                    >1M        331   \n",
       "1  Tier C - Incomplete           -                      -        511   \n",
       "2               Tier A     206,300  Between 100K and 250K      8,881   \n",
       "3               Tier A   1,570,000                    >1M        904   \n",
       "4  Tier D - Incomplete           -                      -  1,000,001   \n",
       "\n",
       "  Became a Customer date Parent Account Status  \n",
       "0              2/12/2020                     -  \n",
       "1                      -                     -  \n",
       "2               2/3/2020              Prospect  \n",
       "3                      -              Prospect  \n",
       "4                      -              Prospect  "
      ]
     },
     "execution_count": 252,
     "metadata": {},
     "output_type": "execute_result"
    }
   ],
   "source": [
    "dataset.head()"
   ]
  },
  {
   "cell_type": "markdown",
   "metadata": {},
   "source": [
    "##### Fix column names with whitespaces to underscores"
   ]
  },
  {
   "cell_type": "code",
   "execution_count": 253,
   "metadata": {},
   "outputs": [],
   "source": [
    "dataset.rename(urlify, axis='columns', inplace=True)"
   ]
  },
  {
   "cell_type": "markdown",
   "metadata": {},
   "source": [
    "##### Fix column types"
   ]
  },
  {
   "cell_type": "code",
   "execution_count": 254,
   "metadata": {},
   "outputs": [
    {
     "data": {
      "text/plain": [
       "Account_ID                                 object\n",
       "Number_Of_Opportunities                     int64\n",
       "Nb_Won_Opp                                  int64\n",
       "Number_of_Open_Opportunities                int64\n",
       "LastModifiedOpportunitiesDate              object\n",
       "Last_Activity                              object\n",
       "Last_Lead_Activity                         object\n",
       "Activities_Last_30_Days                    object\n",
       "Employees                                  object\n",
       "ZoomInfo_Employee_Range                    object\n",
       "ZoomInfo_Revenue_Range                     object\n",
       "Annual_Revenue                             object\n",
       "Organic_Visits                             object\n",
       "Pct_Organic_Visits                         object\n",
       "SEO_team_in_the_enterprise_organization    object\n",
       "SEO_Visits                                 object\n",
       "Combined_Pages                             object\n",
       "URLs_Indexed                               object\n",
       "ZoomInfo_Global_HQ_Country                 object\n",
       "Account_Status                             object\n",
       "Active_Service_Package                     object\n",
       "Annual_Revenue_converted                   object\n",
       "Billing_Country_text_only                  object\n",
       "Commited_MRR_Today_converted               object\n",
       "Industry                                   object\n",
       "Adjusted_Industry                          object\n",
       "NbUsers                                    object\n",
       "NbProjects                                 object\n",
       "NbSessions                                 object\n",
       "Net_Promoter_Score                         object\n",
       "Account_ICP_Score                          object\n",
       "Account_ICP_Tier                           object\n",
       "ICP_TIER_HS                                object\n",
       "Page_Count                                 object\n",
       "Page_Count_Range                           object\n",
       "Alexa_Rank                                 object\n",
       "Became_a_Customer_date                     object\n",
       "Parent_Account_Status                      object\n",
       "dtype: object"
      ]
     },
     "execution_count": 254,
     "metadata": {},
     "output_type": "execute_result"
    }
   ],
   "source": [
    "dataset.dtypes"
   ]
  },
  {
   "cell_type": "markdown",
   "metadata": {},
   "source": [
    "##### Fix datatypes to numeric"
   ]
  },
  {
   "cell_type": "code",
   "execution_count": 255,
   "metadata": {},
   "outputs": [],
   "source": [
    "dataset = int_to_float(dataset)"
   ]
  },
  {
   "cell_type": "code",
   "execution_count": 256,
   "metadata": {},
   "outputs": [],
   "source": [
    "dataset['Pct_Organic_Visits']  = pct_to_numeric(dataset, 'Pct_Organic_Visits')"
   ]
  },
  {
   "cell_type": "code",
   "execution_count": 257,
   "metadata": {},
   "outputs": [],
   "source": [
    "numeric_cols =['Activities_Last_30_Days', 'Employees', \n",
    "               'Organic_Visits', 'SEO_Visits', 'Combined_Pages',\n",
    "               'URLs_Indexed', 'NbProjects', \n",
    "               'NbUsers', 'NbSessions', 'Net_Promoter_Score', \n",
    "               'Account_ICP_Score', 'Page_Count', 'Alexa_Rank']"
   ]
  },
  {
   "cell_type": "code",
   "execution_count": 258,
   "metadata": {},
   "outputs": [],
   "source": [
    "for col in numeric_cols:\n",
    "    dataset[col] = string_to_numeric(dataset, col)"
   ]
  },
  {
   "cell_type": "code",
   "execution_count": 259,
   "metadata": {},
   "outputs": [],
   "source": [
    "datetime_cols = ['LastModifiedOpportunitiesDate', 'Last_Activity',\n",
    "                  'Last_Lead_Activity', 'Became_a_Customer_date' ]"
   ]
  },
  {
   "cell_type": "code",
   "execution_count": 260,
   "metadata": {},
   "outputs": [],
   "source": [
    "for col in datetime_cols:\n",
    "    dataset[col] = string_to_datetime(dataset, col)"
   ]
  },
  {
   "cell_type": "code",
   "execution_count": 261,
   "metadata": {},
   "outputs": [],
   "source": [
    "currency_cols = ['Commited_MRR_Today_converted', 'Annual_Revenue_converted']\n",
    "for col in currency_cols:\n",
    "    dataset[col] = currency_to_numeric(dataset, col)"
   ]
  },
  {
   "cell_type": "markdown",
   "metadata": {},
   "source": [
    "### Target Columns\n",
    "\n",
    "Our task is to predict if the lead will convert at next try"
   ]
  },
  {
   "cell_type": "code",
   "execution_count": 264,
   "metadata": {},
   "outputs": [],
   "source": [
    "dataset = dataset[dataset['Account_Status'] != 'Partner'].copy()"
   ]
  },
  {
   "cell_type": "code",
   "execution_count": 265,
   "metadata": {},
   "outputs": [],
   "source": [
    "def target(status, n_try):\n",
    "    if status == 'Active Customer': return 'yes'     \n",
    "    elif status == 'Lost Customer': return 'no'       \n",
    "    elif (status == 'Prospect') & (n_try >0): return 'no'  \n",
    "    else: return 'prospect'"
   ]
  },
  {
   "cell_type": "code",
   "execution_count": 266,
   "metadata": {},
   "outputs": [],
   "source": [
    "dataset['Convert_Next_Contact'] = dataset.apply(lambda x: target(x['Account_Status'],x['Number_Of_Opportunities']),axis=1)"
   ]
  },
  {
   "cell_type": "markdown",
   "metadata": {},
   "source": [
    "At this time some columns does not have any predictive value, specially beacuse they are generated after the deal."
   ]
  },
  {
   "cell_type": "code",
   "execution_count": 267,
   "metadata": {},
   "outputs": [
    {
     "data": {
      "text/plain": [
       "Number_Of_Opportunities         1\n",
       "Nb_Won_Opp                      1\n",
       "Number_of_Open_Opportunities    1\n",
       "Account_Status                  1\n",
       "Active_Service_Package          1\n",
       "Commited_MRR_Today_converted    1\n",
       "Convert_Next_Contact            1\n",
       "dtype: int64"
      ]
     },
     "execution_count": 267,
     "metadata": {},
     "output_type": "execute_result"
    }
   ],
   "source": [
    "uniques = dataset[dataset.Convert_Next_Contact == 'prospect'].nunique()\n",
    "uniques[uniques==1]"
   ]
  },
  {
   "cell_type": "markdown",
   "metadata": {},
   "source": [
    " We have to drop them (except our target variable)"
   ]
  },
  {
   "cell_type": "code",
   "execution_count": 268,
   "metadata": {},
   "outputs": [],
   "source": [
    "drop_uniques = uniques[uniques==1][:-1].index"
   ]
  },
  {
   "cell_type": "code",
   "execution_count": 269,
   "metadata": {},
   "outputs": [],
   "source": [
    "dataset.drop(columns=drop_uniques, inplace=True)"
   ]
  },
  {
   "cell_type": "markdown",
   "metadata": {},
   "source": [
    "### Fix Critic Errors"
   ]
  },
  {
   "cell_type": "markdown",
   "metadata": {},
   "source": [
    "##### We must drop some columns with critical problems such as:\n",
    "* `SEO_team_in_the_enterprise_organization:` Only 7 rows filled "
   ]
  },
  {
   "cell_type": "code",
   "execution_count": 278,
   "metadata": {},
   "outputs": [
    {
     "data": {
      "text/plain": [
       "-                                 14647\n",
       "Under marketing                       4\n",
       "Under the website product team        3\n",
       "Name: SEO_team_in_the_enterprise_organization, dtype: int64"
      ]
     },
     "execution_count": 278,
     "metadata": {},
     "output_type": "execute_result"
    }
   ],
   "source": [
    "dataset.SEO_team_in_the_enterprise_organization.value_counts()"
   ]
  },
  {
   "cell_type": "code",
   "execution_count": 279,
   "metadata": {},
   "outputs": [],
   "source": [
    "dataset.drop(columns=['SEO_team_in_the_enterprise_organization'], inplace=True)"
   ]
  },
  {
   "cell_type": "markdown",
   "metadata": {},
   "source": [
    "##### Some rows are highly empty, most of them are tagged as 'Incomplete' (+-20%), in the `Account_ICP_Tier` column. Let's remove them."
   ]
  },
  {
   "cell_type": "code",
   "execution_count": 276,
   "metadata": {},
   "outputs": [],
   "source": [
    "dataset = dataset[dataset['Account_ICP_Tier'] != 'Incomplete'].copy()"
   ]
  },
  {
   "cell_type": "markdown",
   "metadata": {},
   "source": [
    "### Split Dataset"
   ]
  },
  {
   "cell_type": "code",
   "execution_count": 280,
   "metadata": {},
   "outputs": [],
   "source": [
    "trainDF = dataset[dataset['y'].isin(['yes' , 'no'])].copy()"
   ]
  },
  {
   "cell_type": "code",
   "execution_count": 281,
   "metadata": {},
   "outputs": [],
   "source": [
    "PredDF = dataset[dataset['y'] == 'prospect'].copy()"
   ]
  },
  {
   "cell_type": "code",
   "execution_count": 282,
   "metadata": {},
   "outputs": [],
   "source": [
    "trainDF.to_csv(r'/Users/nicholasrichers/Documents/GitHub/b2b_sales_project/data/trainDF.csv', header=True)"
   ]
  },
  {
   "cell_type": "code",
   "execution_count": 283,
   "metadata": {},
   "outputs": [],
   "source": [
    "PredDF.to_csv(r'/Users/nicholasrichers/Documents/GitHub/b2b_sales_project/data/PredDF.csv', header=True)"
   ]
  },
  {
   "cell_type": "code",
   "execution_count": 285,
   "metadata": {},
   "outputs": [
    {
     "data": {
      "text/plain": [
       "(1849, 32)"
      ]
     },
     "execution_count": 285,
     "metadata": {},
     "output_type": "execute_result"
    }
   ],
   "source": [
    "trainDF.shape"
   ]
  },
  {
   "cell_type": "markdown",
   "metadata": {},
   "source": [
    "# Exploratory Data Analisys"
   ]
  },
  {
   "cell_type": "code",
   "execution_count": null,
   "metadata": {},
   "outputs": [],
   "source": [
    "X, y = get_data('../data/train.csv')\n",
    "X.head()"
   ]
  },
  {
   "cell_type": "code",
   "execution_count": null,
   "metadata": {},
   "outputs": [],
   "source": []
  },
  {
   "cell_type": "code",
   "execution_count": null,
   "metadata": {},
   "outputs": [],
   "source": [
    "dtypes = pd.DataFrame(dataset.dtypes.rename('type')).reset_index().astype('str')\n",
    "numeric = dtypes[(dtypes.type.isin(['int64', 'float64']))]['index'].values\n",
    "categorical = dtypes[~(dtypes['index'].isin(numeric))]['index'].values"
   ]
  },
  {
   "cell_type": "markdown",
   "metadata": {},
   "source": [
    "##### Drop Columns\n",
    "* `Account_ID`: Index Column\n",
    "* `LastModifiedOpportunitiesDate:` Similar to 'Activities_Last_30_Days'\n",
    "* `Last_Activity:` Similar to 'Activities_Last_30_Days'\n",
    "* `Last_Lead_Activity:` Similar to 'Activities_Last_30_Days'\n",
    "* `ZoomInfo_Employee_Range:` Similar to 'Activities_Last_30_Days'\n",
    "* `ZoomInfo_Revenue_Range:` Similar to 'Annual_Revenue_converted'\n",
    "* `Annual_Revenue:` Similar to 'Annual_Revenue_converted'\n",
    "* `ZoomInfo_Global_HQ_Country:` Categorical (+100 distinct)\n",
    "* `Billing_Country_text_only:`  Categorical (+100 distinct)\n",
    "* `Industry:` Categorical (+100 distinct)\n",
    "* `Page_Count_Range:` Similar to 'Page_Count'\n",
    "* `SEO_team_in_the_enterprise_organization:` Only 7 rows filled \n",
    "\n",
    "* `Account_ICP_Tier:` Similar to 'Account_ICP_Score'\n",
    "* `ICP_TIER_HS:` Similar to 'Account_ICP_Score'\n",
    "* `URLs_Indexed:` High Correlated to 'Page_count'\n",
    "\n",
    "\n"
   ]
  },
  {
   "cell_type": "code",
   "execution_count": null,
   "metadata": {},
   "outputs": [],
   "source": [
    "dataset.set_index(['Account_ID'], inplace=True)"
   ]
  },
  {
   "cell_type": "code",
   "execution_count": null,
   "metadata": {},
   "outputs": [],
   "source": [
    "drop_columns = ['LastModifiedOpportunitiesDate', 'Last_Activity',\n",
    "                'Last_Lead_Activity', 'URLs_Indexed',\n",
    "                'ZoomInfo_Employee_Range', 'ZoomInfo_Revenue_Range',\n",
    "                'ZoomInfo_Global_HQ_Country', 'Annual_Revenue',\n",
    "                'Billing_Country_text_only', 'Industry', 'Page_Count_Range',\n",
    "                'SEO_team_in_the_enterprise_organization',\n",
    "                'Account_ICP_Tier', 'ICP_TIER_HS' ]"
   ]
  },
  {
   "cell_type": "code",
   "execution_count": null,
   "metadata": {},
   "outputs": [],
   "source": [
    "dataset.drop(columns=drop_columns, inplace=True)"
   ]
  },
  {
   "cell_type": "code",
   "execution_count": null,
   "metadata": {},
   "outputs": [],
   "source": [
    "dataset.drop(columns=leaky_variables, inplace=True)"
   ]
  },
  {
   "cell_type": "markdown",
   "metadata": {},
   "source": [
    "##### Adjusted industry column"
   ]
  },
  {
   "cell_type": "code",
   "execution_count": null,
   "metadata": {},
   "outputs": [],
   "source": [
    "dataset['Adjusted_Industry'].value_counts()"
   ]
  },
  {
   "cell_type": "code",
   "execution_count": null,
   "metadata": {},
   "outputs": [],
   "source": [
    "for val in ['Publisher', '-', 'Other', 'Botify Ltd.']:\n",
    "    dataset['Adjusted_Industry'].mask(dataset['Adjusted_Industry'] == val, 'Other', inplace=True)"
   ]
  },
  {
   "cell_type": "markdown",
   "metadata": {},
   "source": [
    "### Missing Values"
   ]
  },
  {
   "cell_type": "code",
   "execution_count": null,
   "metadata": {},
   "outputs": [],
   "source": [
    "nan_mean = dataset.isna().mean()\n",
    "nan_mean = nan_mean[nan_mean != 0].sort_values()\n",
    "nan_mean"
   ]
  },
  {
   "cell_type": "markdown",
   "metadata": {},
   "source": [
    "##### Fill NA Methods\n",
    "* **Alexa_Rank:** MAX\n",
    "* **Account_ICP_Score:** MEDIAN (industry)\n",
    "* **Employees:** MEDIAN (industry)\n",
    "* **Annual_Revenue_converted:** MEDIAN (industry)\n",
    "* **Organic_Visits:** MIN\n",
    "* **Page_Count:** MIN\n",
    "* **Pct_Organic_Visits:**  MIN\n",
    "* **Combined_Pages:** DROP"
   ]
  },
  {
   "cell_type": "code",
   "execution_count": null,
   "metadata": {},
   "outputs": [],
   "source": [
    "fill_max = ['Alexa_Rank' ]\n",
    "fill_min = ['Organic_Visits', 'Page_Count', 'Pct_Organic_Visits']\n",
    "fill_median = ['Account_ICP_Score', 'Employees', 'Annual_Revenue_converted' ]\n",
    "drop_missing_values = ['Combined_Pages']"
   ]
  },
  {
   "cell_type": "code",
   "execution_count": null,
   "metadata": {},
   "outputs": [],
   "source": [
    "dataset[fill_max] = dataset[fill_max].fillna(dataset[fill_max].max())\n",
    "dataset[fill_min] = dataset[fill_min].fillna(dataset[fill_min].min())\n",
    "dataset.drop(columns=drop_missing_values, inplace=True)"
   ]
  },
  {
   "cell_type": "code",
   "execution_count": null,
   "metadata": {},
   "outputs": [],
   "source": [
    "values_dict = dataset.groupby(['Adjusted_Industry'])[fill_median].median().to_dict()\n",
    "for col in fill_median:\n",
    "    dataset[col] = dataset[col].fillna(dataset['Adjusted_Industry'].map(values_dict[col]))"
   ]
  },
  {
   "cell_type": "markdown",
   "metadata": {},
   "source": [
    "### Correlated Columns\n",
    "\n",
    "* **Organic_Visits** & **SEO_Visits** are considered high correlated, I will drop **Organic_Visits**"
   ]
  },
  {
   "cell_type": "code",
   "execution_count": null,
   "metadata": {},
   "outputs": [],
   "source": [
    "#dataset.profile_report()"
   ]
  },
  {
   "cell_type": "code",
   "execution_count": null,
   "metadata": {},
   "outputs": [],
   "source": [
    "dataset.drop(columns=['Organic_Visits'], inplace=True)"
   ]
  },
  {
   "cell_type": "markdown",
   "metadata": {},
   "source": [
    "### Final Version"
   ]
  },
  {
   "cell_type": "code",
   "execution_count": null,
   "metadata": {},
   "outputs": [],
   "source": [
    "dataset.head()"
   ]
  },
  {
   "cell_type": "code",
   "execution_count": null,
   "metadata": {},
   "outputs": [],
   "source": [
    "dataset.dtypes"
   ]
  },
  {
   "cell_type": "raw",
   "metadata": {},
   "source": [
    "<script>\n",
    "  jQuery(document).ready(function($) {\n",
    "\n",
    "  $(window).load(function(){\n",
    "    $('#preloader').fadeOut('slow',function(){$(this).remove();});\n",
    "  });\n",
    "\n",
    "  });\n",
    "</script>\n",
    "\n",
    "<style type=\"text/css\">\n",
    "  div#preloader { position: fixed;\n",
    "      left: 0;\n",
    "      top: 0;\n",
    "      z-index: 999;\n",
    "      width: 100%;\n",
    "      height: 100%;\n",
    "      overflow: visible;\n",
    "      background: #fff url('http://preloaders.net/preloaders/720/Moving%20line.gif') no-repeat center center;\n",
    "  }\n",
    "\n",
    "</style>\n",
    "\n",
    "<div id=\"preloader\"></div>"
   ]
  }
 ],
 "metadata": {
  "kernelspec": {
   "display_name": "Python 3",
   "language": "python",
   "name": "python3"
  },
  "language_info": {
   "codemirror_mode": {
    "name": "ipython",
    "version": 3
   },
   "file_extension": ".py",
   "mimetype": "text/x-python",
   "name": "python",
   "nbconvert_exporter": "python",
   "pygments_lexer": "ipython3",
   "version": "3.7.6"
  }
 },
 "nbformat": 4,
 "nbformat_minor": 4
}

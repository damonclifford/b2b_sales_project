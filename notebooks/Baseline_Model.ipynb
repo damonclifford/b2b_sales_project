{
 "cells": [
  {
   "cell_type": "markdown",
   "metadata": {},
   "source": [
    "# Baseline Model"
   ]
  },
  {
   "cell_type": "code",
   "execution_count": 6,
   "metadata": {},
   "outputs": [
    {
     "name": "stdout",
     "output_type": "stream",
     "text": [
      "Parent directory /Users/nicholasrichers/Documents/GitHub/b2b_sales_project\n",
      "The autoreload extension is already loaded. To reload it, use:\n",
      "  %reload_ext autoreload\n"
     ]
    }
   ],
   "source": [
    "%load_ext autoreload\n",
    "%autoreload 2\n",
    "\n",
    "from utils import code\n",
    "#from plot_libraries import setup_graphics"
   ]
  },
  {
   "cell_type": "code",
   "execution_count": 2,
   "metadata": {},
   "outputs": [],
   "source": [
    "# load libraries and set plot parameters\n",
    "import os, random, re, sys, time, warnings\n",
    "import math\n",
    "import numpy as np\n",
    "import pandas as pd\n",
    "import pandas_profiling\n",
    "import matplotlib.pyplot as plt\n",
    "import seaborn as sns\n",
    "from datetime import datetime\n",
    "\n",
    "%matplotlib inline\n",
    "sns.set()\n",
    "pd.options.display.max_columns = None\n",
    "setup_graphics()"
   ]
  },
  {
   "cell_type": "code",
   "execution_count": 7,
   "metadata": {},
   "outputs": [],
   "source": [
    "import os, random, re, sys, time, warnings\n",
    "\n",
    "\n",
    "#sys.path\n",
    "\n",
    "from utils import code"
   ]
  },
  {
   "cell_type": "code",
   "execution_count": 16,
   "metadata": {},
   "outputs": [
    {
     "name": "stdout",
     "output_type": "stream",
     "text": [
      "Current Directory /Users/nicholasrichers/Documents/GitHub/b2b_sales_project/notebooks\n",
      "\n",
      "Parent directory /Users/nicholasrichers/Documents/GitHub/b2b_sales_project\n"
     ]
    }
   ],
   "source": [
    "import os \n",
    "  \n",
    "# get current directory \n",
    "path = os.getcwd()  \n",
    "# parent directory \n",
    "parent = os.path.dirname(path) \n",
    "print(\"Parent directory\", parent) "
   ]
  },
  {
   "cell_type": "markdown",
   "metadata": {},
   "source": [
    "### Analyzing Train DF\n",
    "\n",
    "##### Features importantes\n",
    "* Pct Organic Visits - Se esse número é alto, isso quer dizer que a empresa depende de SEO para gerar receita. Números extremos perto de 0% e perto de 100% provavelmente estão errados/não são confiáveis\n",
    "* SEO Visits -  Quanto maior esse número, em geral, mais poderoso é o time de SEO, e mais faz sentido investir numa tecnologia como a nossa. Abaixo de 1M de visitas orgãnicas ou acima de 500M não faz muito sentido. (deveríamos descartar esses entao?)\n",
    "* Page Count - Quanto maior esse número, em geral, mais poderoso é o time de SEO, e mais faz sentido investir numa tecnologia como a nossa. Abaixo de 25K não faz muito sentido."
   ]
  },
  {
   "cell_type": "code",
   "execution_count": 5,
   "metadata": {},
   "outputs": [
    {
     "data": {
      "text/plain": [
       "(455, 13)"
      ]
     },
     "execution_count": 5,
     "metadata": {},
     "output_type": "execute_result"
    }
   ],
   "source": [
    "df = pd.read_csv('data/trainDF.csv', delimiter=',', index_col=['Account_ID'])\n",
    "df.shape"
   ]
  },
  {
   "cell_type": "code",
   "execution_count": 7,
   "metadata": {},
   "outputs": [
    {
     "data": {
      "text/html": [
       "<div>\n",
       "<style scoped>\n",
       "    .dataframe tbody tr th:only-of-type {\n",
       "        vertical-align: middle;\n",
       "    }\n",
       "\n",
       "    .dataframe tbody tr th {\n",
       "        vertical-align: top;\n",
       "    }\n",
       "\n",
       "    .dataframe thead th {\n",
       "        text-align: right;\n",
       "    }\n",
       "</style>\n",
       "<table border=\"1\" class=\"dataframe\">\n",
       "  <thead>\n",
       "    <tr style=\"text-align: right;\">\n",
       "      <th></th>\n",
       "      <th>Number_Of_Opportunities</th>\n",
       "      <th>Number_of_Open_Opportunities</th>\n",
       "      <th>Activities_Last_30_Days</th>\n",
       "      <th>Employees</th>\n",
       "      <th>Pct_Organic_Visits</th>\n",
       "      <th>SEO_Visits</th>\n",
       "      <th>Annual_Revenue_converted</th>\n",
       "      <th>Adjusted_Industry</th>\n",
       "      <th>Account_ICP_Score</th>\n",
       "      <th>Page_Count</th>\n",
       "      <th>Alexa_Rank</th>\n",
       "      <th>Parent_Account_Status</th>\n",
       "      <th>Active_customer</th>\n",
       "    </tr>\n",
       "    <tr>\n",
       "      <th>Account_ID</th>\n",
       "      <th></th>\n",
       "      <th></th>\n",
       "      <th></th>\n",
       "      <th></th>\n",
       "      <th></th>\n",
       "      <th></th>\n",
       "      <th></th>\n",
       "      <th></th>\n",
       "      <th></th>\n",
       "      <th></th>\n",
       "      <th></th>\n",
       "      <th></th>\n",
       "      <th></th>\n",
       "    </tr>\n",
       "  </thead>\n",
       "  <tbody>\n",
       "    <tr>\n",
       "      <th>0012400000kkZyF</th>\n",
       "      <td>3.0</td>\n",
       "      <td>0.0</td>\n",
       "      <td>4.0</td>\n",
       "      <td>10000.0</td>\n",
       "      <td>0.10</td>\n",
       "      <td>10742515.0</td>\n",
       "      <td>1.000000e+09</td>\n",
       "      <td>Other</td>\n",
       "      <td>58.333</td>\n",
       "      <td>94900.0</td>\n",
       "      <td>260.0</td>\n",
       "      <td>-</td>\n",
       "      <td>0</td>\n",
       "    </tr>\n",
       "    <tr>\n",
       "      <th>001240000132Sos</th>\n",
       "      <td>5.0</td>\n",
       "      <td>1.0</td>\n",
       "      <td>17.0</td>\n",
       "      <td>3600.0</td>\n",
       "      <td>0.05</td>\n",
       "      <td>2473917.0</td>\n",
       "      <td>4.500000e+08</td>\n",
       "      <td>Other</td>\n",
       "      <td>58.333</td>\n",
       "      <td>484000.0</td>\n",
       "      <td>256.0</td>\n",
       "      <td>-</td>\n",
       "      <td>1</td>\n",
       "    </tr>\n",
       "    <tr>\n",
       "      <th>001240000132TKZ</th>\n",
       "      <td>7.0</td>\n",
       "      <td>3.0</td>\n",
       "      <td>17.0</td>\n",
       "      <td>3000.0</td>\n",
       "      <td>0.07</td>\n",
       "      <td>21176410.0</td>\n",
       "      <td>1.000000e+09</td>\n",
       "      <td>Other</td>\n",
       "      <td>50.000</td>\n",
       "      <td>47400.0</td>\n",
       "      <td>59.0</td>\n",
       "      <td>-</td>\n",
       "      <td>1</td>\n",
       "    </tr>\n",
       "    <tr>\n",
       "      <th>00124000015MpD7</th>\n",
       "      <td>6.0</td>\n",
       "      <td>1.0</td>\n",
       "      <td>0.0</td>\n",
       "      <td>22000.0</td>\n",
       "      <td>0.23</td>\n",
       "      <td>2239042.0</td>\n",
       "      <td>6.900000e+09</td>\n",
       "      <td>Travel</td>\n",
       "      <td>62.500</td>\n",
       "      <td>14912.0</td>\n",
       "      <td>2934.0</td>\n",
       "      <td>-</td>\n",
       "      <td>1</td>\n",
       "    </tr>\n",
       "    <tr>\n",
       "      <th>00124000018rlXA</th>\n",
       "      <td>4.0</td>\n",
       "      <td>1.0</td>\n",
       "      <td>0.0</td>\n",
       "      <td>37000.0</td>\n",
       "      <td>0.35</td>\n",
       "      <td>2933106.0</td>\n",
       "      <td>8.000000e+09</td>\n",
       "      <td>Classified</td>\n",
       "      <td>62.500</td>\n",
       "      <td>47880.0</td>\n",
       "      <td>5668.0</td>\n",
       "      <td>-</td>\n",
       "      <td>0</td>\n",
       "    </tr>\n",
       "  </tbody>\n",
       "</table>\n",
       "</div>"
      ],
      "text/plain": [
       "                 Number_Of_Opportunities  Number_of_Open_Opportunities  \\\n",
       "Account_ID                                                               \n",
       "0012400000kkZyF                      3.0                           0.0   \n",
       "001240000132Sos                      5.0                           1.0   \n",
       "001240000132TKZ                      7.0                           3.0   \n",
       "00124000015MpD7                      6.0                           1.0   \n",
       "00124000018rlXA                      4.0                           1.0   \n",
       "\n",
       "                 Activities_Last_30_Days  Employees  Pct_Organic_Visits  \\\n",
       "Account_ID                                                                \n",
       "0012400000kkZyF                      4.0    10000.0                0.10   \n",
       "001240000132Sos                     17.0     3600.0                0.05   \n",
       "001240000132TKZ                     17.0     3000.0                0.07   \n",
       "00124000015MpD7                      0.0    22000.0                0.23   \n",
       "00124000018rlXA                      0.0    37000.0                0.35   \n",
       "\n",
       "                 SEO_Visits  Annual_Revenue_converted Adjusted_Industry  \\\n",
       "Account_ID                                                                \n",
       "0012400000kkZyF  10742515.0              1.000000e+09             Other   \n",
       "001240000132Sos   2473917.0              4.500000e+08             Other   \n",
       "001240000132TKZ  21176410.0              1.000000e+09             Other   \n",
       "00124000015MpD7   2239042.0              6.900000e+09            Travel   \n",
       "00124000018rlXA   2933106.0              8.000000e+09        Classified   \n",
       "\n",
       "                 Account_ICP_Score  Page_Count  Alexa_Rank  \\\n",
       "Account_ID                                                   \n",
       "0012400000kkZyF             58.333     94900.0       260.0   \n",
       "001240000132Sos             58.333    484000.0       256.0   \n",
       "001240000132TKZ             50.000     47400.0        59.0   \n",
       "00124000015MpD7             62.500     14912.0      2934.0   \n",
       "00124000018rlXA             62.500     47880.0      5668.0   \n",
       "\n",
       "                Parent_Account_Status  Active_customer  \n",
       "Account_ID                                              \n",
       "0012400000kkZyF                     -                0  \n",
       "001240000132Sos                     -                1  \n",
       "001240000132TKZ                     -                1  \n",
       "00124000015MpD7                     -                1  \n",
       "00124000018rlXA                     -                0  "
      ]
     },
     "execution_count": 7,
     "metadata": {},
     "output_type": "execute_result"
    }
   ],
   "source": [
    "df.tail()"
   ]
  },
  {
   "cell_type": "code",
   "execution_count": null,
   "metadata": {},
   "outputs": [],
   "source": [
    "#verificar o target"
   ]
  },
  {
   "cell_type": "code",
   "execution_count": null,
   "metadata": {},
   "outputs": [],
   "source": []
  },
  {
   "cell_type": "code",
   "execution_count": null,
   "metadata": {},
   "outputs": [],
   "source": []
  },
  {
   "cell_type": "code",
   "execution_count": null,
   "metadata": {},
   "outputs": [],
   "source": []
  },
  {
   "cell_type": "markdown",
   "metadata": {},
   "source": [
    "### Missing Values"
   ]
  },
  {
   "cell_type": "code",
   "execution_count": null,
   "metadata": {},
   "outputs": [],
   "source": [
    "nan_mean = dataset.isna().mean()\n",
    "nan_mean = nan_mean[nan_mean != 0].sort_values()\n",
    "nan_mean"
   ]
  },
  {
   "cell_type": "markdown",
   "metadata": {},
   "source": [
    "##### Fill NA Methods\n",
    "* **Alexa_Rank:** MAX\n",
    "* **Account_ICP_Score:** MEDIAN (industry)\n",
    "* **Employees:** MEDIAN (industry)\n",
    "* **Annual_Revenue_converted:** MEDIAN (industry)\n",
    "* **Organic_Visits:** MIN\n",
    "* **Page_Count:** MIN\n",
    "* **Pct_Organic_Visits:**  MIN\n",
    "* **Combined_Pages:** DROP"
   ]
  },
  {
   "cell_type": "code",
   "execution_count": null,
   "metadata": {},
   "outputs": [],
   "source": [
    "fill_max = ['Alexa_Rank' ]\n",
    "fill_min = ['Organic_Visits', 'Page_Count', 'Pct_Organic_Visits']\n",
    "fill_median = ['Account_ICP_Score', 'Employees', 'Annual_Revenue_converted' ]\n",
    "drop_missing_values = ['Combined_Pages']"
   ]
  },
  {
   "cell_type": "code",
   "execution_count": null,
   "metadata": {},
   "outputs": [],
   "source": [
    "dataset[fill_max] = dataset[fill_max].fillna(dataset[fill_max].max())\n",
    "dataset[fill_min] = dataset[fill_min].fillna(dataset[fill_min].min())\n",
    "dataset.drop(columns=drop_missing_values, inplace=True)"
   ]
  },
  {
   "cell_type": "code",
   "execution_count": null,
   "metadata": {},
   "outputs": [],
   "source": [
    "values_dict = dataset.groupby(['Adjusted_Industry'])[fill_median].median().to_dict()\n",
    "for col in fill_median:\n",
    "    dataset[col] = dataset[col].fillna(dataset['Adjusted_Industry'].map(values_dict[col]))"
   ]
  },
  {
   "cell_type": "code",
   "execution_count": null,
   "metadata": {},
   "outputs": [],
   "source": []
  }
 ],
 "metadata": {
  "kernelspec": {
   "display_name": "Python 3",
   "language": "python",
   "name": "python3"
  },
  "language_info": {
   "codemirror_mode": {
    "name": "ipython",
    "version": 3
   },
   "file_extension": ".py",
   "mimetype": "text/x-python",
   "name": "python",
   "nbconvert_exporter": "python",
   "pygments_lexer": "ipython3",
   "version": "3.7.6"
  }
 },
 "nbformat": 4,
 "nbformat_minor": 4
}

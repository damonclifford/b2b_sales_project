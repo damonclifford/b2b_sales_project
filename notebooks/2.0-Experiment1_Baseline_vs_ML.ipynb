{
 "cells": [
  {
   "cell_type": "raw",
   "metadata": {},
   "source": [
    "<script>\n",
    "  function code_toggle() {\n",
    "    if (code_shown){\n",
    "      $('div.input').hide('500');\n",
    "      $('#toggleButton').val('Show Code')\n",
    "    } else {\n",
    "      $('div.input').show('500');\n",
    "      $('#toggleButton').val('Hide Code')\n",
    "    }\n",
    "    code_shown = !code_shown\n",
    "  }\n",
    "\n",
    "  $( document ).ready(function(){\n",
    "    code_shown=false;\n",
    "    $('div.input').hide()\n",
    "  });\n",
    "</script>\n",
    "<form action=\"javascript:code_toggle()\"><input type=\"submit\" id=\"toggleButton\" value=\"Show Code\"></form>"
   ]
  },
  {
   "cell_type": "raw",
   "metadata": {},
   "source": [
    "<script>\n",
    "  $(document).ready(function(){\n",
    "    $('div.prompt').hide();\n",
    "    $('div.back-to-top').hide();\n",
    "    $('nav#menubar').hide();\n",
    "    $('.breadcrumb').hide();\n",
    "    $('.hidden-print').hide();\n",
    "  });\n",
    "</script>\n",
    "\n",
    "<footer id=\"attribution\" style=\"float:right; color:#999; background:#fff;\">\n",
    "Created with Jupyter Lab, by Nicholas Richers.\n",
    "</footer>"
   ]
  },
  {
   "cell_type": "markdown",
   "metadata": {},
   "source": [
    "# Experiment #1 - Baseline Model vs. Baseline ML Models"
   ]
  },
  {
   "cell_type": "markdown",
   "metadata": {},
   "source": [
    "## Overview\n",
    "\n",
    "The purpose of this experiment is to establish a baseline for a domain-driven model and to compare it to more sophisticated machine learning models using baseline features. Our baseline model will simply follow our intuited rule:\n",
    "\n",
    "> Select randomly a customer if they belong to tiers S or A, until we have an amount equivalent to 10% of our dataset (i.e 184), which sounds a reasonable amount of customers to be reached in a certain period of time (campaign).\n",
    "\n",
    "To estimate the performance of machine learning models, we will train the following models with some different hyperparameter configurations, selecting the best configuration and averaging the scores of the best models:\n",
    "\n",
    "* Logistic Regression\n",
    "* SGD Classifier\n",
    "* XGBoost\n",
    "* Light GBM\n",
    "* K-Nearest Neighboors\n",
    "\n",
    "Scores will be based on how well a classifier can prioritize 184 customers considering the entire database."
   ]
  },
  {
   "cell_type": "code",
   "execution_count": 45,
   "metadata": {},
   "outputs": [
    {
     "name": "stdout",
     "output_type": "stream",
     "text": [
      "The autoreload extension is already loaded. To reload it, use:\n",
      "  %reload_ext autoreload\n"
     ]
    }
   ],
   "source": [
    "%load_ext autoreload\n",
    "%autoreload 2\n",
    "\n",
    "from utils import code\n",
    "from plot_libraries import setup_graphics\n",
    "from datasets import get_data"
   ]
  },
  {
   "cell_type": "code",
   "execution_count": 46,
   "metadata": {},
   "outputs": [],
   "source": [
    "#Main Libraries\n",
    "import os, random, re, sys, warnings\n",
    "import numpy as np\n",
    "import pandas as pd\n",
    "import matplotlib.pyplot as plt\n",
    "import seaborn as sns\n",
    "\n",
    "#Data transform (pipeline)\n",
    "from sklearn.preprocessing import OneHotEncoder, FunctionTransformer\n",
    "from sklearn.preprocessing import MinMaxScaler,RobustScaler\n",
    "from sklearn.compose import ColumnTransformer\n",
    "from sklearn.pipeline import Pipeline, FeatureUnion\n",
    "from sklearn.impute import SimpleImputer\n",
    "\n",
    "\n",
    "# Model evaluation\n",
    "import scikitplot as skplt\n",
    "from sklearn.metrics import make_scorer, roc_auc_score, brier_score_loss, classification_report, confusion_matrix\n",
    "from sklearn.model_selection import train_test_split, cross_val_predict\n",
    "from evaluation import plot_learning_curve, evaluate_model, plot_confusion_matrix, plot_feature_permutation\n",
    "\n",
    "# Support\n",
    "import parameters as params\n",
    "from model import Model, build_tuned_model\n",
    "from datasets import get_data\n",
    "from experiments import experiment_1, get_scorer\n",
    "\n",
    "#setup\n",
    "warnings.filterwarnings(\"ignore\")\n",
    "pd.options.display.max_columns = None\n",
    "sns.set()\n",
    "%matplotlib inline\n",
    "setup_graphics()"
   ]
  },
  {
   "cell_type": "markdown",
   "metadata": {},
   "source": [
    "## Data"
   ]
  },
  {
   "cell_type": "code",
   "execution_count": 47,
   "metadata": {},
   "outputs": [
    {
     "data": {
      "text/html": [
       "<div>\n",
       "<style scoped>\n",
       "    .dataframe tbody tr th:only-of-type {\n",
       "        vertical-align: middle;\n",
       "    }\n",
       "\n",
       "    .dataframe tbody tr th {\n",
       "        vertical-align: top;\n",
       "    }\n",
       "\n",
       "    .dataframe thead th {\n",
       "        text-align: right;\n",
       "    }\n",
       "</style>\n",
       "<table border=\"1\" class=\"dataframe\">\n",
       "  <thead>\n",
       "    <tr style=\"text-align: right;\">\n",
       "      <th></th>\n",
       "      <th>Activities_Last_30_Days</th>\n",
       "      <th>Employees</th>\n",
       "      <th>ZoomInfo_Employee_Range</th>\n",
       "      <th>ZoomInfo_Revenue_Range</th>\n",
       "      <th>Organic_Visits</th>\n",
       "      <th>Pct_Organic_Visits</th>\n",
       "      <th>SEO_Visits</th>\n",
       "      <th>URLs_Indexed</th>\n",
       "      <th>ZoomInfo_Global_HQ_Country</th>\n",
       "      <th>Annual_Revenue_converted</th>\n",
       "      <th>Adjusted_Industry</th>\n",
       "      <th>Account_ICP_Score</th>\n",
       "      <th>Account_ICP_Tier</th>\n",
       "      <th>Page_Count</th>\n",
       "      <th>Page_Count_Range</th>\n",
       "      <th>Alexa_Rank</th>\n",
       "      <th>Parent_Account_Status</th>\n",
       "    </tr>\n",
       "    <tr>\n",
       "      <th>Account_ID</th>\n",
       "      <th></th>\n",
       "      <th></th>\n",
       "      <th></th>\n",
       "      <th></th>\n",
       "      <th></th>\n",
       "      <th></th>\n",
       "      <th></th>\n",
       "      <th></th>\n",
       "      <th></th>\n",
       "      <th></th>\n",
       "      <th></th>\n",
       "      <th></th>\n",
       "      <th></th>\n",
       "      <th></th>\n",
       "      <th></th>\n",
       "      <th></th>\n",
       "      <th></th>\n",
       "    </tr>\n",
       "  </thead>\n",
       "  <tbody>\n",
       "    <tr>\n",
       "      <th>0012400000L5cmZ</th>\n",
       "      <td>0.0</td>\n",
       "      <td>10.0</td>\n",
       "      <td>unknown</td>\n",
       "      <td>unknown</td>\n",
       "      <td>61688430.0</td>\n",
       "      <td>0.34</td>\n",
       "      <td>61688430.0</td>\n",
       "      <td>27700000.0</td>\n",
       "      <td>non_US</td>\n",
       "      <td>3.333900e+06</td>\n",
       "      <td>Retail</td>\n",
       "      <td>91.667</td>\n",
       "      <td>Tier A</td>\n",
       "      <td>27700000.0</td>\n",
       "      <td>&gt;1M</td>\n",
       "      <td>331.0</td>\n",
       "      <td>unknown</td>\n",
       "    </tr>\n",
       "    <tr>\n",
       "      <th>00124000004sEH5</th>\n",
       "      <td>51.0</td>\n",
       "      <td>10000.0</td>\n",
       "      <td>unknown</td>\n",
       "      <td>unknown</td>\n",
       "      <td>19397082.0</td>\n",
       "      <td>0.93</td>\n",
       "      <td>28615923.0</td>\n",
       "      <td>76200.0</td>\n",
       "      <td>non_US</td>\n",
       "      <td>1.333560e+10</td>\n",
       "      <td>Retail</td>\n",
       "      <td>100.000</td>\n",
       "      <td>Tier A</td>\n",
       "      <td>206300.0</td>\n",
       "      <td>Between 100K and 250K</td>\n",
       "      <td>8881.0</td>\n",
       "      <td>Prospect</td>\n",
       "    </tr>\n",
       "    <tr>\n",
       "      <th>00124000004sUGG</th>\n",
       "      <td>0.0</td>\n",
       "      <td>5000.0</td>\n",
       "      <td>unknown</td>\n",
       "      <td>unknown</td>\n",
       "      <td>49283858.0</td>\n",
       "      <td>0.53</td>\n",
       "      <td>50132407.0</td>\n",
       "      <td>12600000.0</td>\n",
       "      <td>non_US</td>\n",
       "      <td>5.556500e+08</td>\n",
       "      <td>Media</td>\n",
       "      <td>100.000</td>\n",
       "      <td>Tier A</td>\n",
       "      <td>12709000.0</td>\n",
       "      <td>&gt;1M</td>\n",
       "      <td>1118.0</td>\n",
       "      <td>Lost Customer</td>\n",
       "    </tr>\n",
       "    <tr>\n",
       "      <th>0011p00002SeaiQ</th>\n",
       "      <td>0.0</td>\n",
       "      <td>383.0</td>\n",
       "      <td>250 - 500</td>\n",
       "      <td>$50 mil. - $100 mil.</td>\n",
       "      <td>177515.0</td>\n",
       "      <td>NaN</td>\n",
       "      <td>177515.0</td>\n",
       "      <td>1090000.0</td>\n",
       "      <td>US</td>\n",
       "      <td>7.360000e+07</td>\n",
       "      <td>Classified</td>\n",
       "      <td>70.833</td>\n",
       "      <td>Tier A</td>\n",
       "      <td>1090000.0</td>\n",
       "      <td>&gt;1M</td>\n",
       "      <td>126905.0</td>\n",
       "      <td>unknown</td>\n",
       "    </tr>\n",
       "    <tr>\n",
       "      <th>0011p00001SghSL</th>\n",
       "      <td>0.0</td>\n",
       "      <td>5000.0</td>\n",
       "      <td>1,000 - 5,000</td>\n",
       "      <td>$500 mil. - $1 bil.</td>\n",
       "      <td>8052961.0</td>\n",
       "      <td>0.59</td>\n",
       "      <td>10416602.0</td>\n",
       "      <td>2340000.0</td>\n",
       "      <td>US</td>\n",
       "      <td>2.500000e+08</td>\n",
       "      <td>Classified</td>\n",
       "      <td>100.000</td>\n",
       "      <td>Tier A</td>\n",
       "      <td>3640000.0</td>\n",
       "      <td>&gt;1M</td>\n",
       "      <td>4742.0</td>\n",
       "      <td>Prospect</td>\n",
       "    </tr>\n",
       "  </tbody>\n",
       "</table>\n",
       "</div>"
      ],
      "text/plain": [
       "                 Activities_Last_30_Days  Employees ZoomInfo_Employee_Range  \\\n",
       "Account_ID                                                                    \n",
       "0012400000L5cmZ                      0.0       10.0                 unknown   \n",
       "00124000004sEH5                     51.0    10000.0                 unknown   \n",
       "00124000004sUGG                      0.0     5000.0                 unknown   \n",
       "0011p00002SeaiQ                      0.0      383.0               250 - 500   \n",
       "0011p00001SghSL                      0.0     5000.0           1,000 - 5,000   \n",
       "\n",
       "                ZoomInfo_Revenue_Range  Organic_Visits  Pct_Organic_Visits  \\\n",
       "Account_ID                                                                   \n",
       "0012400000L5cmZ                unknown      61688430.0                0.34   \n",
       "00124000004sEH5                unknown      19397082.0                0.93   \n",
       "00124000004sUGG                unknown      49283858.0                0.53   \n",
       "0011p00002SeaiQ   $50 mil. - $100 mil.        177515.0                 NaN   \n",
       "0011p00001SghSL    $500 mil. - $1 bil.       8052961.0                0.59   \n",
       "\n",
       "                 SEO_Visits  URLs_Indexed ZoomInfo_Global_HQ_Country  \\\n",
       "Account_ID                                                             \n",
       "0012400000L5cmZ  61688430.0    27700000.0                     non_US   \n",
       "00124000004sEH5  28615923.0       76200.0                     non_US   \n",
       "00124000004sUGG  50132407.0    12600000.0                     non_US   \n",
       "0011p00002SeaiQ    177515.0     1090000.0                         US   \n",
       "0011p00001SghSL  10416602.0     2340000.0                         US   \n",
       "\n",
       "                 Annual_Revenue_converted Adjusted_Industry  \\\n",
       "Account_ID                                                    \n",
       "0012400000L5cmZ              3.333900e+06            Retail   \n",
       "00124000004sEH5              1.333560e+10            Retail   \n",
       "00124000004sUGG              5.556500e+08             Media   \n",
       "0011p00002SeaiQ              7.360000e+07        Classified   \n",
       "0011p00001SghSL              2.500000e+08        Classified   \n",
       "\n",
       "                 Account_ICP_Score Account_ICP_Tier  Page_Count  \\\n",
       "Account_ID                                                        \n",
       "0012400000L5cmZ             91.667           Tier A  27700000.0   \n",
       "00124000004sEH5            100.000           Tier A    206300.0   \n",
       "00124000004sUGG            100.000           Tier A  12709000.0   \n",
       "0011p00002SeaiQ             70.833           Tier A   1090000.0   \n",
       "0011p00001SghSL            100.000           Tier A   3640000.0   \n",
       "\n",
       "                      Page_Count_Range  Alexa_Rank Parent_Account_Status  \n",
       "Account_ID                                                                \n",
       "0012400000L5cmZ                    >1M       331.0               unknown  \n",
       "00124000004sEH5  Between 100K and 250K      8881.0              Prospect  \n",
       "00124000004sUGG                    >1M      1118.0         Lost Customer  \n",
       "0011p00002SeaiQ                    >1M    126905.0               unknown  \n",
       "0011p00001SghSL                    >1M      4742.0              Prospect  "
      ]
     },
     "execution_count": 47,
     "metadata": {},
     "output_type": "execute_result"
    }
   ],
   "source": [
    "X, y = get_data('../data/trainDF.csv')\n",
    "X.head()"
   ]
  },
  {
   "cell_type": "code",
   "execution_count": 48,
   "metadata": {},
   "outputs": [
    {
     "name": "stdout",
     "output_type": "stream",
     "text": [
      "Number of instances: 1,849\n",
      "Number of conversions 315\n",
      "Conversion rate: 17.04%\n",
      "Expected number of conversions targeting 184 @ 17.04%: 31\n"
     ]
    }
   ],
   "source": [
    "n_instances = len(X)\n",
    "p_instances = y.sum() / len(y)\n",
    "p_targeted = 0.1\n",
    "n_targeted = int(n_instances*p_targeted)\n",
    "\n",
    "print('Number of instances: {:,}'.format(n_instances))\n",
    "print('Number of conversions {:,}'.format(y.sum()))\n",
    "print('Conversion rate: {:.2f}%'.format(p_instances*100.))\n",
    "print('Expected number of conversions targeting {:,} @ {:.2f}%: {:,}'.format(n_targeted, p_instances*100., int(p_instances * n_targeted)))"
   ]
  },
  {
   "cell_type": "markdown",
   "metadata": {},
   "source": [
    "### Split Dataset"
   ]
  },
  {
   "cell_type": "code",
   "execution_count": 49,
   "metadata": {},
   "outputs": [],
   "source": [
    "X_train, X_test, y_train, y_test = train_test_split(X, y, test_size=.2, stratify=y, random_state=20)\n",
    "n_targeted_test = int(len(X_test) * p_targeted)"
   ]
  },
  {
   "cell_type": "markdown",
   "metadata": {},
   "source": [
    "### Baseline Model"
   ]
  },
  {
   "cell_type": "markdown",
   "metadata": {},
   "source": [
    "To evaluate our baseline model, we will include some financial features, which will allow us to compare with ML models later."
   ]
  },
  {
   "cell_type": "code",
   "execution_count": 50,
   "metadata": {},
   "outputs": [],
   "source": [
    "# Setup costs and benefits\n",
    "avg_revenue = params.AVG_REVENUE\n",
    "avg_cost = params.AVG_COST"
   ]
  },
  {
   "cell_type": "code",
   "execution_count": 51,
   "metadata": {},
   "outputs": [],
   "source": [
    "# Combine the targeted and random groups\n",
    "baseline_targets = X_test[X_test.Account_ICP_Tier.isin(['Tier S', 'Tier A'])].sample(n=n_targeted_test, random_state=20)\n",
    "baseline_ys = y_test.loc[baseline_targets.index]\n",
    "baseline_outcomes = baseline_ys.apply(lambda x: avg_cost if x == 0 else avg_cost + avg_revenue)\n",
    "assert(len(baseline_targets) == n_targeted_test)"
   ]
  },
  {
   "cell_type": "code",
   "execution_count": 52,
   "metadata": {},
   "outputs": [],
   "source": [
    "# Create the random targets\n",
    "random_targets = X_test.sample(n=n_targeted_test)\n",
    "random_ys = y.loc[random_targets.index]\n",
    "random_outcomes = random_ys.apply(lambda x: avg_cost if x == 0 else avg_cost + avg_revenue)"
   ]
  },
  {
   "cell_type": "code",
   "execution_count": 53,
   "metadata": {},
   "outputs": [
    {
     "name": "stdout",
     "output_type": "stream",
     "text": [
      "Number of customers targeted: 37/370\n",
      "\n",
      "Conversion rate under random policy: 10.8%\n",
      "Expected profit under random policy: $3,630\n",
      "\n",
      "Conversion rate under baseline policy: 35.1%\n",
      "Expected profit under baseline policy: $12,630\n",
      "Lift over random policy: 3.5 or $9,000\n"
     ]
    }
   ],
   "source": [
    "# Compute profit\n",
    "random_profit = sum(random_outcomes)\n",
    "baseline_profit = sum(baseline_outcomes)\n",
    "\n",
    "print('Number of customers targeted: {:,}/{:,}\\n'.format(len(baseline_targets), len(X_test)))\n",
    "\n",
    "print('Conversion rate under random policy: {:.1f}%'.format(random_ys.sum() / len(random_ys)*100.))\n",
    "print('Expected profit under random policy: ${:,}\\n'.format(random_profit))\n",
    "\n",
    "print('Conversion rate under baseline policy: {:.3}%'.format(baseline_ys.sum() / len(baseline_ys)*100.))\n",
    "print('Expected profit under baseline policy: ${:,}'.format(baseline_profit))\n",
    "print('Lift over random policy: {:.1f} or ${:,}'.format(baseline_profit / random_profit, baseline_profit - random_profit))"
   ]
  },
  {
   "cell_type": "markdown",
   "metadata": {},
   "source": [
    "--------\n",
    "--------"
   ]
  },
  {
   "cell_type": "markdown",
   "metadata": {},
   "source": [
    "### Baseline ML models\n",
    "We will evaluate some ML models and choose the best one under a score function then analyze its predictions and estimate financial impact."
   ]
  },
  {
   "cell_type": "markdown",
   "metadata": {},
   "source": [
    "* From exploratory data analysis we noticed that some trasformations are necessary to improve our ML models."
   ]
  },
  {
   "cell_type": "markdown",
   "metadata": {},
   "source": [
    "##### Fill nan values\n",
    "\n",
    "* #1 - fill_value=nan (*only valid to XGB & LGBM*)\n",
    "\n",
    "```python\n",
    "num_ct = ColumnTransformer([('numerics', 'passthrough', experiment_1.NUM_FEAT)])\n",
    "```\n",
    "--------\n",
    "\n",
    "* #2 - fill_value=-1, let the model find out a pattern from its own (**best choice**)\n",
    "\n",
    "```python\n",
    "num_ct = ColumnTransformer([\n",
    "    ('fill_diff', SimpleImputer(missing_values=np.nan, strategy='constant',fill_value=-1),experiment_1.NUM_FEAT)                          \n",
    "])\n",
    "```\n",
    "--------\n",
    "\n",
    "* #3 - Multiple heuristics\n",
    "\n",
    "```python\n",
    "num_ct_ = ColumnTransformer([\n",
    "    ('numerics', 'passthrough', pass_feat),\n",
    "    ('fill_diff',SimpleImputer(missing_values=np.nan, strategy='constant', fill_value=-1),fill_diff),\n",
    "    ('fill_max', SimpleImputer(missing_values=np.nan, strategy='most_frequent'),fill_max),\n",
    "    ('fill_min', SimpleImputer(missing_values=np.nan, strategy='constant', fill_value=0),fill_min)\n",
    "])\n",
    "```\n",
    "-------\n"
   ]
  },
  {
   "cell_type": "markdown",
   "metadata": {},
   "source": [
    "#### Creating the pipeline of first experiment"
   ]
  },
  {
   "cell_type": "code",
   "execution_count": 54,
   "metadata": {},
   "outputs": [],
   "source": [
    "# Create the transformers for categorical features\n",
    "cat_ct = ColumnTransformer([('categoricals', 'passthrough', experiment_1.CAT_FEAT)])\n",
    "\n",
    "# Create the pipeline to transform categorical features\n",
    "cat_pipeline = Pipeline([\n",
    "        ('cat_ct', cat_ct),\n",
    "        ('ohe', OneHotEncoder(handle_unknown='ignore'))\n",
    "])"
   ]
  },
  {
   "cell_type": "code",
   "execution_count": 55,
   "metadata": {},
   "outputs": [],
   "source": [
    "# Create the transformers for numeric features\n",
    "num_ct = ColumnTransformer([\n",
    "    ('fill_diff', SimpleImputer(missing_values=np.nan, strategy='constant',fill_value=-1),experiment_1.NUM_FEAT)                          \n",
    "])\n",
    "\n",
    "# Create the pipeline to transform numeric features\n",
    "num_pipeline = Pipeline([\n",
    "        ('num_union', num_ct),\n",
    "        ('scaler', RobustScaler()),\n",
    "        ('minimax', MinMaxScaler())\n",
    "])"
   ]
  },
  {
   "cell_type": "markdown",
   "metadata": {},
   "source": [
    "Concat both pipelines and transform the dataset"
   ]
  },
  {
   "cell_type": "code",
   "execution_count": 56,
   "metadata": {},
   "outputs": [],
   "source": [
    "pipeline1 = experiment_1.get_pipeline(cat_pipeline, num_pipeline)\n",
    "experiment_1.save_pipeline(pipeline1, '../models_pkl/experiment-1-pipeline.pkl')"
   ]
  },
  {
   "cell_type": "code",
   "execution_count": 57,
   "metadata": {},
   "outputs": [
    {
     "name": "stdout",
     "output_type": "stream",
     "text": [
      "Instances: 1,479, Features: 63\n"
     ]
    }
   ],
   "source": [
    "ps = pipeline1.fit_transform(X_train).shape\n",
    "print('Instances: {:,}, Features: {}'.format(ps[0], ps[1]))"
   ]
  },
  {
   "cell_type": "markdown",
   "metadata": {},
   "source": [
    "##### Evaluation Metric"
   ]
  },
  {
   "cell_type": "code",
   "execution_count": 58,
   "metadata": {},
   "outputs": [],
   "source": [
    "scorer = make_scorer(roc_auc_score)"
   ]
  },
  {
   "cell_type": "code",
   "execution_count": 59,
   "metadata": {},
   "outputs": [],
   "source": [
    "results=[]"
   ]
  },
  {
   "cell_type": "markdown",
   "metadata": {},
   "source": [
    "#### ML Models"
   ]
  },
  {
   "cell_type": "markdown",
   "metadata": {},
   "source": [
    "**Logistic Regression**"
   ]
  },
  {
   "cell_type": "code",
   "execution_count": 60,
   "metadata": {},
   "outputs": [
    {
     "name": "stdout",
     "output_type": "stream",
     "text": [
      "==> Starting 5-fold cross validation for lr model, 1479 examples\n",
      "==> Elapsed seconds: 6.565\n",
      "Best lr model: LogisticRegression(C=100.0, class_weight=None, dual=False, fit_intercept=True,\n",
      "                   intercept_scaling=1, l1_ratio=None, max_iter=100,\n",
      "                   multi_class='auto', n_jobs=None, penalty='l1',\n",
      "                   random_state=None, solver='liblinear', tol=0.0001, verbose=0,\n",
      "                   warm_start=False)\n",
      "Best lr score: 0.653\n"
     ]
    }
   ],
   "source": [
    "from sklearn.linear_model import LogisticRegression\n",
    "lr_param_grid = {\n",
    "  'lr__C': np.logspace(-3, 2, 6),\n",
    "  'lr__intercept_scaling': [1], \n",
    "  'lr__max_iter': [100],\n",
    "  'lr__penalty':  ['l1', 'l2'],\n",
    "  'lr__solver': ['liblinear'], #good for small datasets\n",
    "  'lr__tol': [0.0001]\n",
    "}\n",
    "\n",
    "\n",
    "#0.653\n",
    "result = evaluate_model(X_train, y_train, 'lr', \n",
    "                        LogisticRegression(), \n",
    "                        lr_param_grid, \n",
    "                        scorer, n_iter=100, \n",
    "                        cv_folds=5, pipeline=pipeline1)\n",
    "results.append(result)"
   ]
  },
  {
   "cell_type": "markdown",
   "metadata": {},
   "source": [
    "**XGBoost**"
   ]
  },
  {
   "cell_type": "code",
   "execution_count": 61,
   "metadata": {},
   "outputs": [
    {
     "name": "stdout",
     "output_type": "stream",
     "text": [
      "==> Starting 5-fold cross validation for xgb model, 1479 examples\n",
      "==> Elapsed seconds: 132.596\n",
      "Best xgb model: XGBClassifier(base_score=0.5, booster=None, colsample_bylevel=1.0,\n",
      "              colsample_bynode=1, colsample_bytree=0.8, gamma=0.24, gpu_id=-1,\n",
      "              importance_type='gain', interaction_constraints=None,\n",
      "              learning_rate=0.2, max_delta_step=0, max_depth=3,\n",
      "              min_child_weight=1, missing=nan, monotone_constraints=None,\n",
      "              n_estimators=200, n_jobs=0, num_parallel_tree=1,\n",
      "              objective='binary:logistic', random_state=0,\n",
      "              reg_alpha=0.04641588833612779, reg_lambda=0.12915496650148842,\n",
      "              scale_pos_weight=1, subsample=0.8, tree_method=None,\n",
      "              validate_parameters=False, verbosity=None)\n",
      "Best xgb score: 0.753\n"
     ]
    }
   ],
   "source": [
    "from xgboost import XGBClassifier\n",
    "xgb_param_grid = {\n",
    "        'xgb__colsample_bylevel' : [0.1, 0.2, 0.3, 0.4, 0.5, 0.6, 0.7, 0.8, 1.0],\n",
    "        'xgb__colsample_bytree' :[0.6, 0.7, 0.8, 1.0],\n",
    "        'xgb__gamma' : list(np.linspace(0.05, 1, 6)),\n",
    "        'xgb__learning_rate' : [0.0001, 0.001, 0.01, 0.1, 0.2, 0.3],\n",
    "        'xgb__max_depth' : list(range(3, 30, 3)),\n",
    "        'xgb__min_child_weight' : list(range(1, 11, 2)),\n",
    "        'xgb__n_estimators' : list(range(50, 400, 50)),\n",
    "        'xgb__reg_alpha' : list(np.logspace(-1, 1, num=10)/10),\n",
    "        'xgb__reg_lambda' : list(np.logspace(-1, 1, num=10)/10),\n",
    "        'xgb__subsample' : [0.6, 0.7, 0.8, 1.0]\n",
    "}\n",
    "\n",
    "#0.753\n",
    "result = evaluate_model(X_train, y_train, 'xgb', \n",
    "                        XGBClassifier(), \n",
    "                        xgb_param_grid, \n",
    "                        scorer, n_iter=100, \n",
    "                        cv_folds=5, pipeline=pipeline1)\n",
    "results.append(result)"
   ]
  },
  {
   "cell_type": "markdown",
   "metadata": {},
   "source": [
    "**Light GBM**"
   ]
  },
  {
   "cell_type": "code",
   "execution_count": 62,
   "metadata": {},
   "outputs": [
    {
     "name": "stdout",
     "output_type": "stream",
     "text": [
      "==> Starting 5-fold cross validation for lgbm model, 1479 examples\n",
      "==> Elapsed seconds: 27.326\n",
      "Best lgbm model: LGBMClassifier(boosting_type='dart', class_weight=None,\n",
      "               colsample_bytree=0.6888888888888889, importance_type='split',\n",
      "               is_unbalance=True, learning_rate=0.09555453108445688,\n",
      "               max_depth=-1, min_child_samples=160, min_child_weight=0.001,\n",
      "               min_split_gain=0.0, n_estimators=100, n_jobs=-1, num_leaves=58,\n",
      "               objective=None, random_state=None, reg_alpha=0.26530612244897955,\n",
      "               reg_lambda=0.7755102040816326, silent=True,\n",
      "               subsample=0.6818181818181819, subsample_for_bin=280000,\n",
      "               subsample_freq=0)\n",
      "Best lgbm score: 0.808\n"
     ]
    }
   ],
   "source": [
    "from lightgbm import LGBMClassifier\n",
    "lgbm_param_grid = {\n",
    "    'lgbm__boosting_type': ['gbdt', 'goss', 'dart'],\n",
    "    'lgbm__num_leaves': list(range(20, 150)),\n",
    "    'lgbm__learning_rate': list(np.logspace(np.log10(0.005), np.log10(0.5), base = 10, num = 1000)),\n",
    "    'lgbm__subsample_for_bin': list(range(20000, 300000, 20000)),\n",
    "    'lgbm__min_child_samples': list(range(20, 500, 5)),\n",
    "    'lgbm__reg_alpha': list(np.linspace(0, 1)),\n",
    "    'lgbm__reg_lambda': list(np.linspace(0, 1)),\n",
    "    'lgbm__colsample_bytree': list(np.linspace(0.6, 1, 10)),\n",
    "    'lgbm__subsample': list(np.linspace(0.5, 1, 100)),\n",
    "    'lgbm__is_unbalance': [True, False]\n",
    "}\n",
    "\n",
    "#0.808\n",
    "result = evaluate_model(X_train, y_train, 'lgbm', \n",
    "                        LGBMClassifier(), \n",
    "                        lgbm_param_grid, \n",
    "                        scorer, n_iter=100, \n",
    "                        cv_folds=5, pipeline=pipeline1)\n",
    "results.append(result)"
   ]
  },
  {
   "cell_type": "markdown",
   "metadata": {},
   "source": [
    "**SGD Classifier**"
   ]
  },
  {
   "cell_type": "code",
   "execution_count": 63,
   "metadata": {},
   "outputs": [
    {
     "name": "stdout",
     "output_type": "stream",
     "text": [
      "==> Starting 5-fold cross validation for sgd model, 1479 examples\n",
      "==> Elapsed seconds: 3.118\n",
      "Best sgd model: SGDClassifier(alpha=0.0001, average=False, class_weight=None,\n",
      "              early_stopping=False, epsilon=0.1, eta0=0.0, fit_intercept=True,\n",
      "              l1_ratio=0.15, learning_rate='optimal', loss='log', max_iter=1000,\n",
      "              n_iter_no_change=5, n_jobs=-1, penalty='l1', power_t=0.5,\n",
      "              random_state=None, shuffle=True, tol=0.001,\n",
      "              validation_fraction=0.1, verbose=0, warm_start=False)\n",
      "Best sgd score: 0.678\n"
     ]
    }
   ],
   "source": [
    "from sklearn.linear_model import SGDClassifier\n",
    "sgd_param_grid = {\n",
    "  'sgd__alpha' : np.logspace(-4, 3, 8), \n",
    "  'sgd__loss' : ['log'], #['log','hinge'],\n",
    "  'sgd__max_iter' : [1000],  \n",
    "  'sgd__n_jobs' : [-1], \n",
    "  'sgd__penalty' : ['l2', 'l1', 'elasticnet'],\n",
    "  'sgd__tol' : [0.001],\n",
    "}\n",
    "\n",
    "#0.678\n",
    "result = evaluate_model(X_train, y_train, 'sgd', \n",
    "                        SGDClassifier(), \n",
    "                        sgd_param_grid, \n",
    "                        scorer, n_iter=100, \n",
    "                        cv_folds=5, pipeline=pipeline1)\n",
    "results.append(result)"
   ]
  },
  {
   "cell_type": "markdown",
   "metadata": {},
   "source": [
    "**K-Nearest Neighboors**"
   ]
  },
  {
   "cell_type": "code",
   "execution_count": 64,
   "metadata": {},
   "outputs": [
    {
     "name": "stdout",
     "output_type": "stream",
     "text": [
      "==> Starting 5-fold cross validation for knn model, 1479 examples\n",
      "==> Elapsed seconds: 68.934\n",
      "Best knn model: KNeighborsClassifier(algorithm='auto', leaf_size=32, metric='euclidean',\n",
      "                     metric_params=None, n_jobs=None, n_neighbors=2, p=2,\n",
      "                     weights='distance')\n",
      "Best knn score: 0.566\n"
     ]
    }
   ],
   "source": [
    "from sklearn.neighbors import KNeighborsClassifier\n",
    "knn_param_grid =  {\n",
    "  'knn__leaf_size' : list(range(2, 40, 2)), \n",
    "  'knn__metric' : ['euclidean', 'manhattan'],\n",
    "  'knn__n_neighbors' : list(range(2, 18, 2)), \n",
    "  'knn__p' : [2,3],\n",
    "  'knn__weights' : ['uniform', 'distance']\n",
    "}\n",
    "\n",
    "#0.566\n",
    "result = evaluate_model(X_train, y_train, 'knn', \n",
    "                        KNeighborsClassifier(), \n",
    "                        knn_param_grid, \n",
    "                        scorer, n_iter=100, \n",
    "                        cv_folds=5, pipeline=pipeline1)\n",
    "results.append(result)"
   ]
  },
  {
   "cell_type": "markdown",
   "metadata": {},
   "source": [
    "### Comparing results\n",
    "The table shows the mean and variance performed by the ML models"
   ]
  },
  {
   "cell_type": "code",
   "execution_count": 65,
   "metadata": {},
   "outputs": [
    {
     "data": {
      "text/html": [
       "<div>\n",
       "<style scoped>\n",
       "    .dataframe tbody tr th:only-of-type {\n",
       "        vertical-align: middle;\n",
       "    }\n",
       "\n",
       "    .dataframe tbody tr th {\n",
       "        vertical-align: top;\n",
       "    }\n",
       "\n",
       "    .dataframe thead th {\n",
       "        text-align: right;\n",
       "    }\n",
       "</style>\n",
       "<table border=\"1\" class=\"dataframe\">\n",
       "  <thead>\n",
       "    <tr style=\"text-align: right;\">\n",
       "      <th></th>\n",
       "      <th>model</th>\n",
       "      <th>mean</th>\n",
       "      <th>std</th>\n",
       "    </tr>\n",
       "  </thead>\n",
       "  <tbody>\n",
       "    <tr>\n",
       "      <th>2</th>\n",
       "      <td>lgbm</td>\n",
       "      <td>0.808167</td>\n",
       "      <td>0.020024</td>\n",
       "    </tr>\n",
       "    <tr>\n",
       "      <th>1</th>\n",
       "      <td>xgb</td>\n",
       "      <td>0.753468</td>\n",
       "      <td>0.023617</td>\n",
       "    </tr>\n",
       "    <tr>\n",
       "      <th>3</th>\n",
       "      <td>sgd</td>\n",
       "      <td>0.677526</td>\n",
       "      <td>0.050557</td>\n",
       "    </tr>\n",
       "    <tr>\n",
       "      <th>0</th>\n",
       "      <td>lr</td>\n",
       "      <td>0.653349</td>\n",
       "      <td>0.030340</td>\n",
       "    </tr>\n",
       "    <tr>\n",
       "      <th>4</th>\n",
       "      <td>knn</td>\n",
       "      <td>0.566066</td>\n",
       "      <td>0.042427</td>\n",
       "    </tr>\n",
       "  </tbody>\n",
       "</table>\n",
       "</div>"
      ],
      "text/plain": [
       "  model      mean       std\n",
       "2  lgbm  0.808167  0.020024\n",
       "1   xgb  0.753468  0.023617\n",
       "3   sgd  0.677526  0.050557\n",
       "0    lr  0.653349  0.030340\n",
       "4   knn  0.566066  0.042427"
      ]
     },
     "execution_count": 65,
     "metadata": {},
     "output_type": "execute_result"
    }
   ],
   "source": [
    "pd.DataFrame.from_dict(list(map(lambda x:\n",
    "                      {'model': x[1], 'mean': x[2], 'std': x[3] }, results)))[[\n",
    "                       'model', 'mean', 'std'\n",
    "                      ]].sort_values('mean', ascending=False)#.style.bar()"
   ]
  },
  {
   "cell_type": "markdown",
   "metadata": {},
   "source": [
    "The best model was **Light GBM**. We will save it to use later on."
   ]
  },
  {
   "cell_type": "code",
   "execution_count": 66,
   "metadata": {},
   "outputs": [
    {
     "name": "stdout",
     "output_type": "stream",
     "text": [
      "Best model performance mean: 0.8081669155467065\n",
      "Best model performance std: 0.020024071498969502\n"
     ]
    }
   ],
   "source": [
    "model_result = list(filter(lambda x: x[1] == 'lgbm', results))[0]\n",
    "model = model_result[0]\n",
    "print('Best model performance mean:', model_result[2])\n",
    "print('Best model performance std:', model_result[3])\n",
    "#model.save('../models_pkl/experiment-1-model.pkl')"
   ]
  },
  {
   "cell_type": "markdown",
   "metadata": {},
   "source": [
    "--------------\n",
    "-------------"
   ]
  },
  {
   "cell_type": "markdown",
   "metadata": {},
   "source": [
    "### Analyzing best model"
   ]
  },
  {
   "cell_type": "code",
   "execution_count": 67,
   "metadata": {},
   "outputs": [
    {
     "data": {
      "text/plain": [
       "LGBMClassifier(boosting_type='gbdt', class_weight=None,\n",
       "               colsample_bytree=0.9555555555555555, importance_type='split',\n",
       "               is_unbalance=True, learning_rate=0.0381814913064112,\n",
       "               max_depth=-1, min_child_samples=60, min_child_weight=0.001,\n",
       "               min_split_gain=0.0, n_estimators=100, n_jobs=-1, num_leaves=71,\n",
       "               objective=None, random_state=None,\n",
       "               reg_alpha=0.061224489795918366, reg_lambda=0.5714285714285714,\n",
       "               silent=True, subsample=0.7070707070707071,\n",
       "               subsample_for_bin=140000, subsample_freq=0)"
      ]
     },
     "execution_count": 67,
     "metadata": {},
     "output_type": "execute_result"
    }
   ],
   "source": [
    "model = Model.load('../models_pkl/experiment-1-model.pkl')\n",
    "model.model"
   ]
  },
  {
   "cell_type": "code",
   "execution_count": 68,
   "metadata": {},
   "outputs": [
    {
     "data": {
      "image/png": "[encoded data removed]",
      "text/plain": [
       "<Figure size 720x432 with 1 Axes>"
      ]
     },
     "metadata": {},
     "output_type": "display_data"
    }
   ],
   "source": [
    "#model_result = list(filter(lambda x: x[1] == 'lgbm', results))[0]\n",
    "#model = model_result[0]\n",
    "plot_learning_curve(model.model, \n",
    "                    model.name.upper()+' Learning Curves',\n",
    "                    model.pipeline.fit_transform(X_train), y_train,\n",
    "                    cv=5, scoring=scorer)"
   ]
  },
  {
   "cell_type": "markdown",
   "metadata": {},
   "source": [
    "We can see that our best model performs worst than a random model when we have only 10% of our data (i.e AUC=0.5), however the performance comes better as the dataset size increase, reaching a good AUC = 0.8."
   ]
  },
  {
   "cell_type": "code",
   "execution_count": 69,
   "metadata": {},
   "outputs": [
    {
     "data": {
      "image/png": "[encoded data removed]",
      "text/plain": [
       "<Figure size 720x432 with 1 Axes>"
      ]
     },
     "metadata": {},
     "output_type": "display_data"
    }
   ],
   "source": [
    "preds = model.model.predict(model.pipeline.transform(X_test))\n",
    "probs = model.model.predict_proba(model.pipeline.transform(X_test))\n",
    "\n",
    "_ = skplt.metrics.plot_cumulative_gain(y_test, probs)"
   ]
  },
  {
   "cell_type": "markdown",
   "metadata": {},
   "source": [
    "The cumulative gains curve is an evaluation curve that assesses the performance of the model and compares the results with the random pick. It shows the percentage of targets reached when considering a certain percentage of the population (20%) with the highest probability to be target according to the model (70%)."
   ]
  },
  {
   "cell_type": "code",
   "execution_count": 70,
   "metadata": {},
   "outputs": [
    {
     "name": "stdout",
     "output_type": "stream",
     "text": [
      "              precision    recall  f1-score   support\n",
      "\n",
      "           0       0.95      0.86      0.91       307\n",
      "           1       0.54      0.79      0.65        63\n",
      "\n",
      "    accuracy                           0.85       370\n",
      "   macro avg       0.75      0.83      0.78       370\n",
      "weighted avg       0.88      0.85      0.86       370\n",
      "\n"
     ]
    },
    {
     "data": {
      "image/png": "[encoded data removed]",
      "text/plain": [
       "<Figure size 432x288 with 2 Axes>"
      ]
     },
     "metadata": {},
     "output_type": "display_data"
    }
   ],
   "source": [
    "plot_confusion_matrix(y_test, preds)"
   ]
  },
  {
   "cell_type": "markdown",
   "metadata": {},
   "source": [
    "While our model isn't very precise (we are correct in predicting a conversion 54% of the time, 46% of the time we get a false positive), it does a very good job (compared to random guessing) at finding customers that are likely to convert."
   ]
  },
  {
   "cell_type": "code",
   "execution_count": 71,
   "metadata": {},
   "outputs": [
    {
     "data": {
      "image/png": "[encoded data removed]",
      "text/plain": [
       "<Figure size 720x432 with 1 Axes>"
      ]
     },
     "metadata": {},
     "output_type": "display_data"
    }
   ],
   "source": [
    "_ = skplt.metrics.plot_lift_curve(y_test, probs)"
   ]
  },
  {
   "cell_type": "markdown",
   "metadata": {},
   "source": [
    "On the vertical axis, the lift curve indicates how many times more than average targets are included in this group. If we are targeting 10% of the population, we have 5 times more chance to find a target sample."
   ]
  },
  {
   "cell_type": "code",
   "execution_count": 72,
   "metadata": {},
   "outputs": [
    {
     "name": "stdout",
     "output_type": "stream",
     "text": [
      "              precision    recall  f1-score   support\n",
      "\n",
      "         0.0       0.00      0.00      0.00         6\n",
      "         1.0       0.84      1.00      0.91        31\n",
      "\n",
      "    accuracy                           0.84        37\n",
      "   macro avg       0.42      0.50      0.46        37\n",
      "weighted avg       0.70      0.84      0.76        37\n",
      "\n"
     ]
    },
    {
     "data": {
      "image/png": "[encoded data removed]",
      "text/plain": [
       "<Figure size 432x288 with 2 Axes>"
      ]
     },
     "metadata": {},
     "output_type": "display_data"
    }
   ],
   "source": [
    "# Create a dataframe of probabilities and actual / predicted outcomes\n",
    "probs_df = pd.DataFrame(np.hstack([probs, y_test.values.reshape(-1,1), preds.reshape(-1,1)]), \n",
    "                        columns=['p_no', 'p_yes', 'actual', 'predicted'])\n",
    "\n",
    "\n",
    "# Sort customers by the probability that they will convert\n",
    "model_targets = probs_df.sort_values('p_yes', ascending=False)\n",
    "\n",
    "# Take the top 10%\n",
    "model_targets = model_targets.head(n_targeted_test)\n",
    "\n",
    "# Calculate precision matrix\n",
    "plot_confusion_matrix(model_targets.actual, model_targets.predicted)"
   ]
  },
  {
   "cell_type": "markdown",
   "metadata": {},
   "source": [
    "Picking the top 10% fo our model prediction, the precision goes up to 84%. Which sounds a good job."
   ]
  },
  {
   "cell_type": "markdown",
   "metadata": {},
   "source": [
    "### Financial Impact of the Best Model"
   ]
  },
  {
   "cell_type": "code",
   "execution_count": 73,
   "metadata": {},
   "outputs": [
    {
     "name": "stdout",
     "output_type": "stream",
     "text": [
      "Number of customers targeted: 37/370\n",
      "Conversion rate of model policy: 83.78%\n",
      "Expected profit of model policy: $30,630\n",
      "Lift over random: 8.4 or $27,000\n",
      "Lift over baseline: 2.4 or $18,000\n"
     ]
    }
   ],
   "source": [
    "# Calculate financial outcomes\n",
    "model_outcomes = model_targets.actual.apply(lambda x: avg_cost if x == 0 else avg_cost + avg_revenue)\n",
    "\n",
    "# Calculate profit\n",
    "model_profit = sum(model_outcomes)\n",
    "\n",
    "print('Number of customers targeted: {:,}/{:,}'.format(len(model_targets), len(X_test)))\n",
    "print('Conversion rate of model policy: {:.2f}%'.format(model_targets.actual.sum() / len(model_outcomes)*100.))\n",
    "print('Expected profit of model policy: ${:,}'.format(model_profit))\n",
    "print('Lift over random: {:.1f} or ${:,}'.format(model_profit / random_profit, model_profit - random_profit))\n",
    "print('Lift over baseline: {:.1f} or ${:,}'.format(model_profit / baseline_profit, model_profit - baseline_profit))"
   ]
  },
  {
   "cell_type": "markdown",
   "metadata": {},
   "source": [
    "If we wanted to reduce the number of false positives, we could choose a probability threshold that corresponds to a lower (FPR, TPR) point on the ROC curve but assuming our profit margin is high (assuming that our cost and revenue estimatios are correct), then we can afford the misclassifications so long as the classifier does a good job of selecting customers who end up converting."
   ]
  },
  {
   "cell_type": "raw",
   "metadata": {},
   "source": [
    "<script>\n",
    "  jQuery(document).ready(function($) {\n",
    "\n",
    "  $(window).load(function(){\n",
    "    $('#preloader').fadeOut('slow',function(){$(this).remove();});\n",
    "  });\n",
    "\n",
    "  });\n",
    "</script>\n",
    "\n",
    "<style type=\"text/css\">\n",
    "  div#preloader { position: fixed;\n",
    "      left: 0;\n",
    "      top: 0;\n",
    "      z-index: 999;\n",
    "      width: 100%;\n",
    "      height: 100%;\n",
    "      overflow: visible;\n",
    "      background: #fff url('http://preloaders.net/preloaders/720/Moving%20line.gif') no-repeat center center;\n",
    "  }\n",
    "\n",
    "</style>\n",
    "\n",
    "<div id=\"preloader\"></div>"
   ]
  }
 ],
 "metadata": {
  "kernelspec": {
   "display_name": "Python 3",
   "language": "python",
   "name": "python3"
  },
  "language_info": {
   "codemirror_mode": {
    "name": "ipython",
    "version": 3
   },
   "file_extension": ".py",
   "mimetype": "text/x-python",
   "name": "python",
   "nbconvert_exporter": "python",
   "pygments_lexer": "ipython3",
   "version": "3.7.6"
  }
 },
 "nbformat": 4,
 "nbformat_minor": 4
}
